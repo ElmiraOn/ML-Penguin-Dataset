{
 "cells": [
  {
   "cell_type": "markdown",
   "id": "bbc5d4a4-8ff0-4467-8305-f15cc36241de",
   "metadata": {
    "jp-MarkdownHeadingCollapsed": true,
    "tags": []
   },
   "source": [
    "# Project 1: Predicting Penguin species "
   ]
  },
  {
   "cell_type": "markdown",
   "id": "9772053c-7c30-49a1-8381-370f7c0dc07d",
   "metadata": {
    "jp-MarkdownHeadingCollapsed": true,
    "tags": []
   },
   "source": [
    "#### by: Elmira Onagh\n",
    "\n"
   ]
  },
  {
   "cell_type": "markdown",
   "id": "b6256cea-40bc-4dd1-a5f7-977b7ce1db88",
   "metadata": {
    "tags": []
   },
   "source": [
    "### Citation 1"
   ]
  },
  {
   "cell_type": "markdown",
   "id": "d4c736cb-494a-4d66-8c26-feeac6d1c791",
   "metadata": {},
   "source": [
    "Gorman KB, Williams TD, Fraser WR (2014) Ecological Sexual Dimorphism\n",
    "and Environmental Variability within a Community of Antarctic Penguins (Genus Pygoscelis). PLoS\n",
    "ONE 9(3): e90081. doi:10.1371/journal.pone.0090081\n",
    "\n",
    "the data is taken from [here](https://github.com/allisonhorst/palmerpenguins/blob/master/README.md)\n"
   ]
  },
  {
   "cell_type": "markdown",
   "id": "e840b269-c2a5-4163-8faf-1ab4ef8b1ac5",
   "metadata": {
    "tags": []
   },
   "source": [
    "### Citation 2"
   ]
  },
  {
   "cell_type": "markdown",
   "id": "52d251fc-bc56-46cb-9847-9b8a745cc0de",
   "metadata": {},
   "source": [
    "The codes used for formatting purposes are taken from the material covered in the lecture by Prof. Archit Garg"
   ]
  },
  {
   "cell_type": "markdown",
   "id": "9cdb555b-90de-4956-ae5c-b26dac788b7d",
   "metadata": {},
   "source": [
    "### Citation 3"
   ]
  },
  {
   "cell_type": "markdown",
   "id": "f1195452-41a7-4c87-bea8-9b7cfd50a56c",
   "metadata": {},
   "source": [
    "Learning curve sections: citation: https://www.dataquest.io/blog/learning-curves-machine-learning/"
   ]
  },
  {
   "cell_type": "markdown",
   "id": "25e6491e-b942-43d7-ba03-dcb1f0776741",
   "metadata": {
    "tags": []
   },
   "source": [
    "### Variables"
   ]
  },
  {
   "cell_type": "markdown",
   "id": "02bca6ec-2d7d-43f9-ad14-74688d0d8f03",
   "metadata": {},
   "source": [
    "- **species** (str) - penguin species (Chinstrap, Adélie, or Gentoo) --> Target variable\n",
    "- **culmen_length_mm** (float) - culmen length in mm  --> continuous \n",
    "- **culmen_depth_mm** (float) - culmen depth in mm  --> continuous \n",
    "- **flipper_length_mm** (float) - flipper length in mm --> continuous \n",
    "- **body_mass_g** (float) - body mass in g  --> continuous\n",
    "- **island** (str) - island name (Dream, Torgersen, or Biscoe) in the Palmer Archipelago (Antarctica) -->categorical\n",
    "- **sex** (str) - penguin sex  --> categorical"
   ]
  },
  {
   "cell_type": "markdown",
   "id": "83755fea-5187-4f26-a3b4-7cf8c0546ea5",
   "metadata": {
    "jp-MarkdownHeadingCollapsed": true,
    "tags": []
   },
   "source": [
    "## **Part I: Exploratory Data Analysis**"
   ]
  },
  {
   "cell_type": "markdown",
   "id": "bf000f58-330d-41c6-8961-f786a1887473",
   "metadata": {
    "jp-MarkdownHeadingCollapsed": true,
    "tags": []
   },
   "source": [
    "### Reading data"
   ]
  },
  {
   "cell_type": "code",
   "execution_count": 1,
   "id": "7738e10d-7c60-452b-a53c-47b286aea2b0",
   "metadata": {},
   "outputs": [
    {
     "data": {
      "text/html": [
       "<div>\n",
       "<style scoped>\n",
       "    .dataframe tbody tr th:only-of-type {\n",
       "        vertical-align: middle;\n",
       "    }\n",
       "\n",
       "    .dataframe tbody tr th {\n",
       "        vertical-align: top;\n",
       "    }\n",
       "\n",
       "    .dataframe thead th {\n",
       "        text-align: right;\n",
       "    }\n",
       "</style>\n",
       "<table border=\"1\" class=\"dataframe\">\n",
       "  <thead>\n",
       "    <tr style=\"text-align: right;\">\n",
       "      <th></th>\n",
       "      <th>species</th>\n",
       "      <th>island</th>\n",
       "      <th>culmen_length_mm</th>\n",
       "      <th>culmen_depth_mm</th>\n",
       "      <th>flipper_length_mm</th>\n",
       "      <th>body_mass_g</th>\n",
       "      <th>sex</th>\n",
       "    </tr>\n",
       "  </thead>\n",
       "  <tbody>\n",
       "    <tr>\n",
       "      <th>0</th>\n",
       "      <td>Adelie</td>\n",
       "      <td>Torgersen</td>\n",
       "      <td>39.1</td>\n",
       "      <td>18.7</td>\n",
       "      <td>181.0</td>\n",
       "      <td>3750.0</td>\n",
       "      <td>MALE</td>\n",
       "    </tr>\n",
       "    <tr>\n",
       "      <th>1</th>\n",
       "      <td>Adelie</td>\n",
       "      <td>Torgersen</td>\n",
       "      <td>39.5</td>\n",
       "      <td>17.4</td>\n",
       "      <td>186.0</td>\n",
       "      <td>3800.0</td>\n",
       "      <td>FEMALE</td>\n",
       "    </tr>\n",
       "    <tr>\n",
       "      <th>2</th>\n",
       "      <td>Adelie</td>\n",
       "      <td>Torgersen</td>\n",
       "      <td>40.3</td>\n",
       "      <td>18.0</td>\n",
       "      <td>195.0</td>\n",
       "      <td>3250.0</td>\n",
       "      <td>FEMALE</td>\n",
       "    </tr>\n",
       "    <tr>\n",
       "      <th>3</th>\n",
       "      <td>Adelie</td>\n",
       "      <td>Torgersen</td>\n",
       "      <td>NaN</td>\n",
       "      <td>NaN</td>\n",
       "      <td>NaN</td>\n",
       "      <td>NaN</td>\n",
       "      <td>NaN</td>\n",
       "    </tr>\n",
       "    <tr>\n",
       "      <th>4</th>\n",
       "      <td>Adelie</td>\n",
       "      <td>Torgersen</td>\n",
       "      <td>36.7</td>\n",
       "      <td>19.3</td>\n",
       "      <td>193.0</td>\n",
       "      <td>3450.0</td>\n",
       "      <td>FEMALE</td>\n",
       "    </tr>\n",
       "  </tbody>\n",
       "</table>\n",
       "</div>"
      ],
      "text/plain": [
       "  species     island  culmen_length_mm  culmen_depth_mm  flipper_length_mm  \\\n",
       "0  Adelie  Torgersen              39.1             18.7              181.0   \n",
       "1  Adelie  Torgersen              39.5             17.4              186.0   \n",
       "2  Adelie  Torgersen              40.3             18.0              195.0   \n",
       "3  Adelie  Torgersen               NaN              NaN                NaN   \n",
       "4  Adelie  Torgersen              36.7             19.3              193.0   \n",
       "\n",
       "   body_mass_g     sex  \n",
       "0       3750.0    MALE  \n",
       "1       3800.0  FEMALE  \n",
       "2       3250.0  FEMALE  \n",
       "3          NaN     NaN  \n",
       "4       3450.0  FEMALE  "
      ]
     },
     "execution_count": 1,
     "metadata": {},
     "output_type": "execute_result"
    }
   ],
   "source": [
    "import matplotlib.pyplot as plt\n",
    "import numpy as np\n",
    "import pandas as pd\n",
    "import seaborn as sns\n",
    "%matplotlib inline\n",
    "\n",
    "data = pd.read_csv('penguins_size.csv')\n",
    "data.head()"
   ]
  },
  {
   "cell_type": "markdown",
   "id": "ec5a28fa-827c-442c-9506-dace9a2160ec",
   "metadata": {},
   "source": [
    "**Note: data for one Adelie species is missing (row 3)"
   ]
  },
  {
   "cell_type": "markdown",
   "id": "e40e5dc0-bc67-4d6d-a2d3-4f2a818e5d29",
   "metadata": {
    "jp-MarkdownHeadingCollapsed": true,
    "tags": []
   },
   "source": [
    "### Exploring Continuous features"
   ]
  },
  {
   "cell_type": "markdown",
   "id": "0188197b-3c3b-4077-b421-56dc9453c364",
   "metadata": {},
   "source": [
    "To explore continuous features we are going to drop the categorical features: `island` and `sex`"
   ]
  },
  {
   "cell_type": "code",
   "execution_count": 2,
   "id": "3a981486-dc7e-4d3c-9672-393b2a9d93c9",
   "metadata": {},
   "outputs": [
    {
     "data": {
      "text/html": [
       "<div>\n",
       "<style scoped>\n",
       "    .dataframe tbody tr th:only-of-type {\n",
       "        vertical-align: middle;\n",
       "    }\n",
       "\n",
       "    .dataframe tbody tr th {\n",
       "        vertical-align: top;\n",
       "    }\n",
       "\n",
       "    .dataframe thead th {\n",
       "        text-align: right;\n",
       "    }\n",
       "</style>\n",
       "<table border=\"1\" class=\"dataframe\">\n",
       "  <thead>\n",
       "    <tr style=\"text-align: right;\">\n",
       "      <th></th>\n",
       "      <th>species</th>\n",
       "      <th>culmen_length_mm</th>\n",
       "      <th>culmen_depth_mm</th>\n",
       "      <th>flipper_length_mm</th>\n",
       "      <th>body_mass_g</th>\n",
       "    </tr>\n",
       "  </thead>\n",
       "  <tbody>\n",
       "    <tr>\n",
       "      <th>0</th>\n",
       "      <td>Adelie</td>\n",
       "      <td>39.1</td>\n",
       "      <td>18.7</td>\n",
       "      <td>181.0</td>\n",
       "      <td>3750.0</td>\n",
       "    </tr>\n",
       "    <tr>\n",
       "      <th>1</th>\n",
       "      <td>Adelie</td>\n",
       "      <td>39.5</td>\n",
       "      <td>17.4</td>\n",
       "      <td>186.0</td>\n",
       "      <td>3800.0</td>\n",
       "    </tr>\n",
       "    <tr>\n",
       "      <th>2</th>\n",
       "      <td>Adelie</td>\n",
       "      <td>40.3</td>\n",
       "      <td>18.0</td>\n",
       "      <td>195.0</td>\n",
       "      <td>3250.0</td>\n",
       "    </tr>\n",
       "    <tr>\n",
       "      <th>3</th>\n",
       "      <td>Adelie</td>\n",
       "      <td>NaN</td>\n",
       "      <td>NaN</td>\n",
       "      <td>NaN</td>\n",
       "      <td>NaN</td>\n",
       "    </tr>\n",
       "    <tr>\n",
       "      <th>4</th>\n",
       "      <td>Adelie</td>\n",
       "      <td>36.7</td>\n",
       "      <td>19.3</td>\n",
       "      <td>193.0</td>\n",
       "      <td>3450.0</td>\n",
       "    </tr>\n",
       "  </tbody>\n",
       "</table>\n",
       "</div>"
      ],
      "text/plain": [
       "  species  culmen_length_mm  culmen_depth_mm  flipper_length_mm  body_mass_g\n",
       "0  Adelie              39.1             18.7              181.0       3750.0\n",
       "1  Adelie              39.5             17.4              186.0       3800.0\n",
       "2  Adelie              40.3             18.0              195.0       3250.0\n",
       "3  Adelie               NaN              NaN                NaN          NaN\n",
       "4  Adelie              36.7             19.3              193.0       3450.0"
      ]
     },
     "execution_count": 2,
     "metadata": {},
     "output_type": "execute_result"
    }
   ],
   "source": [
    "cat_feat = ['island', 'sex']\n",
    "data.drop(cat_feat, axis=1, inplace=True)\n",
    "data.head()"
   ]
  },
  {
   "cell_type": "code",
   "execution_count": 3,
   "id": "ba945b4b-07a4-4525-81f3-242f9d03df94",
   "metadata": {},
   "outputs": [
    {
     "data": {
      "text/html": [
       "<div>\n",
       "<style scoped>\n",
       "    .dataframe tbody tr th:only-of-type {\n",
       "        vertical-align: middle;\n",
       "    }\n",
       "\n",
       "    .dataframe tbody tr th {\n",
       "        vertical-align: top;\n",
       "    }\n",
       "\n",
       "    .dataframe thead th {\n",
       "        text-align: right;\n",
       "    }\n",
       "</style>\n",
       "<table border=\"1\" class=\"dataframe\">\n",
       "  <thead>\n",
       "    <tr style=\"text-align: right;\">\n",
       "      <th></th>\n",
       "      <th>culmen_length_mm</th>\n",
       "      <th>culmen_depth_mm</th>\n",
       "      <th>flipper_length_mm</th>\n",
       "      <th>body_mass_g</th>\n",
       "    </tr>\n",
       "  </thead>\n",
       "  <tbody>\n",
       "    <tr>\n",
       "      <th>count</th>\n",
       "      <td>342.000000</td>\n",
       "      <td>342.000000</td>\n",
       "      <td>342.000000</td>\n",
       "      <td>342.000000</td>\n",
       "    </tr>\n",
       "    <tr>\n",
       "      <th>mean</th>\n",
       "      <td>43.921930</td>\n",
       "      <td>17.151170</td>\n",
       "      <td>200.915205</td>\n",
       "      <td>4201.754386</td>\n",
       "    </tr>\n",
       "    <tr>\n",
       "      <th>std</th>\n",
       "      <td>5.459584</td>\n",
       "      <td>1.974793</td>\n",
       "      <td>14.061714</td>\n",
       "      <td>801.954536</td>\n",
       "    </tr>\n",
       "    <tr>\n",
       "      <th>min</th>\n",
       "      <td>32.100000</td>\n",
       "      <td>13.100000</td>\n",
       "      <td>172.000000</td>\n",
       "      <td>2700.000000</td>\n",
       "    </tr>\n",
       "    <tr>\n",
       "      <th>25%</th>\n",
       "      <td>39.225000</td>\n",
       "      <td>15.600000</td>\n",
       "      <td>190.000000</td>\n",
       "      <td>3550.000000</td>\n",
       "    </tr>\n",
       "    <tr>\n",
       "      <th>50%</th>\n",
       "      <td>44.450000</td>\n",
       "      <td>17.300000</td>\n",
       "      <td>197.000000</td>\n",
       "      <td>4050.000000</td>\n",
       "    </tr>\n",
       "    <tr>\n",
       "      <th>75%</th>\n",
       "      <td>48.500000</td>\n",
       "      <td>18.700000</td>\n",
       "      <td>213.000000</td>\n",
       "      <td>4750.000000</td>\n",
       "    </tr>\n",
       "    <tr>\n",
       "      <th>max</th>\n",
       "      <td>59.600000</td>\n",
       "      <td>21.500000</td>\n",
       "      <td>231.000000</td>\n",
       "      <td>6300.000000</td>\n",
       "    </tr>\n",
       "  </tbody>\n",
       "</table>\n",
       "</div>"
      ],
      "text/plain": [
       "       culmen_length_mm  culmen_depth_mm  flipper_length_mm  body_mass_g\n",
       "count        342.000000       342.000000         342.000000   342.000000\n",
       "mean          43.921930        17.151170         200.915205  4201.754386\n",
       "std            5.459584         1.974793          14.061714   801.954536\n",
       "min           32.100000        13.100000         172.000000  2700.000000\n",
       "25%           39.225000        15.600000         190.000000  3550.000000\n",
       "50%           44.450000        17.300000         197.000000  4050.000000\n",
       "75%           48.500000        18.700000         213.000000  4750.000000\n",
       "max           59.600000        21.500000         231.000000  6300.000000"
      ]
     },
     "execution_count": 3,
     "metadata": {},
     "output_type": "execute_result"
    }
   ],
   "source": [
    "data.describe()"
   ]
  },
  {
   "cell_type": "markdown",
   "id": "284f01e0-ec35-4a9b-bc51-a311144af7f0",
   "metadata": {},
   "source": [
    "based on the information on GitHub page (and the CSV file) the data set contains information on 344 penguins. Therefore, having the count 342 for each of continuous feature indicates that there are missing data for two data point (for 2 penguins)"
   ]
  },
  {
   "cell_type": "code",
   "execution_count": 4,
   "id": "57cf6979-217c-4932-898a-4e8db0c24beb",
   "metadata": {},
   "outputs": [
    {
     "data": {
      "text/html": [
       "<div>\n",
       "<style scoped>\n",
       "    .dataframe tbody tr th:only-of-type {\n",
       "        vertical-align: middle;\n",
       "    }\n",
       "\n",
       "    .dataframe tbody tr th {\n",
       "        vertical-align: top;\n",
       "    }\n",
       "\n",
       "    .dataframe thead th {\n",
       "        text-align: right;\n",
       "    }\n",
       "</style>\n",
       "<table border=\"1\" class=\"dataframe\">\n",
       "  <thead>\n",
       "    <tr style=\"text-align: right;\">\n",
       "      <th></th>\n",
       "      <th>culmen_length_mm</th>\n",
       "      <th>culmen_depth_mm</th>\n",
       "      <th>flipper_length_mm</th>\n",
       "      <th>body_mass_g</th>\n",
       "    </tr>\n",
       "    <tr>\n",
       "      <th>species</th>\n",
       "      <th></th>\n",
       "      <th></th>\n",
       "      <th></th>\n",
       "      <th></th>\n",
       "    </tr>\n",
       "  </thead>\n",
       "  <tbody>\n",
       "    <tr>\n",
       "      <th>Adelie</th>\n",
       "      <td>38.791391</td>\n",
       "      <td>18.346358</td>\n",
       "      <td>189.953642</td>\n",
       "      <td>3700.662252</td>\n",
       "    </tr>\n",
       "    <tr>\n",
       "      <th>Chinstrap</th>\n",
       "      <td>48.833824</td>\n",
       "      <td>18.420588</td>\n",
       "      <td>195.823529</td>\n",
       "      <td>3733.088235</td>\n",
       "    </tr>\n",
       "    <tr>\n",
       "      <th>Gentoo</th>\n",
       "      <td>47.504878</td>\n",
       "      <td>14.982114</td>\n",
       "      <td>217.186992</td>\n",
       "      <td>5076.016260</td>\n",
       "    </tr>\n",
       "  </tbody>\n",
       "</table>\n",
       "</div>"
      ],
      "text/plain": [
       "           culmen_length_mm  culmen_depth_mm  flipper_length_mm  body_mass_g\n",
       "species                                                                     \n",
       "Adelie            38.791391        18.346358         189.953642  3700.662252\n",
       "Chinstrap         48.833824        18.420588         195.823529  3733.088235\n",
       "Gentoo            47.504878        14.982114         217.186992  5076.016260"
      ]
     },
     "execution_count": 4,
     "metadata": {},
     "output_type": "execute_result"
    }
   ],
   "source": [
    "data.groupby('species').mean()"
   ]
  },
  {
   "cell_type": "markdown",
   "id": "d7b17419-4917-4d49-85a2-470723054aed",
   "metadata": {},
   "source": [
    "By grouping the data based on the species and calculating the mean, we notice few things:\n",
    "- Adelie species have shorter culmen length, wider culmen depth, shorter flippers and lighter body mass than  Gentoo.  \n",
    "- Adelie's only difference with Chinstrap is in their culmen length where Adelie has shorter culmen than Chinstrap.\n",
    "- On the other hand the only similarity between Gentoo and Chinstrap is in their culmen length and the two differ in every other feature. \n",
    "\n",
    "One strategy to differentiate between three species would be to first group the given example/penguin in either Adelie or Chinstrap+Gentoo based on its `culmen_length` then distinguish between Chinstrap and Gentoo species based on either `culmen_depth`, `flipper_length`, or `body_mass`. \n"
   ]
  },
  {
   "cell_type": "markdown",
   "id": "bd465ab7-019b-4ccd-bb73-155441e2ed48",
   "metadata": {
    "tags": []
   },
   "source": [
    "#### Plotting continuous features"
   ]
  },
  {
   "cell_type": "code",
   "execution_count": 10,
   "id": "db18b514-d0ad-477a-b45e-4ed44118d51c",
   "metadata": {},
   "outputs": [
    {
     "data": {
      "text/plain": [
       "Text(0.5, 1.0, 'culmen lenght (mm) by species')"
      ]
     },
     "execution_count": 10,
     "metadata": {},
     "output_type": "execute_result"
    },
    {
     "data": {
      "image/png": "[encoded data removed]",
      "text/plain": [
       "<Figure size 576x360 with 1 Axes>"
      ]
     },
     "metadata": {
      "needs_background": "light"
     },
     "output_type": "display_data"
    }
   ],
   "source": [
    "#plotting culmen lenght for each species\n",
    "plt.figure(figsize=(8,5))\n",
    "sns.boxplot(x='species',y='culmen_length_mm',data=data, palette='rainbow')\n",
    "plt.title(\"culmen lenght (mm) by species\")"
   ]
  },
  {
   "cell_type": "markdown",
   "id": "7942bbcf-623e-4697-9aae-92f0f33be9f3",
   "metadata": {},
   "source": [
    "box-plots have about same length suggesting that the culmen length for each species is evenly distributed. we can see that the Adelie species are fairly separated from the other two species and the data is normal. \n",
    "Two things to note are:\n",
    "1. data for the chinstrap species is slightly skewed to left \n",
    "2. there is one outlier present in the Gentoo dataset. "
   ]
  },
  {
   "cell_type": "code",
   "execution_count": 11,
   "id": "2188c0ac-8264-4a06-93e6-a77482c9dfd6",
   "metadata": {},
   "outputs": [
    {
     "data": {
      "text/plain": [
       "Text(0.5, 1.0, 'culmen depth (mm) by species')"
      ]
     },
     "execution_count": 11,
     "metadata": {},
     "output_type": "execute_result"
    },
    {
     "data": {
      "image/png": "[encoded data removed]",
      "text/plain": [
       "<Figure size 576x360 with 1 Axes>"
      ]
     },
     "metadata": {
      "needs_background": "light"
     },
     "output_type": "display_data"
    }
   ],
   "source": [
    "#plotting culmen depth for each species\n",
    "plt.figure(figsize=(8,5))\n",
    "sns.boxplot(x='species',y='culmen_depth_mm',data=data, palette='rainbow')\n",
    "plt.title(\"culmen depth (mm) by species\")"
   ]
  },
  {
   "cell_type": "markdown",
   "id": "8bba8722-45af-4c2d-9ec1-d80be08b2a9a",
   "metadata": {},
   "source": [
    "We can see that the Chinstrap species has slightly wider range when it comes to culmen depth than other two species. other than that the data is fairly distributed. The Gentoo species is reasonably separated from Adelie and Chinstrap which have a very close median. Final thing to note is the presence of one outlier in the Adelie dataset. "
   ]
  },
  {
   "cell_type": "code",
   "execution_count": 12,
   "id": "d518399e-20fa-4d2d-b265-615e7cd45a37",
   "metadata": {},
   "outputs": [
    {
     "data": {
      "text/plain": [
       "Text(0.5, 1.0, 'Flipper length (mm) by species')"
      ]
     },
     "execution_count": 12,
     "metadata": {},
     "output_type": "execute_result"
    },
    {
     "data": {
      "image/png": "[encoded data removed]",
      "text/plain": [
       "<Figure size 576x360 with 1 Axes>"
      ]
     },
     "metadata": {
      "needs_background": "light"
     },
     "output_type": "display_data"
    }
   ],
   "source": [
    "#plotting flipper length for each species\n",
    "plt.figure(figsize=(8,5))\n",
    "sns.boxplot(x='species',y='flipper_length_mm',data=data, palette='rainbow')\n",
    "plt.title(\"Flipper length (mm) by species\")"
   ]
  },
  {
   "cell_type": "markdown",
   "id": "5d1b2daf-81fa-456f-ae5e-3ac768b57322",
   "metadata": {},
   "source": [
    "The Gentoo species is separated from other two species in this feature like in culmen_depth. Adelie and Chinstrap again have a fairly close median to each other with Adelie having two outlier in either high and low end of the data"
   ]
  },
  {
   "cell_type": "code",
   "execution_count": 13,
   "id": "5d97ab89-79f3-48f1-8482-82e8e3a47323",
   "metadata": {},
   "outputs": [
    {
     "data": {
      "text/plain": [
       "Text(0.5, 1.0, 'Body Mass(g) by species')"
      ]
     },
     "execution_count": 13,
     "metadata": {},
     "output_type": "execute_result"
    },
    {
     "data": {
      "image/png": "[encoded data removed]",
      "text/plain": [
       "<Figure size 576x360 with 1 Axes>"
      ]
     },
     "metadata": {
      "needs_background": "light"
     },
     "output_type": "display_data"
    }
   ],
   "source": [
    "#plotting body mass for each species\n",
    "plt.figure(figsize=(8,5))\n",
    "sns.boxplot(x='species',y='body_mass_g',data=data, palette='rainbow')\n",
    "plt.title(\"Body Mass(g) by species\")"
   ]
  },
  {
   "cell_type": "markdown",
   "id": "fd018701-2179-4ace-841c-f70dc0fa9df0",
   "metadata": {},
   "source": [
    "As for the body mass, Gentoo species is one more time distinguished from the other two. Adelie and Chinstrap species have similar median with the difference that the Chinstrap species' body mass is more closely concentrated around the median than Adelie's. One final thing that the graph tells is the presence of two outlier in high and low ends of Chinstrap data. "
   ]
  },
  {
   "cell_type": "markdown",
   "id": "839ec4a5-7543-4bcb-aade-4a15318572a7",
   "metadata": {},
   "source": [
    "In conclusion, except few outliers our data set is fairly distributed evenly. We can use the culmen length to differentiate between Adelie and the other two species. to differentiate between Chinstrap and Gentoo we can use either `culmen_depth`, `flipper_length`, or `body_mass` (if the computation is expensive or use all three if the computation is possible)"
   ]
  },
  {
   "cell_type": "code",
   "execution_count": 14,
   "id": "44c94c15-6bc2-41ce-8354-c5ee4a464c87",
   "metadata": {},
   "outputs": [
    {
     "data": {
      "text/html": [
       "<div>\n",
       "<style scoped>\n",
       "    .dataframe tbody tr th:only-of-type {\n",
       "        vertical-align: middle;\n",
       "    }\n",
       "\n",
       "    .dataframe tbody tr th {\n",
       "        vertical-align: top;\n",
       "    }\n",
       "\n",
       "    .dataframe thead th {\n",
       "        text-align: right;\n",
       "    }\n",
       "</style>\n",
       "<table border=\"1\" class=\"dataframe\">\n",
       "  <thead>\n",
       "    <tr style=\"text-align: right;\">\n",
       "      <th></th>\n",
       "      <th>species</th>\n",
       "      <th>culmen_length_mm</th>\n",
       "      <th>culmen_depth_mm</th>\n",
       "      <th>flipper_length_mm</th>\n",
       "      <th>body_mass_g</th>\n",
       "    </tr>\n",
       "  </thead>\n",
       "  <tbody>\n",
       "    <tr>\n",
       "      <th>0</th>\n",
       "      <td>Adelie</td>\n",
       "      <td>39.1</td>\n",
       "      <td>18.7</td>\n",
       "      <td>181.0</td>\n",
       "      <td>3750.0</td>\n",
       "    </tr>\n",
       "    <tr>\n",
       "      <th>1</th>\n",
       "      <td>Adelie</td>\n",
       "      <td>39.5</td>\n",
       "      <td>17.4</td>\n",
       "      <td>186.0</td>\n",
       "      <td>3800.0</td>\n",
       "    </tr>\n",
       "    <tr>\n",
       "      <th>2</th>\n",
       "      <td>Adelie</td>\n",
       "      <td>40.3</td>\n",
       "      <td>18.0</td>\n",
       "      <td>195.0</td>\n",
       "      <td>3250.0</td>\n",
       "    </tr>\n",
       "    <tr>\n",
       "      <th>3</th>\n",
       "      <td>Adelie</td>\n",
       "      <td>NaN</td>\n",
       "      <td>NaN</td>\n",
       "      <td>NaN</td>\n",
       "      <td>NaN</td>\n",
       "    </tr>\n",
       "    <tr>\n",
       "      <th>4</th>\n",
       "      <td>Adelie</td>\n",
       "      <td>36.7</td>\n",
       "      <td>19.3</td>\n",
       "      <td>193.0</td>\n",
       "      <td>3450.0</td>\n",
       "    </tr>\n",
       "    <tr>\n",
       "      <th>5</th>\n",
       "      <td>Adelie</td>\n",
       "      <td>39.3</td>\n",
       "      <td>20.6</td>\n",
       "      <td>190.0</td>\n",
       "      <td>3650.0</td>\n",
       "    </tr>\n",
       "    <tr>\n",
       "      <th>339</th>\n",
       "      <td>Gentoo</td>\n",
       "      <td>NaN</td>\n",
       "      <td>NaN</td>\n",
       "      <td>NaN</td>\n",
       "      <td>NaN</td>\n",
       "    </tr>\n",
       "  </tbody>\n",
       "</table>\n",
       "</div>"
      ],
      "text/plain": [
       "    species  culmen_length_mm  culmen_depth_mm  flipper_length_mm  body_mass_g\n",
       "0    Adelie              39.1             18.7              181.0       3750.0\n",
       "1    Adelie              39.5             17.4              186.0       3800.0\n",
       "2    Adelie              40.3             18.0              195.0       3250.0\n",
       "3    Adelie               NaN              NaN                NaN          NaN\n",
       "4    Adelie              36.7             19.3              193.0       3450.0\n",
       "5    Adelie              39.3             20.6              190.0       3650.0\n",
       "339  Gentoo               NaN              NaN                NaN          NaN"
      ]
     },
     "execution_count": 14,
     "metadata": {},
     "output_type": "execute_result"
    }
   ],
   "source": [
    "data.groupby(data['culmen_length_mm'].isnull()).head()"
   ]
  },
  {
   "cell_type": "markdown",
   "id": "56fa2af8-b274-4627-8156-f24ded69cc90",
   "metadata": {},
   "source": [
    "by grouping the data using culmen_length to find the two missing data, we notice that one missing data was for Adelie and the other was for Gentoo species. In both cases all the continuous features were missing justifying the missing values for the other features. \n",
    "There is no indication that missing values are correlated with specific continuous feature or the target variable so we can conclude that these values are missing at random. In the next steps we fill the missing values with average of their corresponding feature. "
   ]
  },
  {
   "cell_type": "code",
   "execution_count": 15,
   "id": "c93b83f0-45fb-4296-8857-bbfd9d316ddd",
   "metadata": {},
   "outputs": [
    {
     "data": {
      "text/plain": [
       "species              0\n",
       "culmen_length_mm     0\n",
       "culmen_depth_mm      0\n",
       "flipper_length_mm    0\n",
       "body_mass_g          0\n",
       "dtype: int64"
      ]
     },
     "execution_count": 15,
     "metadata": {},
     "output_type": "execute_result"
    }
   ],
   "source": [
    "data['culmen_length_mm'].fillna(data['culmen_length_mm'].mean(), inplace=True) \n",
    "data['culmen_depth_mm'].fillna(data['culmen_depth_mm'].mean(), inplace=True) \n",
    "data['flipper_length_mm'].fillna(data['flipper_length_mm'].mean(), inplace=True) \n",
    "data['body_mass_g'].fillna(data['body_mass_g'].mean(), inplace=True) \n",
    "data.isnull().sum() "
   ]
  },
  {
   "cell_type": "code",
   "execution_count": 16,
   "id": "bb850d53-b1ac-4976-a7a4-2c322b68c050",
   "metadata": {},
   "outputs": [
    {
     "data": {
      "text/html": [
       "<div>\n",
       "<style scoped>\n",
       "    .dataframe tbody tr th:only-of-type {\n",
       "        vertical-align: middle;\n",
       "    }\n",
       "\n",
       "    .dataframe tbody tr th {\n",
       "        vertical-align: top;\n",
       "    }\n",
       "\n",
       "    .dataframe thead th {\n",
       "        text-align: right;\n",
       "    }\n",
       "</style>\n",
       "<table border=\"1\" class=\"dataframe\">\n",
       "  <thead>\n",
       "    <tr style=\"text-align: right;\">\n",
       "      <th></th>\n",
       "      <th>species</th>\n",
       "      <th>culmen_length_mm</th>\n",
       "      <th>culmen_depth_mm</th>\n",
       "      <th>flipper_length_mm</th>\n",
       "      <th>body_mass_g</th>\n",
       "    </tr>\n",
       "  </thead>\n",
       "  <tbody>\n",
       "    <tr>\n",
       "      <th>0</th>\n",
       "      <td>Adelie</td>\n",
       "      <td>39.10000</td>\n",
       "      <td>18.70000</td>\n",
       "      <td>181.000000</td>\n",
       "      <td>3750.000000</td>\n",
       "    </tr>\n",
       "    <tr>\n",
       "      <th>1</th>\n",
       "      <td>Adelie</td>\n",
       "      <td>39.50000</td>\n",
       "      <td>17.40000</td>\n",
       "      <td>186.000000</td>\n",
       "      <td>3800.000000</td>\n",
       "    </tr>\n",
       "    <tr>\n",
       "      <th>2</th>\n",
       "      <td>Adelie</td>\n",
       "      <td>40.30000</td>\n",
       "      <td>18.00000</td>\n",
       "      <td>195.000000</td>\n",
       "      <td>3250.000000</td>\n",
       "    </tr>\n",
       "    <tr>\n",
       "      <th>3</th>\n",
       "      <td>Adelie</td>\n",
       "      <td>43.92193</td>\n",
       "      <td>17.15117</td>\n",
       "      <td>200.915205</td>\n",
       "      <td>4201.754386</td>\n",
       "    </tr>\n",
       "    <tr>\n",
       "      <th>4</th>\n",
       "      <td>Adelie</td>\n",
       "      <td>36.70000</td>\n",
       "      <td>19.30000</td>\n",
       "      <td>193.000000</td>\n",
       "      <td>3450.000000</td>\n",
       "    </tr>\n",
       "  </tbody>\n",
       "</table>\n",
       "</div>"
      ],
      "text/plain": [
       "  species  culmen_length_mm  culmen_depth_mm  flipper_length_mm  body_mass_g\n",
       "0  Adelie          39.10000         18.70000         181.000000  3750.000000\n",
       "1  Adelie          39.50000         17.40000         186.000000  3800.000000\n",
       "2  Adelie          40.30000         18.00000         195.000000  3250.000000\n",
       "3  Adelie          43.92193         17.15117         200.915205  4201.754386\n",
       "4  Adelie          36.70000         19.30000         193.000000  3450.000000"
      ]
     },
     "execution_count": 16,
     "metadata": {},
     "output_type": "execute_result"
    }
   ],
   "source": [
    "data.head()"
   ]
  },
  {
   "cell_type": "markdown",
   "id": "c2fd634b-93fe-4599-a5e3-e5c9a53cda92",
   "metadata": {},
   "source": [
    "We see that one of the rows of missing data (row 3) is replaced with the average values of each feature. "
   ]
  },
  {
   "cell_type": "markdown",
   "id": "ec594e56-1154-4ebe-b59b-52437a04ef6a",
   "metadata": {
    "jp-MarkdownHeadingCollapsed": true,
    "tags": []
   },
   "source": [
    "### Exploring Categorical features"
   ]
  },
  {
   "cell_type": "code",
   "execution_count": 17,
   "id": "303190f4-024f-45fd-bf7f-1fb51bce4bde",
   "metadata": {},
   "outputs": [
    {
     "data": {
      "text/html": [
       "<div>\n",
       "<style scoped>\n",
       "    .dataframe tbody tr th:only-of-type {\n",
       "        vertical-align: middle;\n",
       "    }\n",
       "\n",
       "    .dataframe tbody tr th {\n",
       "        vertical-align: top;\n",
       "    }\n",
       "\n",
       "    .dataframe thead th {\n",
       "        text-align: right;\n",
       "    }\n",
       "</style>\n",
       "<table border=\"1\" class=\"dataframe\">\n",
       "  <thead>\n",
       "    <tr style=\"text-align: right;\">\n",
       "      <th></th>\n",
       "      <th>species</th>\n",
       "      <th>island</th>\n",
       "      <th>culmen_length_mm</th>\n",
       "      <th>culmen_depth_mm</th>\n",
       "      <th>flipper_length_mm</th>\n",
       "      <th>body_mass_g</th>\n",
       "      <th>sex</th>\n",
       "    </tr>\n",
       "  </thead>\n",
       "  <tbody>\n",
       "    <tr>\n",
       "      <th>0</th>\n",
       "      <td>Adelie</td>\n",
       "      <td>Torgersen</td>\n",
       "      <td>39.1</td>\n",
       "      <td>18.7</td>\n",
       "      <td>181.0</td>\n",
       "      <td>3750.0</td>\n",
       "      <td>MALE</td>\n",
       "    </tr>\n",
       "    <tr>\n",
       "      <th>1</th>\n",
       "      <td>Adelie</td>\n",
       "      <td>Torgersen</td>\n",
       "      <td>39.5</td>\n",
       "      <td>17.4</td>\n",
       "      <td>186.0</td>\n",
       "      <td>3800.0</td>\n",
       "      <td>FEMALE</td>\n",
       "    </tr>\n",
       "    <tr>\n",
       "      <th>2</th>\n",
       "      <td>Adelie</td>\n",
       "      <td>Torgersen</td>\n",
       "      <td>40.3</td>\n",
       "      <td>18.0</td>\n",
       "      <td>195.0</td>\n",
       "      <td>3250.0</td>\n",
       "      <td>FEMALE</td>\n",
       "    </tr>\n",
       "    <tr>\n",
       "      <th>3</th>\n",
       "      <td>Adelie</td>\n",
       "      <td>Torgersen</td>\n",
       "      <td>NaN</td>\n",
       "      <td>NaN</td>\n",
       "      <td>NaN</td>\n",
       "      <td>NaN</td>\n",
       "      <td>NaN</td>\n",
       "    </tr>\n",
       "    <tr>\n",
       "      <th>4</th>\n",
       "      <td>Adelie</td>\n",
       "      <td>Torgersen</td>\n",
       "      <td>36.7</td>\n",
       "      <td>19.3</td>\n",
       "      <td>193.0</td>\n",
       "      <td>3450.0</td>\n",
       "      <td>FEMALE</td>\n",
       "    </tr>\n",
       "  </tbody>\n",
       "</table>\n",
       "</div>"
      ],
      "text/plain": [
       "  species     island  culmen_length_mm  culmen_depth_mm  flipper_length_mm  \\\n",
       "0  Adelie  Torgersen              39.1             18.7              181.0   \n",
       "1  Adelie  Torgersen              39.5             17.4              186.0   \n",
       "2  Adelie  Torgersen              40.3             18.0              195.0   \n",
       "3  Adelie  Torgersen               NaN              NaN                NaN   \n",
       "4  Adelie  Torgersen              36.7             19.3              193.0   \n",
       "\n",
       "   body_mass_g     sex  \n",
       "0       3750.0    MALE  \n",
       "1       3800.0  FEMALE  \n",
       "2       3250.0  FEMALE  \n",
       "3          NaN     NaN  \n",
       "4       3450.0  FEMALE  "
      ]
     },
     "execution_count": 17,
     "metadata": {},
     "output_type": "execute_result"
    }
   ],
   "source": [
    "data = pd.read_csv('penguins_size.csv')\n",
    "data.head()"
   ]
  },
  {
   "cell_type": "markdown",
   "id": "82931fa7-cdd2-4b68-ad17-84263accf12a",
   "metadata": {},
   "source": [
    "to explore categorical features, first we drop all the continuous features: `culmen_length_mm`, `culmen_depth_mm`, `flipper_length_mm`, `body_mass_g`"
   ]
  },
  {
   "cell_type": "code",
   "execution_count": 18,
   "id": "6822acb6-2da2-467c-b494-534f62c4db3b",
   "metadata": {},
   "outputs": [
    {
     "data": {
      "text/html": [
       "<div>\n",
       "<style scoped>\n",
       "    .dataframe tbody tr th:only-of-type {\n",
       "        vertical-align: middle;\n",
       "    }\n",
       "\n",
       "    .dataframe tbody tr th {\n",
       "        vertical-align: top;\n",
       "    }\n",
       "\n",
       "    .dataframe thead th {\n",
       "        text-align: right;\n",
       "    }\n",
       "</style>\n",
       "<table border=\"1\" class=\"dataframe\">\n",
       "  <thead>\n",
       "    <tr style=\"text-align: right;\">\n",
       "      <th></th>\n",
       "      <th>species</th>\n",
       "      <th>island</th>\n",
       "      <th>sex</th>\n",
       "    </tr>\n",
       "  </thead>\n",
       "  <tbody>\n",
       "    <tr>\n",
       "      <th>0</th>\n",
       "      <td>Adelie</td>\n",
       "      <td>Torgersen</td>\n",
       "      <td>MALE</td>\n",
       "    </tr>\n",
       "    <tr>\n",
       "      <th>1</th>\n",
       "      <td>Adelie</td>\n",
       "      <td>Torgersen</td>\n",
       "      <td>FEMALE</td>\n",
       "    </tr>\n",
       "    <tr>\n",
       "      <th>2</th>\n",
       "      <td>Adelie</td>\n",
       "      <td>Torgersen</td>\n",
       "      <td>FEMALE</td>\n",
       "    </tr>\n",
       "    <tr>\n",
       "      <th>3</th>\n",
       "      <td>Adelie</td>\n",
       "      <td>Torgersen</td>\n",
       "      <td>NaN</td>\n",
       "    </tr>\n",
       "    <tr>\n",
       "      <th>4</th>\n",
       "      <td>Adelie</td>\n",
       "      <td>Torgersen</td>\n",
       "      <td>FEMALE</td>\n",
       "    </tr>\n",
       "  </tbody>\n",
       "</table>\n",
       "</div>"
      ],
      "text/plain": [
       "  species     island     sex\n",
       "0  Adelie  Torgersen    MALE\n",
       "1  Adelie  Torgersen  FEMALE\n",
       "2  Adelie  Torgersen  FEMALE\n",
       "3  Adelie  Torgersen     NaN\n",
       "4  Adelie  Torgersen  FEMALE"
      ]
     },
     "execution_count": 18,
     "metadata": {},
     "output_type": "execute_result"
    }
   ],
   "source": [
    "con_feat = ['culmen_length_mm', 'culmen_depth_mm', 'flipper_length_mm', 'body_mass_g']\n",
    "data.drop(con_feat, axis=1, inplace=True )\n",
    "data.head()"
   ]
  },
  {
   "cell_type": "code",
   "execution_count": 19,
   "id": "4f5083d5-b6a6-46a9-a801-6166f0ff6bf7",
   "metadata": {},
   "outputs": [
    {
     "name": "stdout",
     "output_type": "stream",
     "text": [
      "<class 'pandas.core.frame.DataFrame'>\n",
      "RangeIndex: 344 entries, 0 to 343\n",
      "Data columns (total 3 columns):\n",
      " #   Column   Non-Null Count  Dtype \n",
      "---  ------   --------------  ----- \n",
      " 0   species  344 non-null    object\n",
      " 1   island   344 non-null    object\n",
      " 2   sex      334 non-null    object\n",
      "dtypes: object(3)\n",
      "memory usage: 8.2+ KB\n"
     ]
    }
   ],
   "source": [
    "data.info()"
   ]
  },
  {
   "cell_type": "markdown",
   "id": "0a527cd2-8669-48c3-b6ce-f7c95eb40882",
   "metadata": {},
   "source": [
    "By using info() method we can see that all the features are objects. There are no missing values for the `island` feature but 10 values are missing in the `sex` feature. In the next step, we have to see whether this values are missing randomly or not:"
   ]
  },
  {
   "cell_type": "code",
   "execution_count": 20,
   "id": "6d736710-65a9-4ee7-bd5f-feeffa965469",
   "metadata": {},
   "outputs": [
    {
     "data": {
      "text/html": [
       "<div>\n",
       "<style scoped>\n",
       "    .dataframe tbody tr th:only-of-type {\n",
       "        vertical-align: middle;\n",
       "    }\n",
       "\n",
       "    .dataframe tbody tr th {\n",
       "        vertical-align: top;\n",
       "    }\n",
       "\n",
       "    .dataframe thead th {\n",
       "        text-align: right;\n",
       "    }\n",
       "</style>\n",
       "<table border=\"1\" class=\"dataframe\">\n",
       "  <thead>\n",
       "    <tr style=\"text-align: right;\">\n",
       "      <th></th>\n",
       "      <th>species</th>\n",
       "      <th>island</th>\n",
       "      <th>sex</th>\n",
       "    </tr>\n",
       "  </thead>\n",
       "  <tbody>\n",
       "    <tr>\n",
       "      <th>0</th>\n",
       "      <td>Adelie</td>\n",
       "      <td>Torgersen</td>\n",
       "      <td>MALE</td>\n",
       "    </tr>\n",
       "    <tr>\n",
       "      <th>1</th>\n",
       "      <td>Adelie</td>\n",
       "      <td>Torgersen</td>\n",
       "      <td>FEMALE</td>\n",
       "    </tr>\n",
       "    <tr>\n",
       "      <th>2</th>\n",
       "      <td>Adelie</td>\n",
       "      <td>Torgersen</td>\n",
       "      <td>FEMALE</td>\n",
       "    </tr>\n",
       "    <tr>\n",
       "      <th>3</th>\n",
       "      <td>Adelie</td>\n",
       "      <td>Torgersen</td>\n",
       "      <td>NaN</td>\n",
       "    </tr>\n",
       "    <tr>\n",
       "      <th>4</th>\n",
       "      <td>Adelie</td>\n",
       "      <td>Torgersen</td>\n",
       "      <td>FEMALE</td>\n",
       "    </tr>\n",
       "    <tr>\n",
       "      <th>5</th>\n",
       "      <td>Adelie</td>\n",
       "      <td>Torgersen</td>\n",
       "      <td>MALE</td>\n",
       "    </tr>\n",
       "    <tr>\n",
       "      <th>6</th>\n",
       "      <td>Adelie</td>\n",
       "      <td>Torgersen</td>\n",
       "      <td>FEMALE</td>\n",
       "    </tr>\n",
       "    <tr>\n",
       "      <th>7</th>\n",
       "      <td>Adelie</td>\n",
       "      <td>Torgersen</td>\n",
       "      <td>MALE</td>\n",
       "    </tr>\n",
       "    <tr>\n",
       "      <th>8</th>\n",
       "      <td>Adelie</td>\n",
       "      <td>Torgersen</td>\n",
       "      <td>NaN</td>\n",
       "    </tr>\n",
       "    <tr>\n",
       "      <th>9</th>\n",
       "      <td>Adelie</td>\n",
       "      <td>Torgersen</td>\n",
       "      <td>NaN</td>\n",
       "    </tr>\n",
       "    <tr>\n",
       "      <th>10</th>\n",
       "      <td>Adelie</td>\n",
       "      <td>Torgersen</td>\n",
       "      <td>NaN</td>\n",
       "    </tr>\n",
       "    <tr>\n",
       "      <th>11</th>\n",
       "      <td>Adelie</td>\n",
       "      <td>Torgersen</td>\n",
       "      <td>NaN</td>\n",
       "    </tr>\n",
       "    <tr>\n",
       "      <th>12</th>\n",
       "      <td>Adelie</td>\n",
       "      <td>Torgersen</td>\n",
       "      <td>FEMALE</td>\n",
       "    </tr>\n",
       "    <tr>\n",
       "      <th>13</th>\n",
       "      <td>Adelie</td>\n",
       "      <td>Torgersen</td>\n",
       "      <td>MALE</td>\n",
       "    </tr>\n",
       "    <tr>\n",
       "      <th>14</th>\n",
       "      <td>Adelie</td>\n",
       "      <td>Torgersen</td>\n",
       "      <td>MALE</td>\n",
       "    </tr>\n",
       "    <tr>\n",
       "      <th>47</th>\n",
       "      <td>Adelie</td>\n",
       "      <td>Dream</td>\n",
       "      <td>NaN</td>\n",
       "    </tr>\n",
       "    <tr>\n",
       "      <th>246</th>\n",
       "      <td>Gentoo</td>\n",
       "      <td>Biscoe</td>\n",
       "      <td>NaN</td>\n",
       "    </tr>\n",
       "    <tr>\n",
       "      <th>286</th>\n",
       "      <td>Gentoo</td>\n",
       "      <td>Biscoe</td>\n",
       "      <td>NaN</td>\n",
       "    </tr>\n",
       "    <tr>\n",
       "      <th>324</th>\n",
       "      <td>Gentoo</td>\n",
       "      <td>Biscoe</td>\n",
       "      <td>NaN</td>\n",
       "    </tr>\n",
       "    <tr>\n",
       "      <th>339</th>\n",
       "      <td>Gentoo</td>\n",
       "      <td>Biscoe</td>\n",
       "      <td>NaN</td>\n",
       "    </tr>\n",
       "  </tbody>\n",
       "</table>\n",
       "</div>"
      ],
      "text/plain": [
       "    species     island     sex\n",
       "0    Adelie  Torgersen    MALE\n",
       "1    Adelie  Torgersen  FEMALE\n",
       "2    Adelie  Torgersen  FEMALE\n",
       "3    Adelie  Torgersen     NaN\n",
       "4    Adelie  Torgersen  FEMALE\n",
       "5    Adelie  Torgersen    MALE\n",
       "6    Adelie  Torgersen  FEMALE\n",
       "7    Adelie  Torgersen    MALE\n",
       "8    Adelie  Torgersen     NaN\n",
       "9    Adelie  Torgersen     NaN\n",
       "10   Adelie  Torgersen     NaN\n",
       "11   Adelie  Torgersen     NaN\n",
       "12   Adelie  Torgersen  FEMALE\n",
       "13   Adelie  Torgersen    MALE\n",
       "14   Adelie  Torgersen    MALE\n",
       "47   Adelie      Dream     NaN\n",
       "246  Gentoo     Biscoe     NaN\n",
       "286  Gentoo     Biscoe     NaN\n",
       "324  Gentoo     Biscoe     NaN\n",
       "339  Gentoo     Biscoe     NaN"
      ]
     },
     "execution_count": 20,
     "metadata": {},
     "output_type": "execute_result"
    }
   ],
   "source": [
    "data.groupby(data['sex'].isnull()).head(10)"
   ]
  },
  {
   "cell_type": "markdown",
   "id": "25e849d3-809a-478e-ad67-7fead1841422",
   "metadata": {},
   "source": [
    "We can see that most of missing values for `sex` feature are for Adelie species in Torgersen island(5). There are also values missing for Adelie in other islands and some missing values for Gentoo as well suggesting that these missing values are mostly random. \n",
    "\n",
    "Since `sex` feature does not affect the species of a penguin, this missing values are irrelevant and we can ignore the `sex` feature all together and only focus on `island`.\n"
   ]
  },
  {
   "cell_type": "markdown",
   "id": "fd0b819a-41b5-4cda-a684-5c21f70c5257",
   "metadata": {},
   "source": [
    "#### Plotting categorical features"
   ]
  },
  {
   "cell_type": "markdown",
   "id": "81844da9-dc93-427e-b253-0dcbe78bd417",
   "metadata": {},
   "source": [
    "We are going to use count plot of each species in each island to see how they are distributed based on their recorded island:"
   ]
  },
  {
   "cell_type": "code",
   "execution_count": 21,
   "id": "1c6e2e78-725b-4c4e-8218-8f80e46f0bf2",
   "metadata": {},
   "outputs": [
    {
     "data": {
      "text/plain": [
       "Text(0.5, 1.0, 'Count of each species in each island')"
      ]
     },
     "execution_count": 21,
     "metadata": {},
     "output_type": "execute_result"
    },
    {
     "data": {
      "image/png": "[encoded data removed]",
      "text/plain": [
       "<Figure size 576x360 with 1 Axes>"
      ]
     },
     "metadata": {
      "needs_background": "light"
     },
     "output_type": "display_data"
    }
   ],
   "source": [
    "plt.figure(figsize=(8,5))\n",
    "sns.countplot(x='island',data=data, palette='rainbow',hue='species')\n",
    "plt.title(\"Count of each species in each island\")"
   ]
  },
  {
   "cell_type": "markdown",
   "id": "70e78874-b1dc-4bce-a26a-df0c32a2b5f8",
   "metadata": {},
   "source": [
    "Based on the count-plot above we can see that Adelie species are found in any of the 3 islands while Gentoo are only found in Biscoe and Chinstrap are only found in Dream island. By using pivot table, we can further support this finding:"
   ]
  },
  {
   "cell_type": "code",
   "execution_count": 22,
   "id": "2031ce9b-100e-4a26-a5a7-3004142af5ec",
   "metadata": {},
   "outputs": [
    {
     "data": {
      "text/html": [
       "<div>\n",
       "<style scoped>\n",
       "    .dataframe tbody tr th:only-of-type {\n",
       "        vertical-align: middle;\n",
       "    }\n",
       "\n",
       "    .dataframe tbody tr th {\n",
       "        vertical-align: top;\n",
       "    }\n",
       "\n",
       "    .dataframe thead th {\n",
       "        text-align: right;\n",
       "    }\n",
       "</style>\n",
       "<table border=\"1\" class=\"dataframe\">\n",
       "  <thead>\n",
       "    <tr style=\"text-align: right;\">\n",
       "      <th>island</th>\n",
       "      <th>Biscoe</th>\n",
       "      <th>Dream</th>\n",
       "      <th>Torgersen</th>\n",
       "    </tr>\n",
       "    <tr>\n",
       "      <th>species</th>\n",
       "      <th></th>\n",
       "      <th></th>\n",
       "      <th></th>\n",
       "    </tr>\n",
       "  </thead>\n",
       "  <tbody>\n",
       "    <tr>\n",
       "      <th>Adelie</th>\n",
       "      <td>44.0</td>\n",
       "      <td>55.0</td>\n",
       "      <td>47.0</td>\n",
       "    </tr>\n",
       "    <tr>\n",
       "      <th>Chinstrap</th>\n",
       "      <td>NaN</td>\n",
       "      <td>68.0</td>\n",
       "      <td>NaN</td>\n",
       "    </tr>\n",
       "    <tr>\n",
       "      <th>Gentoo</th>\n",
       "      <td>120.0</td>\n",
       "      <td>NaN</td>\n",
       "      <td>NaN</td>\n",
       "    </tr>\n",
       "  </tbody>\n",
       "</table>\n",
       "</div>"
      ],
      "text/plain": [
       "island     Biscoe  Dream  Torgersen\n",
       "species                            \n",
       "Adelie       44.0   55.0       47.0\n",
       "Chinstrap     NaN   68.0        NaN\n",
       "Gentoo      120.0    NaN        NaN"
      ]
     },
     "execution_count": 22,
     "metadata": {},
     "output_type": "execute_result"
    }
   ],
   "source": [
    "data.pivot_table('species', index='species', columns='island', aggfunc='count')"
   ]
  },
  {
   "cell_type": "markdown",
   "id": "5d291fb6-9d42-42f8-bdd8-80c979b38b7d",
   "metadata": {
    "jp-MarkdownHeadingCollapsed": true,
    "tags": []
   },
   "source": [
    "## **Part II: Cleaning data**"
   ]
  },
  {
   "cell_type": "code",
   "execution_count": 23,
   "id": "da3cac97-47f1-4fbd-9ef9-a5e801bafa87",
   "metadata": {},
   "outputs": [
    {
     "data": {
      "text/html": [
       "<div>\n",
       "<style scoped>\n",
       "    .dataframe tbody tr th:only-of-type {\n",
       "        vertical-align: middle;\n",
       "    }\n",
       "\n",
       "    .dataframe tbody tr th {\n",
       "        vertical-align: top;\n",
       "    }\n",
       "\n",
       "    .dataframe thead th {\n",
       "        text-align: right;\n",
       "    }\n",
       "</style>\n",
       "<table border=\"1\" class=\"dataframe\">\n",
       "  <thead>\n",
       "    <tr style=\"text-align: right;\">\n",
       "      <th></th>\n",
       "      <th>species</th>\n",
       "      <th>island</th>\n",
       "      <th>culmen_length_mm</th>\n",
       "      <th>culmen_depth_mm</th>\n",
       "      <th>flipper_length_mm</th>\n",
       "      <th>body_mass_g</th>\n",
       "      <th>sex</th>\n",
       "    </tr>\n",
       "  </thead>\n",
       "  <tbody>\n",
       "    <tr>\n",
       "      <th>0</th>\n",
       "      <td>Adelie</td>\n",
       "      <td>Torgersen</td>\n",
       "      <td>39.1</td>\n",
       "      <td>18.7</td>\n",
       "      <td>181.0</td>\n",
       "      <td>3750.0</td>\n",
       "      <td>MALE</td>\n",
       "    </tr>\n",
       "    <tr>\n",
       "      <th>1</th>\n",
       "      <td>Adelie</td>\n",
       "      <td>Torgersen</td>\n",
       "      <td>39.5</td>\n",
       "      <td>17.4</td>\n",
       "      <td>186.0</td>\n",
       "      <td>3800.0</td>\n",
       "      <td>FEMALE</td>\n",
       "    </tr>\n",
       "    <tr>\n",
       "      <th>2</th>\n",
       "      <td>Adelie</td>\n",
       "      <td>Torgersen</td>\n",
       "      <td>40.3</td>\n",
       "      <td>18.0</td>\n",
       "      <td>195.0</td>\n",
       "      <td>3250.0</td>\n",
       "      <td>FEMALE</td>\n",
       "    </tr>\n",
       "    <tr>\n",
       "      <th>3</th>\n",
       "      <td>Adelie</td>\n",
       "      <td>Torgersen</td>\n",
       "      <td>NaN</td>\n",
       "      <td>NaN</td>\n",
       "      <td>NaN</td>\n",
       "      <td>NaN</td>\n",
       "      <td>NaN</td>\n",
       "    </tr>\n",
       "    <tr>\n",
       "      <th>4</th>\n",
       "      <td>Adelie</td>\n",
       "      <td>Torgersen</td>\n",
       "      <td>36.7</td>\n",
       "      <td>19.3</td>\n",
       "      <td>193.0</td>\n",
       "      <td>3450.0</td>\n",
       "      <td>FEMALE</td>\n",
       "    </tr>\n",
       "  </tbody>\n",
       "</table>\n",
       "</div>"
      ],
      "text/plain": [
       "  species     island  culmen_length_mm  culmen_depth_mm  flipper_length_mm  \\\n",
       "0  Adelie  Torgersen              39.1             18.7              181.0   \n",
       "1  Adelie  Torgersen              39.5             17.4              186.0   \n",
       "2  Adelie  Torgersen              40.3             18.0              195.0   \n",
       "3  Adelie  Torgersen               NaN              NaN                NaN   \n",
       "4  Adelie  Torgersen              36.7             19.3              193.0   \n",
       "\n",
       "   body_mass_g     sex  \n",
       "0       3750.0    MALE  \n",
       "1       3800.0  FEMALE  \n",
       "2       3250.0  FEMALE  \n",
       "3          NaN     NaN  \n",
       "4       3450.0  FEMALE  "
      ]
     },
     "execution_count": 23,
     "metadata": {},
     "output_type": "execute_result"
    }
   ],
   "source": [
    "data = pd.read_csv('penguins_size.csv')\n",
    "data.head()"
   ]
  },
  {
   "cell_type": "markdown",
   "id": "6bb1f5b6-1255-424c-8e98-feaec8d80f69",
   "metadata": {},
   "source": [
    "To clean the data:\n",
    "1. First we remove the `sex` feature since the sex of penguin does not determine its species.\n",
    "2. We fill the missing values with the average values of their respective feature\n",
    "3. we convert `species` to numeric to ease the model computation :\n",
    "    - Adelie --> 0\n",
    "    - Chinstrap --> 1\n",
    "    - Gentoo --> 2\n",
    "4. we convert `island` to numeric for the same reason:\n",
    "    - Dream --> 0\n",
    "    - Torgersen --> 1\n",
    "    - Biscoe --> 2"
   ]
  },
  {
   "cell_type": "code",
   "execution_count": 24,
   "id": "4817fd3d-fc85-40a2-91aa-4be87f55d2ee",
   "metadata": {},
   "outputs": [
    {
     "data": {
      "text/html": [
       "<div>\n",
       "<style scoped>\n",
       "    .dataframe tbody tr th:only-of-type {\n",
       "        vertical-align: middle;\n",
       "    }\n",
       "\n",
       "    .dataframe tbody tr th {\n",
       "        vertical-align: top;\n",
       "    }\n",
       "\n",
       "    .dataframe thead th {\n",
       "        text-align: right;\n",
       "    }\n",
       "</style>\n",
       "<table border=\"1\" class=\"dataframe\">\n",
       "  <thead>\n",
       "    <tr style=\"text-align: right;\">\n",
       "      <th></th>\n",
       "      <th>species</th>\n",
       "      <th>island</th>\n",
       "      <th>culmen_length_mm</th>\n",
       "      <th>culmen_depth_mm</th>\n",
       "      <th>flipper_length_mm</th>\n",
       "      <th>body_mass_g</th>\n",
       "    </tr>\n",
       "  </thead>\n",
       "  <tbody>\n",
       "    <tr>\n",
       "      <th>0</th>\n",
       "      <td>Adelie</td>\n",
       "      <td>Torgersen</td>\n",
       "      <td>39.1</td>\n",
       "      <td>18.7</td>\n",
       "      <td>181.0</td>\n",
       "      <td>3750.0</td>\n",
       "    </tr>\n",
       "    <tr>\n",
       "      <th>1</th>\n",
       "      <td>Adelie</td>\n",
       "      <td>Torgersen</td>\n",
       "      <td>39.5</td>\n",
       "      <td>17.4</td>\n",
       "      <td>186.0</td>\n",
       "      <td>3800.0</td>\n",
       "    </tr>\n",
       "    <tr>\n",
       "      <th>2</th>\n",
       "      <td>Adelie</td>\n",
       "      <td>Torgersen</td>\n",
       "      <td>40.3</td>\n",
       "      <td>18.0</td>\n",
       "      <td>195.0</td>\n",
       "      <td>3250.0</td>\n",
       "    </tr>\n",
       "    <tr>\n",
       "      <th>3</th>\n",
       "      <td>Adelie</td>\n",
       "      <td>Torgersen</td>\n",
       "      <td>NaN</td>\n",
       "      <td>NaN</td>\n",
       "      <td>NaN</td>\n",
       "      <td>NaN</td>\n",
       "    </tr>\n",
       "    <tr>\n",
       "      <th>4</th>\n",
       "      <td>Adelie</td>\n",
       "      <td>Torgersen</td>\n",
       "      <td>36.7</td>\n",
       "      <td>19.3</td>\n",
       "      <td>193.0</td>\n",
       "      <td>3450.0</td>\n",
       "    </tr>\n",
       "  </tbody>\n",
       "</table>\n",
       "</div>"
      ],
      "text/plain": [
       "  species     island  culmen_length_mm  culmen_depth_mm  flipper_length_mm  \\\n",
       "0  Adelie  Torgersen              39.1             18.7              181.0   \n",
       "1  Adelie  Torgersen              39.5             17.4              186.0   \n",
       "2  Adelie  Torgersen              40.3             18.0              195.0   \n",
       "3  Adelie  Torgersen               NaN              NaN                NaN   \n",
       "4  Adelie  Torgersen              36.7             19.3              193.0   \n",
       "\n",
       "   body_mass_g  \n",
       "0       3750.0  \n",
       "1       3800.0  \n",
       "2       3250.0  \n",
       "3          NaN  \n",
       "4       3450.0  "
      ]
     },
     "execution_count": 24,
     "metadata": {},
     "output_type": "execute_result"
    }
   ],
   "source": [
    "#step1: removing the feature `sex`\n",
    "data.drop(['sex'], axis=1, inplace=True)\n",
    "data.head()"
   ]
  },
  {
   "cell_type": "code",
   "execution_count": 25,
   "id": "1f1d58e5-313d-427a-ba34-6eee5c8c306a",
   "metadata": {},
   "outputs": [
    {
     "data": {
      "text/plain": [
       "species              0\n",
       "island               0\n",
       "culmen_length_mm     2\n",
       "culmen_depth_mm      2\n",
       "flipper_length_mm    2\n",
       "body_mass_g          2\n",
       "dtype: int64"
      ]
     },
     "execution_count": 25,
     "metadata": {},
     "output_type": "execute_result"
    }
   ],
   "source": [
    "data.isnull().sum()"
   ]
  },
  {
   "cell_type": "code",
   "execution_count": 26,
   "id": "422550a1-605f-4e4f-b450-345996ec9fd0",
   "metadata": {},
   "outputs": [],
   "source": [
    "#step 2: filling missing values\n",
    "\n",
    "data['culmen_length_mm'].fillna(data['culmen_length_mm'].mean(), inplace=True)\n",
    "data['culmen_depth_mm'].fillna(data['culmen_depth_mm'].mean(), inplace=True)\n",
    "data['flipper_length_mm'].fillna(data['flipper_length_mm'].mean(), inplace=True)\n",
    "data['body_mass_g'].fillna(data['body_mass_g'].mean(), inplace=True)"
   ]
  },
  {
   "cell_type": "code",
   "execution_count": 27,
   "id": "0ded71d0-6756-463a-ad28-9e1da8f547f6",
   "metadata": {},
   "outputs": [
    {
     "data": {
      "text/plain": [
       "species              0\n",
       "island               0\n",
       "culmen_length_mm     0\n",
       "culmen_depth_mm      0\n",
       "flipper_length_mm    0\n",
       "body_mass_g          0\n",
       "dtype: int64"
      ]
     },
     "execution_count": 27,
     "metadata": {},
     "output_type": "execute_result"
    }
   ],
   "source": [
    "data.isnull().sum()"
   ]
  },
  {
   "cell_type": "code",
   "execution_count": 28,
   "id": "dbfbc56c-f8ec-4efd-80d5-6525588d632e",
   "metadata": {},
   "outputs": [
    {
     "data": {
      "text/html": [
       "<div>\n",
       "<style scoped>\n",
       "    .dataframe tbody tr th:only-of-type {\n",
       "        vertical-align: middle;\n",
       "    }\n",
       "\n",
       "    .dataframe tbody tr th {\n",
       "        vertical-align: top;\n",
       "    }\n",
       "\n",
       "    .dataframe thead th {\n",
       "        text-align: right;\n",
       "    }\n",
       "</style>\n",
       "<table border=\"1\" class=\"dataframe\">\n",
       "  <thead>\n",
       "    <tr style=\"text-align: right;\">\n",
       "      <th></th>\n",
       "      <th>species</th>\n",
       "      <th>island</th>\n",
       "      <th>culmen_length_mm</th>\n",
       "      <th>culmen_depth_mm</th>\n",
       "      <th>flipper_length_mm</th>\n",
       "      <th>body_mass_g</th>\n",
       "    </tr>\n",
       "  </thead>\n",
       "  <tbody>\n",
       "    <tr>\n",
       "      <th>0</th>\n",
       "      <td>0</td>\n",
       "      <td>Torgersen</td>\n",
       "      <td>39.10000</td>\n",
       "      <td>18.70000</td>\n",
       "      <td>181.000000</td>\n",
       "      <td>3750.000000</td>\n",
       "    </tr>\n",
       "    <tr>\n",
       "      <th>1</th>\n",
       "      <td>0</td>\n",
       "      <td>Torgersen</td>\n",
       "      <td>39.50000</td>\n",
       "      <td>17.40000</td>\n",
       "      <td>186.000000</td>\n",
       "      <td>3800.000000</td>\n",
       "    </tr>\n",
       "    <tr>\n",
       "      <th>2</th>\n",
       "      <td>0</td>\n",
       "      <td>Torgersen</td>\n",
       "      <td>40.30000</td>\n",
       "      <td>18.00000</td>\n",
       "      <td>195.000000</td>\n",
       "      <td>3250.000000</td>\n",
       "    </tr>\n",
       "    <tr>\n",
       "      <th>3</th>\n",
       "      <td>0</td>\n",
       "      <td>Torgersen</td>\n",
       "      <td>43.92193</td>\n",
       "      <td>17.15117</td>\n",
       "      <td>200.915205</td>\n",
       "      <td>4201.754386</td>\n",
       "    </tr>\n",
       "    <tr>\n",
       "      <th>4</th>\n",
       "      <td>0</td>\n",
       "      <td>Torgersen</td>\n",
       "      <td>36.70000</td>\n",
       "      <td>19.30000</td>\n",
       "      <td>193.000000</td>\n",
       "      <td>3450.000000</td>\n",
       "    </tr>\n",
       "  </tbody>\n",
       "</table>\n",
       "</div>"
      ],
      "text/plain": [
       "   species     island  culmen_length_mm  culmen_depth_mm  flipper_length_mm  \\\n",
       "0        0  Torgersen          39.10000         18.70000         181.000000   \n",
       "1        0  Torgersen          39.50000         17.40000         186.000000   \n",
       "2        0  Torgersen          40.30000         18.00000         195.000000   \n",
       "3        0  Torgersen          43.92193         17.15117         200.915205   \n",
       "4        0  Torgersen          36.70000         19.30000         193.000000   \n",
       "\n",
       "   body_mass_g  \n",
       "0  3750.000000  \n",
       "1  3800.000000  \n",
       "2  3250.000000  \n",
       "3  4201.754386  \n",
       "4  3450.000000  "
      ]
     },
     "execution_count": 28,
     "metadata": {},
     "output_type": "execute_result"
    }
   ],
   "source": [
    "#step3: converting species to numeric\n",
    "#Adelie --> 0\n",
    "#Chinstrap --> 1\n",
    "#Gentoo --> 2\n",
    "\n",
    "spe_num = {'Adelie': 0, 'Chinstrap': 1, 'Gentoo': 2}\n",
    "\n",
    "data['species'] = data['species'].map(spe_num)\n",
    "data.head()"
   ]
  },
  {
   "cell_type": "code",
   "execution_count": 29,
   "id": "08a0d563-e7e0-46ec-948b-eebafb409b60",
   "metadata": {},
   "outputs": [
    {
     "data": {
      "text/html": [
       "<div>\n",
       "<style scoped>\n",
       "    .dataframe tbody tr th:only-of-type {\n",
       "        vertical-align: middle;\n",
       "    }\n",
       "\n",
       "    .dataframe tbody tr th {\n",
       "        vertical-align: top;\n",
       "    }\n",
       "\n",
       "    .dataframe thead th {\n",
       "        text-align: right;\n",
       "    }\n",
       "</style>\n",
       "<table border=\"1\" class=\"dataframe\">\n",
       "  <thead>\n",
       "    <tr style=\"text-align: right;\">\n",
       "      <th></th>\n",
       "      <th>species</th>\n",
       "      <th>island</th>\n",
       "      <th>culmen_length_mm</th>\n",
       "      <th>culmen_depth_mm</th>\n",
       "      <th>flipper_length_mm</th>\n",
       "      <th>body_mass_g</th>\n",
       "    </tr>\n",
       "  </thead>\n",
       "  <tbody>\n",
       "    <tr>\n",
       "      <th>0</th>\n",
       "      <td>0</td>\n",
       "      <td>1</td>\n",
       "      <td>39.10000</td>\n",
       "      <td>18.70000</td>\n",
       "      <td>181.000000</td>\n",
       "      <td>3750.000000</td>\n",
       "    </tr>\n",
       "    <tr>\n",
       "      <th>1</th>\n",
       "      <td>0</td>\n",
       "      <td>1</td>\n",
       "      <td>39.50000</td>\n",
       "      <td>17.40000</td>\n",
       "      <td>186.000000</td>\n",
       "      <td>3800.000000</td>\n",
       "    </tr>\n",
       "    <tr>\n",
       "      <th>2</th>\n",
       "      <td>0</td>\n",
       "      <td>1</td>\n",
       "      <td>40.30000</td>\n",
       "      <td>18.00000</td>\n",
       "      <td>195.000000</td>\n",
       "      <td>3250.000000</td>\n",
       "    </tr>\n",
       "    <tr>\n",
       "      <th>3</th>\n",
       "      <td>0</td>\n",
       "      <td>1</td>\n",
       "      <td>43.92193</td>\n",
       "      <td>17.15117</td>\n",
       "      <td>200.915205</td>\n",
       "      <td>4201.754386</td>\n",
       "    </tr>\n",
       "    <tr>\n",
       "      <th>4</th>\n",
       "      <td>0</td>\n",
       "      <td>1</td>\n",
       "      <td>36.70000</td>\n",
       "      <td>19.30000</td>\n",
       "      <td>193.000000</td>\n",
       "      <td>3450.000000</td>\n",
       "    </tr>\n",
       "  </tbody>\n",
       "</table>\n",
       "</div>"
      ],
      "text/plain": [
       "   species  island  culmen_length_mm  culmen_depth_mm  flipper_length_mm  \\\n",
       "0        0       1          39.10000         18.70000         181.000000   \n",
       "1        0       1          39.50000         17.40000         186.000000   \n",
       "2        0       1          40.30000         18.00000         195.000000   \n",
       "3        0       1          43.92193         17.15117         200.915205   \n",
       "4        0       1          36.70000         19.30000         193.000000   \n",
       "\n",
       "   body_mass_g  \n",
       "0  3750.000000  \n",
       "1  3800.000000  \n",
       "2  3250.000000  \n",
       "3  4201.754386  \n",
       "4  3450.000000  "
      ]
     },
     "execution_count": 29,
     "metadata": {},
     "output_type": "execute_result"
    }
   ],
   "source": [
    "# step 4: converting islands to numeric\n",
    "#Dream --> 0\n",
    "#Torgersen --> 1\n",
    "#Biscoe --> 2\n",
    "\n",
    "isl_num = {'Dream': 0, 'Torgersen': 1, 'Biscoe': 2}\n",
    "\n",
    "data['island'] = data['island'].map(isl_num)\n",
    "data.head()"
   ]
  },
  {
   "cell_type": "markdown",
   "id": "d1a6371f-343e-47cd-9d56-88e5951b625a",
   "metadata": {},
   "source": [
    "After cleaning we save the cleaned data as follows:"
   ]
  },
  {
   "cell_type": "code",
   "execution_count": 30,
   "id": "f800463b-dd93-4704-816d-99d4feaa0dbe",
   "metadata": {},
   "outputs": [],
   "source": [
    "data.to_csv('penguins_cleaned.csv', index=False)"
   ]
  },
  {
   "cell_type": "markdown",
   "id": "9b541dcf-7006-4676-95c9-7838b11dab1a",
   "metadata": {
    "jp-MarkdownHeadingCollapsed": true,
    "tags": []
   },
   "source": [
    "## **Part III: Splitting data 60-20-20**"
   ]
  },
  {
   "cell_type": "markdown",
   "id": "7e90a88f-e07d-40bb-922a-494a52db2e16",
   "metadata": {
    "jp-MarkdownHeadingCollapsed": true,
    "tags": []
   },
   "source": [
    "### Reading cleaned data"
   ]
  },
  {
   "cell_type": "code",
   "execution_count": 31,
   "id": "8a58986c-d04c-45de-999c-564b763ce08e",
   "metadata": {},
   "outputs": [
    {
     "data": {
      "text/html": [
       "<div>\n",
       "<style scoped>\n",
       "    .dataframe tbody tr th:only-of-type {\n",
       "        vertical-align: middle;\n",
       "    }\n",
       "\n",
       "    .dataframe tbody tr th {\n",
       "        vertical-align: top;\n",
       "    }\n",
       "\n",
       "    .dataframe thead th {\n",
       "        text-align: right;\n",
       "    }\n",
       "</style>\n",
       "<table border=\"1\" class=\"dataframe\">\n",
       "  <thead>\n",
       "    <tr style=\"text-align: right;\">\n",
       "      <th></th>\n",
       "      <th>species</th>\n",
       "      <th>island</th>\n",
       "      <th>culmen_length_mm</th>\n",
       "      <th>culmen_depth_mm</th>\n",
       "      <th>flipper_length_mm</th>\n",
       "      <th>body_mass_g</th>\n",
       "    </tr>\n",
       "  </thead>\n",
       "  <tbody>\n",
       "    <tr>\n",
       "      <th>0</th>\n",
       "      <td>0</td>\n",
       "      <td>1</td>\n",
       "      <td>39.10000</td>\n",
       "      <td>18.70000</td>\n",
       "      <td>181.000000</td>\n",
       "      <td>3750.000000</td>\n",
       "    </tr>\n",
       "    <tr>\n",
       "      <th>1</th>\n",
       "      <td>0</td>\n",
       "      <td>1</td>\n",
       "      <td>39.50000</td>\n",
       "      <td>17.40000</td>\n",
       "      <td>186.000000</td>\n",
       "      <td>3800.000000</td>\n",
       "    </tr>\n",
       "    <tr>\n",
       "      <th>2</th>\n",
       "      <td>0</td>\n",
       "      <td>1</td>\n",
       "      <td>40.30000</td>\n",
       "      <td>18.00000</td>\n",
       "      <td>195.000000</td>\n",
       "      <td>3250.000000</td>\n",
       "    </tr>\n",
       "    <tr>\n",
       "      <th>3</th>\n",
       "      <td>0</td>\n",
       "      <td>1</td>\n",
       "      <td>43.92193</td>\n",
       "      <td>17.15117</td>\n",
       "      <td>200.915205</td>\n",
       "      <td>4201.754386</td>\n",
       "    </tr>\n",
       "    <tr>\n",
       "      <th>4</th>\n",
       "      <td>0</td>\n",
       "      <td>1</td>\n",
       "      <td>36.70000</td>\n",
       "      <td>19.30000</td>\n",
       "      <td>193.000000</td>\n",
       "      <td>3450.000000</td>\n",
       "    </tr>\n",
       "  </tbody>\n",
       "</table>\n",
       "</div>"
      ],
      "text/plain": [
       "   species  island  culmen_length_mm  culmen_depth_mm  flipper_length_mm  \\\n",
       "0        0       1          39.10000         18.70000         181.000000   \n",
       "1        0       1          39.50000         17.40000         186.000000   \n",
       "2        0       1          40.30000         18.00000         195.000000   \n",
       "3        0       1          43.92193         17.15117         200.915205   \n",
       "4        0       1          36.70000         19.30000         193.000000   \n",
       "\n",
       "   body_mass_g  \n",
       "0  3750.000000  \n",
       "1  3800.000000  \n",
       "2  3250.000000  \n",
       "3  4201.754386  \n",
       "4  3450.000000  "
      ]
     },
     "execution_count": 31,
     "metadata": {},
     "output_type": "execute_result"
    }
   ],
   "source": [
    "import pandas as pd\n",
    "from sklearn.model_selection import train_test_split\n",
    "\n",
    "data = pd.read_csv('penguins_cleaned.csv')\n",
    "data.head()"
   ]
  },
  {
   "cell_type": "markdown",
   "id": "a1f0e37b-13e2-4438-8c59-f51a2d3d9d29",
   "metadata": {
    "jp-MarkdownHeadingCollapsed": true,
    "tags": []
   },
   "source": [
    "### Splitting data:"
   ]
  },
  {
   "cell_type": "code",
   "execution_count": 32,
   "id": "41d9823b-7dfe-488d-9a5f-cca6ac946df9",
   "metadata": {},
   "outputs": [],
   "source": [
    "features = data.drop('species', axis=1)\n",
    "labels = data['species']\n",
    "\n",
    "X_train, X_test, y_train, y_test = train_test_split(features, labels, test_size=0.4, random_state=42)\n",
    "X_test, X_val, y_test, y_val = train_test_split(X_test, y_test, test_size=0.5, random_state=42)"
   ]
  },
  {
   "cell_type": "code",
   "execution_count": 33,
   "id": "54d2b402-528f-488d-8b6b-3c93f08e52b8",
   "metadata": {},
   "outputs": [
    {
     "name": "stdout",
     "output_type": "stream",
     "text": [
      "0.6\n",
      "0.2\n",
      "0.2\n"
     ]
    }
   ],
   "source": [
    "for dataset in [y_train, y_val, y_test]:\n",
    "    print(round(len(dataset) / len(labels), 2))"
   ]
  },
  {
   "cell_type": "markdown",
   "id": "e640743d-1778-4a60-831d-157aa8ddbed9",
   "metadata": {},
   "source": [
    "Saving the three datasets:"
   ]
  },
  {
   "cell_type": "code",
   "execution_count": 34,
   "id": "c21eb3eb-088c-4c2d-b2c8-674ef552a88c",
   "metadata": {},
   "outputs": [],
   "source": [
    "X_train.to_csv('train_features.csv', index=False)\n",
    "X_val.to_csv('val_features.csv', index=False)\n",
    "X_test.to_csv('test_features.csv', index=False)\n",
    "\n",
    "y_train.to_csv('train_labels.csv', index=False)\n",
    "y_val.to_csv('val_labels.csv', index=False)\n",
    "y_test.to_csv('test_labels.csv', index=False)"
   ]
  },
  {
   "cell_type": "markdown",
   "id": "9cf52929-7855-4cfc-a5d9-4c48f8207c62",
   "metadata": {
    "jp-MarkdownHeadingCollapsed": true,
    "tags": []
   },
   "source": [
    "### **Logistic regression algorithm:**"
   ]
  },
  {
   "cell_type": "code",
   "execution_count": 35,
   "id": "1688acf6-cc33-46a4-9547-d7c58e030e53",
   "metadata": {},
   "outputs": [],
   "source": [
    "import joblib\n",
    "import pandas as pd\n",
    "from sklearn.linear_model import LogisticRegression\n",
    "from sklearn.model_selection import GridSearchCV # used for tuning algorithms and hyperparameters\n",
    "from sklearn.svm import SVC\n",
    "import warnings\n",
    "warnings.filterwarnings('ignore', category=FutureWarning)\n",
    "warnings.filterwarnings('ignore', category=DeprecationWarning)\n",
    "\n",
    "tr_features = pd.read_csv('train_features.csv')\n",
    "tr_labels = pd.read_csv('train_labels.csv')"
   ]
  },
  {
   "cell_type": "markdown",
   "id": "260a46bd-76a1-422b-8789-e164c67cf406",
   "metadata": {
    "jp-MarkdownHeadingCollapsed": true,
    "tags": []
   },
   "source": [
    "#### Hyperparameter tuning: C"
   ]
  },
  {
   "cell_type": "code",
   "execution_count": 37,
   "id": "f0281fc0-e1ec-4966-9704-dcd6b06b7bb0",
   "metadata": {},
   "outputs": [],
   "source": [
    "#Citation 2\n",
    "def print_results(results):\n",
    "    print('BEST PARAMS: {}\\n'.format(results.best_params_))\n",
    "\n",
    "    means = results.cv_results_['mean_test_score']\n",
    "    stds = results.cv_results_['std_test_score']\n",
    "    for mean, std, params in zip(means, stds, results.cv_results_['params']):\n",
    "        print('{} (+/-{}) for {}'.format(round(mean, 3), round(std * 2, 3), params))"
   ]
  },
  {
   "cell_type": "markdown",
   "id": "daf34ce8-2c3e-44c1-b4bf-b997c387ee5c",
   "metadata": {},
   "source": [
    "** because of the convergence warning, increased the max_iter to 3000. "
   ]
  },
  {
   "cell_type": "code",
   "execution_count": 38,
   "id": "21c5b303-9b48-4300-b938-f2b8528e6737",
   "metadata": {},
   "outputs": [
    {
     "name": "stdout",
     "output_type": "stream",
     "text": [
      "BEST PARAMS: {'C': 100}\n",
      "\n",
      "0.893 (+/-0.079) for {'C': 0.001}\n",
      "0.971 (+/-0.036) for {'C': 0.01}\n",
      "0.981 (+/-0.019) for {'C': 0.1}\n",
      "0.981 (+/-0.019) for {'C': 1}\n",
      "0.985 (+/-0.024) for {'C': 10}\n",
      "0.995 (+/-0.02) for {'C': 100}\n",
      "0.985 (+/-0.039) for {'C': 1000}\n"
     ]
    }
   ],
   "source": [
    "lr = LogisticRegression(max_iter=3000)\n",
    "parameters = {\n",
    "    'C': [0.001, 0.01, 0.1, 1, 10, 100, 1000]\n",
    "}\n",
    "\n",
    "cv = GridSearchCV(lr, parameters, cv=5)\n",
    "cv.fit(tr_features, tr_labels.values.ravel())\n",
    "\n",
    "print_results(cv)"
   ]
  },
  {
   "cell_type": "markdown",
   "id": "7ab8782d-6d42-4917-b798-86f14dba3d99",
   "metadata": {},
   "source": [
    "With the max_iter of 3000, the best C with highest performance is C=100 which has result of 99.5% suggesting that C = 100 allows the model to differentiate between the three species. \n",
    "A\n",
    "s C decreases the model performance also decreases resulting in under-fitting and as C increase after 100, the performance also slightly drops resulting in possible over-fitting. "
   ]
  },
  {
   "cell_type": "code",
   "execution_count": 39,
   "id": "4e1db70a-5992-4904-a857-01544303a8b5",
   "metadata": {},
   "outputs": [
    {
     "data": {
      "text/plain": [
       "LogisticRegression(C=100, max_iter=3000)"
      ]
     },
     "execution_count": 39,
     "metadata": {},
     "output_type": "execute_result"
    }
   ],
   "source": [
    "cv.best_estimator_"
   ]
  },
  {
   "cell_type": "markdown",
   "id": "88d93e2d-cb7f-4010-a3ae-dc45510505e8",
   "metadata": {
    "jp-MarkdownHeadingCollapsed": true,
    "tags": []
   },
   "source": [
    "#### Learning Curve:"
   ]
  },
  {
   "cell_type": "code",
   "execution_count": 41,
   "id": "abd7dfef-e318-41fd-86d9-e4553b37d99c",
   "metadata": {},
   "outputs": [],
   "source": [
    "#citation 3\n",
    "from sklearn.model_selection import learning_curve\n",
    "# the training data is 60% of the whole data --> 206\n",
    "# we are doing 5-fold cross validation with 80% training set and 20% validation set:\n",
    "# 206 training example : 80% training (164) 20% validation (42) in cross validation\n",
    "train_sizes = [5, 20, 40, 60, 80, 100, 120, 140, 164]\n",
    "train_sizes, train_scores, validation_scores = learning_curve(\n",
    "estimator = LogisticRegression(C=100, max_iter=3000),\n",
    "X = tr_features,\n",
    "y = tr_labels.values.ravel(), train_sizes = train_sizes, cv = 5,\n",
    "scoring = 'neg_mean_squared_error')"
   ]
  },
  {
   "cell_type": "code",
   "execution_count": 44,
   "id": "2ffbc405-dbb1-42f1-bc3f-6bf7f6f5e2cf",
   "metadata": {},
   "outputs": [
    {
     "name": "stdout",
     "output_type": "stream",
     "text": [
      "Mean training scores\n",
      "\n",
      " 5     -0.0\n",
      "20    -0.0\n",
      "40    -0.0\n",
      "60    -0.0\n",
      "80    -0.0\n",
      "100   -0.0\n",
      "120   -0.0\n",
      "140   -0.0\n",
      "164   -0.0\n",
      "dtype: float64\n",
      "\n",
      " --------------------\n",
      "\n",
      "Mean validation scores\n",
      "\n",
      " 5      0.274100\n",
      "20     0.072242\n",
      "40     0.009756\n",
      "60     0.009756\n",
      "80    -0.000000\n",
      "100    0.004762\n",
      "120    0.004762\n",
      "140    0.004878\n",
      "164    0.009756\n",
      "dtype: float64\n"
     ]
    }
   ],
   "source": [
    "train_scores_mean = -train_scores.mean(axis = 1)\n",
    "validation_scores_mean = -validation_scores.mean(axis = 1)\n",
    "print('Mean training scores\\n\\n', pd.Series(train_scores_mean, index = train_sizes))\n",
    "print('\\n', '-' * 20) # separator\n",
    "print('\\nMean validation scores\\n\\n',pd.Series(validation_scores_mean, index = train_sizes))"
   ]
  },
  {
   "cell_type": "markdown",
   "id": "82af531c-9370-48b4-923e-09943a9a6bfb",
   "metadata": {},
   "source": [
    "when the model is in training, we can see that it causes 0 error regardless of training set size. This suggest the LR model is able to fit and predict perfectly in training mode. When model is tested using the validation set we can see that when the size is 5 we have the highest error score. This is because the model was trained on the a small number of data point so it is unable to make generalization and made lots of errors when tested with the validation set. As the size of the training set increases, the error rate decreases and it reaches 0 when the size is 80 and then increases again. Error scores not remaining constant suggest that having more data points for training possibly would improve the performance of LR model"
   ]
  },
  {
   "cell_type": "code",
   "execution_count": 45,
   "id": "c76e0bae-e938-4b4e-a9cc-704c9ba3e09a",
   "metadata": {},
   "outputs": [
    {
     "data": {
      "text/plain": [
       "(0.0, 0.3)"
      ]
     },
     "execution_count": 45,
     "metadata": {},
     "output_type": "execute_result"
    },
    {
     "data": {
      "image/png": "[encoded data removed]",
      "text/plain": [
       "<Figure size 576x396 with 1 Axes>"
      ]
     },
     "metadata": {},
     "output_type": "display_data"
    }
   ],
   "source": [
    "import matplotlib.pyplot as plt\n",
    "\n",
    "plt.style.use('seaborn')\n",
    "plt.plot(train_sizes, train_scores_mean, label = 'Training error')\n",
    "plt.plot(train_sizes, validation_scores_mean, label = 'Validation error')\n",
    "plt.ylabel('MSE', fontsize = 14)\n",
    "plt.xlabel('Training set size', fontsize = 14)\n",
    "plt.title('Learning curves for a LR model', fontsize = 18, y = 1.03)\n",
    "plt.legend()\n",
    "plt.ylim(0,0.3)"
   ]
  },
  {
   "cell_type": "markdown",
   "id": "87632e79-f064-479a-b8c1-0ac7fbb5d703",
   "metadata": {},
   "source": [
    "One thing of the note is that the training score for all the different training sizes is 0. This either means that the model is able to fit and predict perfectly while in training mode or there was some sort of human error in the process of outputting the scores.  Based on a quick research I have done the training score should not be zero and as the training set size increases the number of error should also increase (even if slightly). Since I could not find the error that might have set the training error scores to zero, I will assume that this model is fitting the data perfectly. \n",
    "\n",
    "The learning curve further supports the previous discussion an we can see that  as the size of the training set increases the number of errors that model makes when making predictions for the validation set decreases, suggesting that model is improving at generalizing the data for the validation examples. The number of error in validation mode reaches 0 when the training size is around 80 and starts increasing slightly afterwards. Assuming that the training error is correct and since the two training and validation lines do not converge, increasing data points for training might be useful. \n",
    "\n",
    "Since both training and validation errors are low and the gap between the two is narrow, we can conclude that as the training set size increases, we have a model with lower bias and variance meaning our model has the optimum complexity. "
   ]
  },
  {
   "cell_type": "code",
   "execution_count": 46,
   "id": "26870aea-e9a2-40e3-9f7f-96cfedcde369",
   "metadata": {},
   "outputs": [
    {
     "data": {
      "text/plain": [
       "['LR_model.pkl']"
      ]
     },
     "execution_count": 46,
     "metadata": {},
     "output_type": "execute_result"
    }
   ],
   "source": [
    "joblib.dump(cv.best_estimator_, 'LR_model.pkl')"
   ]
  },
  {
   "cell_type": "markdown",
   "id": "1ff55ae2-85be-49c4-b17b-ccc9b65c9b9b",
   "metadata": {
    "jp-MarkdownHeadingCollapsed": true,
    "tags": []
   },
   "source": [
    "### **Support Vector Machine (SVM)**"
   ]
  },
  {
   "cell_type": "markdown",
   "id": "b9a8de07-346e-41cc-ae4c-d222316deb67",
   "metadata": {
    "jp-MarkdownHeadingCollapsed": true,
    "tags": []
   },
   "source": [
    "#### Hyperparameter Tuning: C & Kernel"
   ]
  },
  {
   "cell_type": "code",
   "execution_count": 47,
   "id": "b32adab7-527c-4970-aa1d-5d4a40716c8a",
   "metadata": {},
   "outputs": [
    {
     "name": "stdout",
     "output_type": "stream",
     "text": [
      "BEST PARAMS: {'C': 0.1, 'kernel': 'linear'}\n",
      "\n",
      "0.99 (+/-0.024) for {'C': 0.1, 'kernel': 'linear'}\n",
      "0.748 (+/-0.021) for {'C': 0.1, 'kernel': 'rbf'}\n",
      "0.985 (+/-0.039) for {'C': 1, 'kernel': 'linear'}\n",
      "0.748 (+/-0.048) for {'C': 1, 'kernel': 'rbf'}\n",
      "0.99 (+/-0.039) for {'C': 10, 'kernel': 'linear'}\n",
      "0.743 (+/-0.049) for {'C': 10, 'kernel': 'rbf'}\n"
     ]
    }
   ],
   "source": [
    "svc = SVC()\n",
    "parameters = { # used to search for the hyperparameters\n",
    "    'kernel': ['linear', 'rbf'],\n",
    "    'C': [0.1, 1, 10]\n",
    "}\n",
    "\n",
    "cv = GridSearchCV(svc, parameters, cv=5) # cv = 5 --> 5 fold validation\n",
    "cv.fit(tr_features, tr_labels.values.ravel())\n",
    "\n",
    "print_results(cv)"
   ]
  },
  {
   "cell_type": "markdown",
   "id": "6b6b95b2-a257-4f7a-b42d-f716bdce7553",
   "metadata": {},
   "source": [
    "Based on the above values, we can see that kernel has a great impact on the performance of the model and linear kernel is doing relatively better than rbf suggesting that our data is linearly separable. We can also see that the performance of the three values of C are fairly similar with minor difference but overall the linear kernel with C = 0.1 has the best performance with 99% performance rate. "
   ]
  },
  {
   "cell_type": "code",
   "execution_count": 48,
   "id": "e834e639-d87b-4564-a7e1-fca9f118123e",
   "metadata": {},
   "outputs": [
    {
     "data": {
      "text/plain": [
       "SVC(C=0.1, kernel='linear')"
      ]
     },
     "execution_count": 48,
     "metadata": {},
     "output_type": "execute_result"
    }
   ],
   "source": [
    "cv.best_estimator_"
   ]
  },
  {
   "cell_type": "markdown",
   "id": "f2a83b5a-c0af-4618-ac3f-4d50bff678bb",
   "metadata": {
    "jp-MarkdownHeadingCollapsed": true,
    "tags": []
   },
   "source": [
    "#### Learning Curve"
   ]
  },
  {
   "cell_type": "code",
   "execution_count": 49,
   "id": "46bc5182-de22-4ffc-aefc-4105fc3a0e24",
   "metadata": {},
   "outputs": [],
   "source": [
    "#citation 3\n",
    "from sklearn.model_selection import learning_curve\n",
    "# the training data is 60% of the whole data --> 206\n",
    "# we are doing 5-fold cross validation with 80% training set and 20% validation set:\n",
    "# 206 training example : 80% training (164) 20% validation (42) in cross validation\n",
    "train_sizes = [5, 20, 40, 60, 80, 100, 120, 140, 164]\n",
    "train_sizes, train_scores, validation_scores = learning_curve(\n",
    "estimator = SVC(C=0.1, kernel='linear'),\n",
    "X = tr_features,\n",
    "y = tr_labels.values.ravel(), train_sizes = train_sizes, cv = 5,\n",
    "scoring = 'neg_mean_squared_error')"
   ]
  },
  {
   "cell_type": "code",
   "execution_count": 50,
   "id": "5584efd6-8f33-408c-b633-0a60af2c92e0",
   "metadata": {},
   "outputs": [
    {
     "name": "stdout",
     "output_type": "stream",
     "text": [
      "Mean training scores\n",
      "\n",
      " 5     -0.000000\n",
      "20     0.040000\n",
      "40     0.025000\n",
      "60     0.020000\n",
      "80     0.015000\n",
      "100    0.004000\n",
      "120    0.003333\n",
      "140    0.004286\n",
      "164    0.003659\n",
      "dtype: float64\n",
      "\n",
      " --------------------\n",
      "\n",
      "Mean validation scores\n",
      "\n",
      " 5      0.343670\n",
      "20     0.125784\n",
      "40     0.082578\n",
      "60     0.063066\n",
      "80     0.048664\n",
      "100    0.058188\n",
      "120    0.019164\n",
      "140    0.009640\n",
      "164    0.009640\n",
      "dtype: float64\n"
     ]
    }
   ],
   "source": [
    "train_scores_mean = -train_scores.mean(axis = 1)\n",
    "validation_scores_mean = -validation_scores.mean(axis = 1)\n",
    "print('Mean training scores\\n\\n', pd.Series(train_scores_mean, index = train_sizes))\n",
    "print('\\n', '-' * 20) # separator\n",
    "print('\\nMean validation scores\\n\\n',pd.Series(validation_scores_mean, index = train_sizes))"
   ]
  },
  {
   "cell_type": "markdown",
   "id": "ac35817f-ca11-480e-9e43-d41a925297d0",
   "metadata": {},
   "source": [
    "When the  model is training with very small size of the training set (5) we can see that it makes 0 errors and as the the training set size increases the errors model make also changes and starts to decrease. When the model is being tested on the validation set we can see that for small size of the training set it makes many errors. This is most  likely due to model's inability to make generalization. As the training set size increases we can see that model is making less and less errors suggesting that model is improving in make generalization and fitting and predicting new data points. "
   ]
  },
  {
   "cell_type": "code",
   "execution_count": 51,
   "id": "4cabe331-e5e7-41c4-9d92-ebd4538fdb8c",
   "metadata": {},
   "outputs": [
    {
     "data": {
      "text/plain": [
       "(0.0, 0.4)"
      ]
     },
     "execution_count": 51,
     "metadata": {},
     "output_type": "execute_result"
    },
    {
     "data": {
      "image/png": "[encoded data removed]",
      "text/plain": [
       "<Figure size 576x396 with 1 Axes>"
      ]
     },
     "metadata": {},
     "output_type": "display_data"
    }
   ],
   "source": [
    "import matplotlib.pyplot as plt\n",
    "\n",
    "plt.style.use('seaborn')\n",
    "plt.plot(train_sizes, train_scores_mean, label = 'Training error')\n",
    "plt.plot(train_sizes, validation_scores_mean, label = 'Validation error')\n",
    "plt.ylabel('MSE', fontsize = 14)\n",
    "plt.xlabel('Training set size', fontsize = 14)\n",
    "plt.title('Learning curves for SVM model', fontsize = 18, y = 1.03)\n",
    "plt.legend()\n",
    "plt.ylim(0,0.4)"
   ]
  },
  {
   "cell_type": "markdown",
   "id": "e8b51f97-9ca3-48ff-b9e3-081bc84d13ab",
   "metadata": {},
   "source": [
    "The learning curve plot further supports out finding. Up to size 120, both training and validation errors decrease but there is a fairly big gap between the two lines suggesting that we are dealing with low bias and high variance. However when the training set size reaches 140, this gap considerably narrows down, indicating that our model has a low variance. Also after 140 point, there is not much change in either validation or training error meaning that adding more  data points to the training  wont improve the model's performance significantly. \n",
    "\n",
    "having a low bias and variance indicates that our model has optimum complexity "
   ]
  },
  {
   "cell_type": "code",
   "execution_count": 52,
   "id": "e5a4e4d1-b2ed-4bcc-93b0-229cbef89504",
   "metadata": {},
   "outputs": [
    {
     "data": {
      "text/plain": [
       "['SVM_model.pkl']"
      ]
     },
     "execution_count": 52,
     "metadata": {},
     "output_type": "execute_result"
    }
   ],
   "source": [
    "# writing out the model\n",
    "joblib.dump(cv.best_estimator_, 'SVM_model.pkl')"
   ]
  },
  {
   "cell_type": "markdown",
   "id": "2109f427-86b2-49f2-81cf-81844e916511",
   "metadata": {
    "jp-MarkdownHeadingCollapsed": true,
    "tags": []
   },
   "source": [
    "### **Multi Layered Perceptron (MLP)**"
   ]
  },
  {
   "cell_type": "code",
   "execution_count": 53,
   "id": "39614a96-1c5e-4f3e-9b33-f76215613656",
   "metadata": {},
   "outputs": [],
   "source": [
    "import joblib\n",
    "import pandas as pd\n",
    "from sklearn.model_selection import GridSearchCV\n",
    "from sklearn.neural_network import MLPClassifier\n",
    "import warnings\n",
    "warnings.filterwarnings('ignore', category=FutureWarning)\n",
    "warnings.filterwarnings('ignore', category=DeprecationWarning)\n",
    "\n",
    "tr_features = pd.read_csv('train_features.csv')\n",
    "tr_labels = pd.read_csv('train_labels.csv')"
   ]
  },
  {
   "cell_type": "markdown",
   "id": "ed2be3db-1019-4cff-abfd-71cfd9640490",
   "metadata": {
    "jp-MarkdownHeadingCollapsed": true,
    "tags": []
   },
   "source": [
    "#### Hyperparameter tuning: hidden_layer_sizes, Activation, learning_rate"
   ]
  },
  {
   "cell_type": "code",
   "execution_count": 54,
   "id": "a257fd4a-1abe-48be-84df-45f4f1459b75",
   "metadata": {},
   "outputs": [
    {
     "name": "stdout",
     "output_type": "stream",
     "text": [
      "BEST PARAMS: {'activation': 'logistic', 'hidden_layer_sizes': (100,), 'learning_rate': 'constant'}\n",
      "\n",
      "0.399 (+/-0.237) for {'activation': 'relu', 'hidden_layer_sizes': (10,), 'learning_rate': 'constant'}\n",
      "0.365 (+/-0.158) for {'activation': 'relu', 'hidden_layer_sizes': (10,), 'learning_rate': 'invscaling'}\n",
      "0.34 (+/-0.28) for {'activation': 'relu', 'hidden_layer_sizes': (10,), 'learning_rate': 'adaptive'}\n",
      "0.5 (+/-0.261) for {'activation': 'relu', 'hidden_layer_sizes': (50,), 'learning_rate': 'constant'}\n",
      "0.344 (+/-0.231) for {'activation': 'relu', 'hidden_layer_sizes': (50,), 'learning_rate': 'invscaling'}\n",
      "0.389 (+/-0.109) for {'activation': 'relu', 'hidden_layer_sizes': (50,), 'learning_rate': 'adaptive'}\n",
      "0.379 (+/-0.061) for {'activation': 'relu', 'hidden_layer_sizes': (100,), 'learning_rate': 'constant'}\n",
      "0.407 (+/-0.148) for {'activation': 'relu', 'hidden_layer_sizes': (100,), 'learning_rate': 'invscaling'}\n",
      "0.349 (+/-0.113) for {'activation': 'relu', 'hidden_layer_sizes': (100,), 'learning_rate': 'adaptive'}\n",
      "0.486 (+/-0.247) for {'activation': 'tanh', 'hidden_layer_sizes': (10,), 'learning_rate': 'constant'}\n",
      "0.427 (+/-0.022) for {'activation': 'tanh', 'hidden_layer_sizes': (10,), 'learning_rate': 'invscaling'}\n",
      "0.427 (+/-0.022) for {'activation': 'tanh', 'hidden_layer_sizes': (10,), 'learning_rate': 'adaptive'}\n",
      "0.543 (+/-0.285) for {'activation': 'tanh', 'hidden_layer_sizes': (50,), 'learning_rate': 'constant'}\n",
      "0.489 (+/-0.25) for {'activation': 'tanh', 'hidden_layer_sizes': (50,), 'learning_rate': 'invscaling'}\n",
      "0.486 (+/-0.3) for {'activation': 'tanh', 'hidden_layer_sizes': (50,), 'learning_rate': 'adaptive'}\n",
      "0.524 (+/-0.251) for {'activation': 'tanh', 'hidden_layer_sizes': (100,), 'learning_rate': 'constant'}\n",
      "0.592 (+/-0.28) for {'activation': 'tanh', 'hidden_layer_sizes': (100,), 'learning_rate': 'invscaling'}\n",
      "0.457 (+/-0.209) for {'activation': 'tanh', 'hidden_layer_sizes': (100,), 'learning_rate': 'adaptive'}\n",
      "0.427 (+/-0.022) for {'activation': 'logistic', 'hidden_layer_sizes': (10,), 'learning_rate': 'constant'}\n",
      "0.466 (+/-0.251) for {'activation': 'logistic', 'hidden_layer_sizes': (10,), 'learning_rate': 'invscaling'}\n",
      "0.413 (+/-0.05) for {'activation': 'logistic', 'hidden_layer_sizes': (10,), 'learning_rate': 'adaptive'}\n",
      "0.603 (+/-0.452) for {'activation': 'logistic', 'hidden_layer_sizes': (50,), 'learning_rate': 'constant'}\n",
      "0.665 (+/-0.438) for {'activation': 'logistic', 'hidden_layer_sizes': (50,), 'learning_rate': 'invscaling'}\n",
      "0.732 (+/-0.364) for {'activation': 'logistic', 'hidden_layer_sizes': (50,), 'learning_rate': 'adaptive'}\n",
      "0.878 (+/-0.44) for {'activation': 'logistic', 'hidden_layer_sizes': (100,), 'learning_rate': 'constant'}\n",
      "0.725 (+/-0.52) for {'activation': 'logistic', 'hidden_layer_sizes': (100,), 'learning_rate': 'invscaling'}\n",
      "0.649 (+/-0.554) for {'activation': 'logistic', 'hidden_layer_sizes': (100,), 'learning_rate': 'adaptive'}\n"
     ]
    }
   ],
   "source": [
    "mlp = MLPClassifier(max_iter = 2500)\n",
    "parameters = {\n",
    "    'hidden_layer_sizes': [(10,), (50,), (100,)],\n",
    "    'activation': ['relu', 'tanh', 'logistic'],\n",
    "    'learning_rate': ['constant', 'invscaling', 'adaptive']\n",
    "}\n",
    "\n",
    "cv = GridSearchCV(mlp, parameters, cv=5)\n",
    "cv.fit(tr_features, tr_labels.values.ravel())\n",
    "\n",
    "print_results(cv)"
   ]
  },
  {
   "cell_type": "markdown",
   "id": "684cf124-7fb1-483d-ab8d-7167ed5ae720",
   "metadata": {},
   "source": [
    "We can see that logistic activation generally results in higher performance. Together with hidden layer size of 100 and constant learning rate the MLP model has the performance of 87.8%. "
   ]
  },
  {
   "cell_type": "code",
   "execution_count": 55,
   "id": "2f7c1958-e101-40e6-86f0-49e2c2d24fb4",
   "metadata": {},
   "outputs": [
    {
     "data": {
      "text/plain": [
       "MLPClassifier(activation='logistic', max_iter=2500)"
      ]
     },
     "execution_count": 55,
     "metadata": {},
     "output_type": "execute_result"
    }
   ],
   "source": [
    "cv.best_estimator_"
   ]
  },
  {
   "cell_type": "markdown",
   "id": "05dbe850-a73a-40c8-86e1-79625d5c9998",
   "metadata": {
    "jp-MarkdownHeadingCollapsed": true,
    "tags": []
   },
   "source": [
    "#### Learning Curve"
   ]
  },
  {
   "cell_type": "code",
   "execution_count": 56,
   "id": "8dc35abb-0ab7-41a6-a451-3799be1bb3ef",
   "metadata": {},
   "outputs": [],
   "source": [
    "#citation 3\n",
    "from sklearn.model_selection import learning_curve\n",
    "# the training data is 60% of the whole data --> 206\n",
    "# we are doing 5-fold cross validation with 80% training set and 20% validation set:\n",
    "# 206 training example : 80% training (164) 20% validation (42) in cross validation\n",
    "train_sizes = [5, 20, 40, 60, 80, 100, 120, 140, 164]\n",
    "train_sizes, train_scores, validation_scores = learning_curve(\n",
    "estimator = MLPClassifier(activation='logistic', hidden_layer_sizes=100, learning_rate='invscaling', max_iter=2500),\n",
    "X = tr_features,\n",
    "y = tr_labels.values.ravel(), train_sizes = train_sizes, cv = 5,\n",
    "scoring = 'neg_mean_squared_error')"
   ]
  },
  {
   "cell_type": "code",
   "execution_count": 57,
   "id": "664a1581-76ea-4400-8e06-b9fc22cb34ff",
   "metadata": {},
   "outputs": [
    {
     "name": "stdout",
     "output_type": "stream",
     "text": [
      "Mean training scores\n",
      "\n",
      " 5      0.240000\n",
      "20     0.480000\n",
      "40     0.725000\n",
      "60     0.336667\n",
      "80     1.315000\n",
      "100    0.438000\n",
      "120    0.648333\n",
      "140    0.091429\n",
      "164    0.712195\n",
      "dtype: float64\n",
      "\n",
      " --------------------\n",
      "\n",
      "Mean validation scores\n",
      "\n",
      " 5      0.713240\n",
      "20     0.750174\n",
      "40     0.824158\n",
      "60     0.341347\n",
      "80     1.318815\n",
      "100    0.390012\n",
      "120    0.658420\n",
      "140    0.097445\n",
      "164    0.694425\n",
      "dtype: float64\n"
     ]
    }
   ],
   "source": [
    "train_scores_mean = -train_scores.mean(axis = 1)\n",
    "validation_scores_mean = -validation_scores.mean(axis = 1)\n",
    "print('Mean training scores\\n\\n', pd.Series(train_scores_mean, index = train_sizes))\n",
    "print('\\n', '-' * 20) # separator\n",
    "print('\\nMean validation scores\\n\\n',pd.Series(validation_scores_mean, index = train_sizes))"
   ]
  },
  {
   "cell_type": "markdown",
   "id": "5b8838f6-35d2-40a6-a1db-db615f4b12c3",
   "metadata": {},
   "source": [
    "We cannot see any clear pattern from the number except that error rates are oscillating quite a lot. This might be because our dataset is quite small and MLP is not suitable for small amount of data and mostly used for larger data. "
   ]
  },
  {
   "cell_type": "code",
   "execution_count": 58,
   "id": "694a2a8d-ab77-42da-9f6a-8527670dc9f0",
   "metadata": {},
   "outputs": [
    {
     "data": {
      "text/plain": [
       "(0.0, 2.0)"
      ]
     },
     "execution_count": 58,
     "metadata": {},
     "output_type": "execute_result"
    },
    {
     "data": {
      "image/png": "[encoded data removed]",
      "text/plain": [
       "<Figure size 576x396 with 1 Axes>"
      ]
     },
     "metadata": {},
     "output_type": "display_data"
    }
   ],
   "source": [
    "import matplotlib.pyplot as plt\n",
    "\n",
    "plt.style.use('seaborn')\n",
    "plt.plot(train_sizes, train_scores_mean, label = 'Training error')\n",
    "plt.plot(train_sizes, validation_scores_mean, label = 'Validation error')\n",
    "plt.ylabel('MSE', fontsize = 14)\n",
    "plt.xlabel('Training set size', fontsize = 14)\n",
    "plt.title('Learning curves for MLP model', fontsize = 18, y = 1.03)\n",
    "plt.legend()\n",
    "plt.ylim(0,2)"
   ]
  },
  {
   "cell_type": "markdown",
   "id": "1a63e7bf-251e-4915-8934-980d7599b5aa",
   "metadata": {},
   "source": [
    "the plot show that both training and validation error scores are following the same pattern. Neither of them is decreasing therefore the model has high bias. However both training and validation are following the same pattern and the gap between them is small. This suggests two things. First, the model has low variance and second adding extra data point will not help the model to improve and make better prediction meaning that the MLP is not suitable for our problem and we should consider other algorithms. \n",
    "\n",
    "Since MLP model has high bias and low variance we can conclude that this model is under fitting our data. "
   ]
  },
  {
   "cell_type": "code",
   "execution_count": 129,
   "id": "36e33bad-0a67-41eb-af3a-4840a84e077b",
   "metadata": {},
   "outputs": [
    {
     "data": {
      "text/plain": [
       "['MLP_model.pkl']"
      ]
     },
     "execution_count": 129,
     "metadata": {},
     "output_type": "execute_result"
    }
   ],
   "source": [
    "joblib.dump(cv.best_estimator_, 'MLP_model.pkl')"
   ]
  },
  {
   "cell_type": "markdown",
   "id": "9a295f5b-c8e0-4cf9-a8c6-6d263117821b",
   "metadata": {
    "jp-MarkdownHeadingCollapsed": true,
    "tags": []
   },
   "source": [
    "### **RF**"
   ]
  },
  {
   "cell_type": "code",
   "execution_count": 65,
   "id": "41deea8c-d69b-456b-8bd2-4d1f06034d7f",
   "metadata": {},
   "outputs": [],
   "source": [
    "import joblib\n",
    "import pandas as pd\n",
    "from sklearn.ensemble import RandomForestClassifier\n",
    "from sklearn.model_selection import GridSearchCV\n",
    "import warnings\n",
    "warnings.filterwarnings('ignore', category=FutureWarning)\n",
    "warnings.filterwarnings('ignore', category=DeprecationWarning)\n",
    "\n",
    "tr_features = pd.read_csv('train_features.csv')\n",
    "tr_labels = pd.read_csv('train_labels.csv')"
   ]
  },
  {
   "cell_type": "markdown",
   "id": "f8e9475d-07ba-47d2-adda-cf5733242e49",
   "metadata": {
    "jp-MarkdownHeadingCollapsed": true,
    "tags": []
   },
   "source": [
    "#### Hyperparameter tuning: n_estimators, max_depth"
   ]
  },
  {
   "cell_type": "code",
   "execution_count": 67,
   "id": "e33eed60-861a-4e61-b418-b9c081591db8",
   "metadata": {},
   "outputs": [
    {
     "name": "stdout",
     "output_type": "stream",
     "text": [
      "BEST PARAMS: {'max_depth': 8, 'n_estimators': 250}\n",
      "\n",
      "0.952 (+/-0.043) for {'max_depth': 2, 'n_estimators': 5}\n",
      "0.966 (+/-0.023) for {'max_depth': 2, 'n_estimators': 50}\n",
      "0.971 (+/-0.019) for {'max_depth': 2, 'n_estimators': 250}\n",
      "0.976 (+/-0.03) for {'max_depth': 4, 'n_estimators': 5}\n",
      "0.976 (+/-0.03) for {'max_depth': 4, 'n_estimators': 50}\n",
      "0.976 (+/-0.03) for {'max_depth': 4, 'n_estimators': 250}\n",
      "0.981 (+/-0.036) for {'max_depth': 8, 'n_estimators': 5}\n",
      "0.981 (+/-0.036) for {'max_depth': 8, 'n_estimators': 50}\n",
      "0.986 (+/-0.038) for {'max_depth': 8, 'n_estimators': 250}\n",
      "0.971 (+/-0.019) for {'max_depth': 16, 'n_estimators': 5}\n",
      "0.981 (+/-0.036) for {'max_depth': 16, 'n_estimators': 50}\n",
      "0.976 (+/-0.03) for {'max_depth': 16, 'n_estimators': 250}\n",
      "0.976 (+/-0.043) for {'max_depth': 32, 'n_estimators': 5}\n",
      "0.981 (+/-0.036) for {'max_depth': 32, 'n_estimators': 50}\n",
      "0.981 (+/-0.036) for {'max_depth': 32, 'n_estimators': 250}\n",
      "0.947 (+/-0.056) for {'max_depth': None, 'n_estimators': 5}\n",
      "0.981 (+/-0.036) for {'max_depth': None, 'n_estimators': 50}\n",
      "0.981 (+/-0.036) for {'max_depth': None, 'n_estimators': 250}\n"
     ]
    }
   ],
   "source": [
    "rf = RandomForestClassifier()\n",
    "parameters = {\n",
    "    'n_estimators': [5, 50, 250],\n",
    "    'max_depth': [2, 4, 8, 16, 32, None]\n",
    "}\n",
    "\n",
    "cv = GridSearchCV(rf, parameters, cv=5)\n",
    "cv.fit(tr_features, tr_labels.values.ravel())\n",
    "\n",
    "print_results(cv)"
   ]
  },
  {
   "cell_type": "markdown",
   "id": "ea21a8a6-c3dd-41b4-b4b6-0bcc4302c7d5",
   "metadata": {},
   "source": [
    "both n_estimator parameter and max_depth are affecting the performance of mode with n-estimators having a greater effect. When max_depth = 8 and there are 250 estimators, the model achieves its highest performance of 98.6%"
   ]
  },
  {
   "cell_type": "code",
   "execution_count": 68,
   "id": "e4d810bd-a0ff-407b-ae73-ccd0b301977c",
   "metadata": {},
   "outputs": [
    {
     "data": {
      "text/plain": [
       "RandomForestClassifier(max_depth=8, n_estimators=250)"
      ]
     },
     "execution_count": 68,
     "metadata": {},
     "output_type": "execute_result"
    }
   ],
   "source": [
    "cv.best_estimator_"
   ]
  },
  {
   "cell_type": "markdown",
   "id": "777a0fa3-3e02-4433-93d6-105b8f8c7076",
   "metadata": {
    "jp-MarkdownHeadingCollapsed": true,
    "tags": []
   },
   "source": [
    "#### Learning Curve"
   ]
  },
  {
   "cell_type": "code",
   "execution_count": 69,
   "id": "d5249791-6f6a-4c43-97ee-91f18ca2af85",
   "metadata": {},
   "outputs": [],
   "source": [
    "#citation 3\n",
    "from sklearn.model_selection import learning_curve\n",
    "# the training data is 60% of the whole data --> 206\n",
    "# we are doing 5-fold cross validation with 80% training set and 20% validation set:\n",
    "# 206 training example : 80% training (164) 20% validation (42) in cross validation\n",
    "train_sizes = [5, 20, 40, 60, 80, 100, 120, 140, 164]\n",
    "train_sizes, train_scores, validation_scores = learning_curve(\n",
    "estimator = RandomForestClassifier(max_depth=8, n_estimators=250),\n",
    "X = tr_features,\n",
    "y = tr_labels.values.ravel(), train_sizes = train_sizes, cv = 5,\n",
    "scoring = 'neg_mean_squared_error')"
   ]
  },
  {
   "cell_type": "code",
   "execution_count": 70,
   "id": "147ff137-5730-4f09-b511-a1fa35577f03",
   "metadata": {},
   "outputs": [
    {
     "name": "stdout",
     "output_type": "stream",
     "text": [
      "Mean training scores\n",
      "\n",
      " 5     -0.0\n",
      "20    -0.0\n",
      "40    -0.0\n",
      "60    -0.0\n",
      "80    -0.0\n",
      "100   -0.0\n",
      "120   -0.0\n",
      "140   -0.0\n",
      "164   -0.0\n",
      "dtype: float64\n",
      "\n",
      " --------------------\n",
      "\n",
      "Mean validation scores\n",
      "\n",
      " 5      0.255981\n",
      "20     0.057840\n",
      "40     0.057840\n",
      "60     0.028920\n",
      "80     0.038676\n",
      "100    0.043554\n",
      "120    0.019280\n",
      "140    0.019280\n",
      "164    0.014402\n",
      "dtype: float64\n"
     ]
    }
   ],
   "source": [
    "train_scores_mean = -train_scores.mean(axis = 1)\n",
    "validation_scores_mean = -validation_scores.mean(axis = 1)\n",
    "print('Mean training scores\\n\\n', pd.Series(train_scores_mean, index = train_sizes))\n",
    "print('\\n', '-' * 20) # separator\n",
    "print('\\nMean validation scores\\n\\n',pd.Series(validation_scores_mean, index = train_sizes))"
   ]
  },
  {
   "cell_type": "markdown",
   "id": "fa2da7b7-6c0f-4ec2-9632-a6d50704d48d",
   "metadata": {},
   "source": [
    "When in training, the model is able to fit and predict the data perfectly regardless of the data size. when tested on the validation set we can see that for the smaller size of training set, the models make many errors suggesting that the model is unable to make generalizations. As the size of the training size increases, the errors the model makes decreases indicating that the model is improving and is making more precise predictions. "
   ]
  },
  {
   "cell_type": "code",
   "execution_count": 71,
   "id": "c43c27b2-3541-43cf-ab93-fec1503703e6",
   "metadata": {},
   "outputs": [
    {
     "data": {
      "text/plain": [
       "(0.0, 0.4)"
      ]
     },
     "execution_count": 71,
     "metadata": {},
     "output_type": "execute_result"
    },
    {
     "data": {
      "image/png": "[encoded data removed]",
      "text/plain": [
       "<Figure size 576x396 with 1 Axes>"
      ]
     },
     "metadata": {},
     "output_type": "display_data"
    }
   ],
   "source": [
    "import matplotlib.pyplot as plt\n",
    "\n",
    "plt.style.use('seaborn')\n",
    "plt.plot(train_sizes, train_scores_mean, label = 'Training error')\n",
    "plt.plot(train_sizes, validation_scores_mean, label = 'Validation error')\n",
    "plt.ylabel('MSE', fontsize = 14)\n",
    "plt.xlabel('Training set size', fontsize = 14)\n",
    "plt.title('Learning curves for RF model', fontsize = 18, y = 1.03)\n",
    "plt.legend()\n",
    "plt.ylim(0,0.4)"
   ]
  },
  {
   "cell_type": "markdown",
   "id": "24857190-72aa-4863-84cb-c51d5a77432d",
   "metadata": {},
   "source": [
    "The plot also support our findings. Furthermore the low value of training error suggests that our model has low bias. However since the gap between the training and validation error is high, our model has a high variance compared to previous models. Since both lines remain different from each other and don't follow the same pattern, increasing the number of data point in our training might improve the model's  performance and it is one thing that we should consider.  \n",
    "\n",
    "the high variance and low bias suggest that RF model is over fitting our data"
   ]
  },
  {
   "cell_type": "code",
   "execution_count": 72,
   "id": "2c93ade0-6010-42f5-90b7-1fa5aba15735",
   "metadata": {},
   "outputs": [
    {
     "data": {
      "text/plain": [
       "['RF_model.pkl']"
      ]
     },
     "execution_count": 72,
     "metadata": {},
     "output_type": "execute_result"
    }
   ],
   "source": [
    "joblib.dump(cv.best_estimator_, 'RF_model.pkl')"
   ]
  },
  {
   "cell_type": "markdown",
   "id": "5bd5d07d-92d5-4a18-9676-31fc284ff66b",
   "metadata": {
    "jp-MarkdownHeadingCollapsed": true,
    "tags": []
   },
   "source": [
    "### **Boosting**"
   ]
  },
  {
   "cell_type": "markdown",
   "id": "ba454758-3979-4dd8-84db-ee62ef13a61c",
   "metadata": {
    "jp-MarkdownHeadingCollapsed": true,
    "tags": []
   },
   "source": [
    "#### Hyperparameter tuning: n-estimators, max_depth, & learning_rate Tuning"
   ]
  },
  {
   "cell_type": "code",
   "execution_count": 73,
   "id": "3cf9176d-f673-4611-a713-1ba5a2f0d62c",
   "metadata": {},
   "outputs": [
    {
     "name": "stdout",
     "output_type": "stream",
     "text": [
      "BEST PARAMS: {'learning_rate': 1, 'max_depth': 3, 'n_estimators': 5}\n",
      "\n",
      "0.427 (+/-0.022) for {'learning_rate': 0.01, 'max_depth': 1, 'n_estimators': 5}\n",
      "0.917 (+/-0.05) for {'learning_rate': 0.01, 'max_depth': 1, 'n_estimators': 50}\n",
      "0.966 (+/-0.023) for {'learning_rate': 0.01, 'max_depth': 1, 'n_estimators': 250}\n",
      "0.981 (+/-0.036) for {'learning_rate': 0.01, 'max_depth': 1, 'n_estimators': 500}\n",
      "0.427 (+/-0.022) for {'learning_rate': 0.01, 'max_depth': 3, 'n_estimators': 5}\n",
      "0.981 (+/-0.036) for {'learning_rate': 0.01, 'max_depth': 3, 'n_estimators': 50}\n",
      "0.981 (+/-0.036) for {'learning_rate': 0.01, 'max_depth': 3, 'n_estimators': 250}\n",
      "0.981 (+/-0.036) for {'learning_rate': 0.01, 'max_depth': 3, 'n_estimators': 500}\n",
      "0.427 (+/-0.022) for {'learning_rate': 0.01, 'max_depth': 5, 'n_estimators': 5}\n",
      "0.961 (+/-0.05) for {'learning_rate': 0.01, 'max_depth': 5, 'n_estimators': 50}\n",
      "0.971 (+/-0.036) for {'learning_rate': 0.01, 'max_depth': 5, 'n_estimators': 250}\n",
      "0.971 (+/-0.036) for {'learning_rate': 0.01, 'max_depth': 5, 'n_estimators': 500}\n",
      "0.427 (+/-0.022) for {'learning_rate': 0.01, 'max_depth': 7, 'n_estimators': 5}\n",
      "0.966 (+/-0.05) for {'learning_rate': 0.01, 'max_depth': 7, 'n_estimators': 50}\n",
      "0.971 (+/-0.036) for {'learning_rate': 0.01, 'max_depth': 7, 'n_estimators': 250}\n",
      "0.971 (+/-0.036) for {'learning_rate': 0.01, 'max_depth': 7, 'n_estimators': 500}\n",
      "0.427 (+/-0.022) for {'learning_rate': 0.01, 'max_depth': 9, 'n_estimators': 5}\n",
      "0.961 (+/-0.05) for {'learning_rate': 0.01, 'max_depth': 9, 'n_estimators': 50}\n",
      "0.971 (+/-0.036) for {'learning_rate': 0.01, 'max_depth': 9, 'n_estimators': 250}\n",
      "0.971 (+/-0.036) for {'learning_rate': 0.01, 'max_depth': 9, 'n_estimators': 500}\n",
      "0.917 (+/-0.05) for {'learning_rate': 0.1, 'max_depth': 1, 'n_estimators': 5}\n",
      "0.981 (+/-0.036) for {'learning_rate': 0.1, 'max_depth': 1, 'n_estimators': 50}\n",
      "0.976 (+/-0.052) for {'learning_rate': 0.1, 'max_depth': 1, 'n_estimators': 250}\n",
      "0.976 (+/-0.052) for {'learning_rate': 0.1, 'max_depth': 1, 'n_estimators': 500}\n",
      "0.981 (+/-0.036) for {'learning_rate': 0.1, 'max_depth': 3, 'n_estimators': 5}\n",
      "0.981 (+/-0.036) for {'learning_rate': 0.1, 'max_depth': 3, 'n_estimators': 50}\n",
      "0.981 (+/-0.036) for {'learning_rate': 0.1, 'max_depth': 3, 'n_estimators': 250}\n",
      "0.976 (+/-0.052) for {'learning_rate': 0.1, 'max_depth': 3, 'n_estimators': 500}\n",
      "0.966 (+/-0.05) for {'learning_rate': 0.1, 'max_depth': 5, 'n_estimators': 5}\n",
      "0.971 (+/-0.036) for {'learning_rate': 0.1, 'max_depth': 5, 'n_estimators': 50}\n",
      "0.971 (+/-0.036) for {'learning_rate': 0.1, 'max_depth': 5, 'n_estimators': 250}\n",
      "0.971 (+/-0.036) for {'learning_rate': 0.1, 'max_depth': 5, 'n_estimators': 500}\n",
      "0.961 (+/-0.05) for {'learning_rate': 0.1, 'max_depth': 7, 'n_estimators': 5}\n",
      "0.971 (+/-0.036) for {'learning_rate': 0.1, 'max_depth': 7, 'n_estimators': 50}\n",
      "0.971 (+/-0.036) for {'learning_rate': 0.1, 'max_depth': 7, 'n_estimators': 250}\n",
      "0.971 (+/-0.036) for {'learning_rate': 0.1, 'max_depth': 7, 'n_estimators': 500}\n",
      "0.961 (+/-0.05) for {'learning_rate': 0.1, 'max_depth': 9, 'n_estimators': 5}\n",
      "0.971 (+/-0.036) for {'learning_rate': 0.1, 'max_depth': 9, 'n_estimators': 50}\n",
      "0.971 (+/-0.036) for {'learning_rate': 0.1, 'max_depth': 9, 'n_estimators': 250}\n",
      "0.971 (+/-0.036) for {'learning_rate': 0.1, 'max_depth': 9, 'n_estimators': 500}\n",
      "0.976 (+/-0.03) for {'learning_rate': 1, 'max_depth': 1, 'n_estimators': 5}\n",
      "0.981 (+/-0.036) for {'learning_rate': 1, 'max_depth': 1, 'n_estimators': 50}\n",
      "0.981 (+/-0.036) for {'learning_rate': 1, 'max_depth': 1, 'n_estimators': 250}\n",
      "0.981 (+/-0.036) for {'learning_rate': 1, 'max_depth': 1, 'n_estimators': 500}\n",
      "0.985 (+/-0.024) for {'learning_rate': 1, 'max_depth': 3, 'n_estimators': 5}\n",
      "0.981 (+/-0.036) for {'learning_rate': 1, 'max_depth': 3, 'n_estimators': 50}\n",
      "0.981 (+/-0.036) for {'learning_rate': 1, 'max_depth': 3, 'n_estimators': 250}\n",
      "0.981 (+/-0.036) for {'learning_rate': 1, 'max_depth': 3, 'n_estimators': 500}\n",
      "0.961 (+/-0.066) for {'learning_rate': 1, 'max_depth': 5, 'n_estimators': 5}\n",
      "0.961 (+/-0.066) for {'learning_rate': 1, 'max_depth': 5, 'n_estimators': 50}\n",
      "0.966 (+/-0.049) for {'learning_rate': 1, 'max_depth': 5, 'n_estimators': 250}\n",
      "0.966 (+/-0.049) for {'learning_rate': 1, 'max_depth': 5, 'n_estimators': 500}\n",
      "0.976 (+/-0.031) for {'learning_rate': 1, 'max_depth': 7, 'n_estimators': 5}\n",
      "0.961 (+/-0.066) for {'learning_rate': 1, 'max_depth': 7, 'n_estimators': 50}\n",
      "0.966 (+/-0.049) for {'learning_rate': 1, 'max_depth': 7, 'n_estimators': 250}\n",
      "0.966 (+/-0.049) for {'learning_rate': 1, 'max_depth': 7, 'n_estimators': 500}\n",
      "0.961 (+/-0.066) for {'learning_rate': 1, 'max_depth': 9, 'n_estimators': 5}\n",
      "0.966 (+/-0.049) for {'learning_rate': 1, 'max_depth': 9, 'n_estimators': 50}\n",
      "0.966 (+/-0.049) for {'learning_rate': 1, 'max_depth': 9, 'n_estimators': 250}\n",
      "0.966 (+/-0.049) for {'learning_rate': 1, 'max_depth': 9, 'n_estimators': 500}\n",
      "0.485 (+/-0.324) for {'learning_rate': 10, 'max_depth': 1, 'n_estimators': 5}\n",
      "0.485 (+/-0.324) for {'learning_rate': 10, 'max_depth': 1, 'n_estimators': 50}\n",
      "0.485 (+/-0.324) for {'learning_rate': 10, 'max_depth': 1, 'n_estimators': 250}\n",
      "0.485 (+/-0.324) for {'learning_rate': 10, 'max_depth': 1, 'n_estimators': 500}\n",
      "0.947 (+/-0.046) for {'learning_rate': 10, 'max_depth': 3, 'n_estimators': 5}\n",
      "0.956 (+/-0.047) for {'learning_rate': 10, 'max_depth': 3, 'n_estimators': 50}\n",
      "0.952 (+/-0.043) for {'learning_rate': 10, 'max_depth': 3, 'n_estimators': 250}\n",
      "0.961 (+/-0.038) for {'learning_rate': 10, 'max_depth': 3, 'n_estimators': 500}\n",
      "0.966 (+/-0.023) for {'learning_rate': 10, 'max_depth': 5, 'n_estimators': 5}\n",
      "0.971 (+/-0.036) for {'learning_rate': 10, 'max_depth': 5, 'n_estimators': 50}\n",
      "0.971 (+/-0.048) for {'learning_rate': 10, 'max_depth': 5, 'n_estimators': 250}\n",
      "0.971 (+/-0.036) for {'learning_rate': 10, 'max_depth': 5, 'n_estimators': 500}\n",
      "0.971 (+/-0.019) for {'learning_rate': 10, 'max_depth': 7, 'n_estimators': 5}\n",
      "0.971 (+/-0.036) for {'learning_rate': 10, 'max_depth': 7, 'n_estimators': 50}\n",
      "0.971 (+/-0.048) for {'learning_rate': 10, 'max_depth': 7, 'n_estimators': 250}\n",
      "0.971 (+/-0.036) for {'learning_rate': 10, 'max_depth': 7, 'n_estimators': 500}\n",
      "0.966 (+/-0.023) for {'learning_rate': 10, 'max_depth': 9, 'n_estimators': 5}\n",
      "0.971 (+/-0.036) for {'learning_rate': 10, 'max_depth': 9, 'n_estimators': 50}\n",
      "0.971 (+/-0.048) for {'learning_rate': 10, 'max_depth': 9, 'n_estimators': 250}\n",
      "0.966 (+/-0.049) for {'learning_rate': 10, 'max_depth': 9, 'n_estimators': 500}\n",
      "0.451 (+/-0.212) for {'learning_rate': 100, 'max_depth': 1, 'n_estimators': 5}\n",
      "0.451 (+/-0.212) for {'learning_rate': 100, 'max_depth': 1, 'n_estimators': 50}\n",
      "0.451 (+/-0.212) for {'learning_rate': 100, 'max_depth': 1, 'n_estimators': 250}\n",
      "0.451 (+/-0.212) for {'learning_rate': 100, 'max_depth': 1, 'n_estimators': 500}\n",
      "0.956 (+/-0.057) for {'learning_rate': 100, 'max_depth': 3, 'n_estimators': 5}\n",
      "0.956 (+/-0.057) for {'learning_rate': 100, 'max_depth': 3, 'n_estimators': 50}\n",
      "0.956 (+/-0.057) for {'learning_rate': 100, 'max_depth': 3, 'n_estimators': 250}\n",
      "0.956 (+/-0.057) for {'learning_rate': 100, 'max_depth': 3, 'n_estimators': 500}\n",
      "0.956 (+/-0.036) for {'learning_rate': 100, 'max_depth': 5, 'n_estimators': 5}\n",
      "0.961 (+/-0.024) for {'learning_rate': 100, 'max_depth': 5, 'n_estimators': 50}\n",
      "0.951 (+/-0.031) for {'learning_rate': 100, 'max_depth': 5, 'n_estimators': 250}\n",
      "0.961 (+/-0.05) for {'learning_rate': 100, 'max_depth': 5, 'n_estimators': 500}\n",
      "0.971 (+/-0.036) for {'learning_rate': 100, 'max_depth': 7, 'n_estimators': 5}\n",
      "0.942 (+/-0.024) for {'learning_rate': 100, 'max_depth': 7, 'n_estimators': 50}\n",
      "0.961 (+/-0.05) for {'learning_rate': 100, 'max_depth': 7, 'n_estimators': 250}\n",
      "0.961 (+/-0.039) for {'learning_rate': 100, 'max_depth': 7, 'n_estimators': 500}\n",
      "0.966 (+/-0.023) for {'learning_rate': 100, 'max_depth': 9, 'n_estimators': 5}\n",
      "0.966 (+/-0.023) for {'learning_rate': 100, 'max_depth': 9, 'n_estimators': 50}\n",
      "0.971 (+/-0.036) for {'learning_rate': 100, 'max_depth': 9, 'n_estimators': 250}\n",
      "0.961 (+/-0.05) for {'learning_rate': 100, 'max_depth': 9, 'n_estimators': 500}\n"
     ]
    }
   ],
   "source": [
    "from sklearn.ensemble import GradientBoostingClassifier\n",
    "\n",
    "gb = GradientBoostingClassifier()\n",
    "parameters = {\n",
    "    'n_estimators': [5, 50, 250, 500],\n",
    "    'max_depth': [1, 3, 5, 7, 9],\n",
    "    'learning_rate': [0.01, 0.1, 1, 10, 100]\n",
    "}\n",
    "\n",
    "cv = GridSearchCV(gb, parameters, cv=5)\n",
    "cv.fit(tr_features, tr_labels.values.ravel())\n",
    "\n",
    "print_results(cv)"
   ]
  },
  {
   "cell_type": "markdown",
   "id": "693b6c07-a4e4-4ad1-861d-1914b61204fc",
   "metadata": {},
   "source": [
    "overall the model has the best performance (98.5%) with learning rate of 1, max_depth of 3 and 5 estimators. "
   ]
  },
  {
   "cell_type": "code",
   "execution_count": 74,
   "id": "d776798f-e759-4aa1-9788-adde709869c4",
   "metadata": {},
   "outputs": [
    {
     "data": {
      "text/plain": [
       "GradientBoostingClassifier(learning_rate=1, n_estimators=5)"
      ]
     },
     "execution_count": 74,
     "metadata": {},
     "output_type": "execute_result"
    }
   ],
   "source": [
    "cv.best_estimator_"
   ]
  },
  {
   "cell_type": "markdown",
   "id": "20774057-2571-423c-accf-74d3e12975f8",
   "metadata": {
    "jp-MarkdownHeadingCollapsed": true,
    "tags": []
   },
   "source": [
    "#### Learning Curve"
   ]
  },
  {
   "cell_type": "code",
   "execution_count": 75,
   "id": "5214cc32-7209-4b49-8707-078600d121f2",
   "metadata": {},
   "outputs": [],
   "source": [
    "#citation 3\n",
    "from sklearn.model_selection import learning_curve\n",
    "# the training data is 60% of the whole data --> 206\n",
    "# we are doing 5-fold cross validation with 80% training set and 20% validation set:\n",
    "# 206 training example : 80% training (164) 20% validation (42) in cross validation\n",
    "train_sizes = [5, 20, 40, 60, 80, 100, 120, 140, 164]\n",
    "train_sizes, train_scores, validation_scores = learning_curve(\n",
    "estimator = GradientBoostingClassifier(learning_rate=1, max_depth = 3, n_estimators=5),\n",
    "X = tr_features,\n",
    "y = tr_labels.values.ravel(), train_sizes = train_sizes, cv = 5,\n",
    "scoring = 'neg_mean_squared_error')"
   ]
  },
  {
   "cell_type": "code",
   "execution_count": 76,
   "id": "d243b728-40b4-4df2-8056-0314a27d2f46",
   "metadata": {},
   "outputs": [
    {
     "name": "stdout",
     "output_type": "stream",
     "text": [
      "Mean training scores\n",
      "\n",
      " 5     -0.0\n",
      "20    -0.0\n",
      "40    -0.0\n",
      "60    -0.0\n",
      "80    -0.0\n",
      "100   -0.0\n",
      "120   -0.0\n",
      "140   -0.0\n",
      "164   -0.0\n",
      "dtype: float64\n",
      "\n",
      " --------------------\n",
      "\n",
      "Mean validation scores\n",
      "\n",
      " 5      0.503833\n",
      "20     0.169570\n",
      "40     0.082230\n",
      "60     0.076887\n",
      "80     0.038792\n",
      "100    0.038792\n",
      "120    0.057840\n",
      "140    0.067480\n",
      "164    0.024274\n",
      "dtype: float64\n"
     ]
    }
   ],
   "source": [
    "train_scores_mean = -train_scores.mean(axis = 1)\n",
    "validation_scores_mean = -validation_scores.mean(axis = 1)\n",
    "print('Mean training scores\\n\\n', pd.Series(train_scores_mean, index = train_sizes))\n",
    "print('\\n', '-' * 20) # separator\n",
    "print('\\nMean validation scores\\n\\n',pd.Series(validation_scores_mean, index = train_sizes))"
   ]
  },
  {
   "cell_type": "markdown",
   "id": "36e89ced-6574-438a-b5ec-4651467c1a18",
   "metadata": {},
   "source": [
    "0 training error suggest the model is able to fit and predict while being trained regardless of training set size. While being tested on the validation set, the model makes many errors for smaller sizes since it is unable of making generalization. As the size increase we can see that the model make less errors suggesting that it is getting better at making predictions. "
   ]
  },
  {
   "cell_type": "code",
   "execution_count": 77,
   "id": "fcae6b1c-dd20-4dcd-9310-4ee65436cc21",
   "metadata": {},
   "outputs": [
    {
     "data": {
      "text/plain": [
       "(0.0, 0.6)"
      ]
     },
     "execution_count": 77,
     "metadata": {},
     "output_type": "execute_result"
    },
    {
     "data": {
      "image/png": "[encoded data removed]",
      "text/plain": [
       "<Figure size 576x396 with 1 Axes>"
      ]
     },
     "metadata": {},
     "output_type": "display_data"
    }
   ],
   "source": [
    "import matplotlib.pyplot as plt\n",
    "\n",
    "plt.style.use('seaborn')\n",
    "plt.plot(train_sizes, train_scores_mean, label = 'Training error')\n",
    "plt.plot(train_sizes, validation_scores_mean, label = 'Validation error')\n",
    "plt.ylabel('MSE', fontsize = 14)\n",
    "plt.xlabel('Training set size', fontsize = 14)\n",
    "plt.title('Learning curves for GB model', fontsize = 18, y = 1.03)\n",
    "plt.legend()\n",
    "plt.ylim(0,0.6)"
   ]
  },
  {
   "cell_type": "markdown",
   "id": "5550b761-df9c-485a-8cc7-84eed5699f3b",
   "metadata": {},
   "source": [
    " The model has the lowest bias and variance when the training set size is set to 100. overall the model has a low bias but since the gap between training and validation is higher than other models, this model has higher variance. This means that the models is over fitting. \n",
    "\n",
    "Finally, since the training and validation set lines continue to differ and do not converge or become constant, we can conclude that adding more data points in training will most likely improve the model significantly. "
   ]
  },
  {
   "cell_type": "code",
   "execution_count": 78,
   "id": "5aa607f6-a88b-4821-8006-569b36ea3ed5",
   "metadata": {},
   "outputs": [
    {
     "data": {
      "text/plain": [
       "['GB_model.pkl']"
      ]
     },
     "execution_count": 78,
     "metadata": {},
     "output_type": "execute_result"
    }
   ],
   "source": [
    "joblib.dump(cv.best_estimator_, 'GB_model.pkl')"
   ]
  },
  {
   "cell_type": "markdown",
   "id": "85b2cfd1-1b1f-4f78-acfd-80545a2d4c4f",
   "metadata": {
    "jp-MarkdownHeadingCollapsed": true,
    "tags": []
   },
   "source": [
    "### **Model comparison**"
   ]
  },
  {
   "cell_type": "markdown",
   "id": "f5131feb-7f17-42f8-8dbb-cb4b1e171f81",
   "metadata": {
    "jp-MarkdownHeadingCollapsed": true,
    "tags": []
   },
   "source": [
    "#### Read in Data"
   ]
  },
  {
   "cell_type": "code",
   "execution_count": 79,
   "id": "ae671f51-7e08-4cd7-a863-0339bf9d13a3",
   "metadata": {},
   "outputs": [],
   "source": [
    "import joblib\n",
    "import pandas as pd\n",
    "from sklearn.metrics import accuracy_score, precision_score, recall_score\n",
    "from time import time\n",
    "\n",
    "val_features = pd.read_csv('val_features.csv')\n",
    "val_labels = pd.read_csv('val_labels.csv')\n",
    "\n",
    "te_features = pd.read_csv('test_features.csv')\n",
    "te_labels = pd.read_csv('test_labels.csv')"
   ]
  },
  {
   "cell_type": "markdown",
   "id": "644f69a1-ab2f-4eee-9b8e-a71728c1c4ae",
   "metadata": {
    "jp-MarkdownHeadingCollapsed": true,
    "tags": []
   },
   "source": [
    "#### Read in Models"
   ]
  },
  {
   "cell_type": "code",
   "execution_count": 80,
   "id": "b9b1dc2b-4f45-49fc-9722-fb225dab896c",
   "metadata": {},
   "outputs": [],
   "source": [
    "models = {}\n",
    "\n",
    "for mdl in ['LR', 'SVM', 'MLP', 'RF', 'GB']:\n",
    "    models[mdl] = joblib.load('{}_model.pkl'.format(mdl))"
   ]
  },
  {
   "cell_type": "code",
   "execution_count": 81,
   "id": "f6813aa3-4fef-450d-8c5b-d4a63c592457",
   "metadata": {},
   "outputs": [
    {
     "data": {
      "text/plain": [
       "{'LR': LogisticRegression(C=100, max_iter=3000),\n",
       " 'SVM': SVC(C=0.1, kernel='linear'),\n",
       " 'MLP': MLPClassifier(activation='logistic', max_iter=2500),\n",
       " 'RF': RandomForestClassifier(max_depth=8, n_estimators=250),\n",
       " 'GB': GradientBoostingClassifier(learning_rate=1, n_estimators=5)}"
      ]
     },
     "execution_count": 81,
     "metadata": {},
     "output_type": "execute_result"
    }
   ],
   "source": [
    "models"
   ]
  },
  {
   "cell_type": "markdown",
   "id": "2dec30e2-1682-465a-8475-635ae084f2bf",
   "metadata": {
    "jp-MarkdownHeadingCollapsed": true,
    "tags": []
   },
   "source": [
    "#### Evaluate models on the validation set"
   ]
  },
  {
   "cell_type": "code",
   "execution_count": 82,
   "id": "99902119-7dda-493f-81a8-04f12f8de4c0",
   "metadata": {},
   "outputs": [],
   "source": [
    "def evaluate_model(name, model, features, labels):\n",
    "    start = time()\n",
    "    pred = model.predict(features)\n",
    "    end = time()\n",
    "    latency = round((end - start)*1000, 1)\n",
    "    accuracy = round(accuracy_score(labels, pred), 3)\n",
    "    precision = round(precision_score(labels, pred, average='macro'), 3)\n",
    "    recall = round(recall_score(labels, pred, average='macro'), 3)\n",
    "    print('{} --> Accuracy= {} | Precision= {} | Recall= {} | Latency= {}ms'.format(name, accuracy, precision, recall, latency ))"
   ]
  },
  {
   "cell_type": "code",
   "execution_count": 83,
   "id": "2a74f166-4e12-4a81-ac0b-6f90122ea4f7",
   "metadata": {},
   "outputs": [
    {
     "name": "stdout",
     "output_type": "stream",
     "text": [
      "LR --> Accuracy= 0.986 | Precision= 0.987 | Recall= 0.99 | Latency= 1.0ms\n",
      "SVM --> Accuracy= 0.986 | Precision= 0.99 | Recall= 0.972 | Latency= 0.8ms\n",
      "MLP --> Accuracy= 0.681 | Precision= 0.454 | Recall= 0.56 | Latency= 1.0ms\n",
      "RF --> Accuracy= 0.986 | Precision= 0.974 | Recall= 0.99 | Latency= 21.0ms\n",
      "GB --> Accuracy= 0.986 | Precision= 0.974 | Recall= 0.99 | Latency= 1.0ms\n"
     ]
    },
    {
     "name": "stderr",
     "output_type": "stream",
     "text": [
      "C:\\Users\\elmir\\anaconda3\\lib\\site-packages\\sklearn\\metrics\\_classification.py:1248: UndefinedMetricWarning: Precision is ill-defined and being set to 0.0 in labels with no predicted samples. Use `zero_division` parameter to control this behavior.\n",
      "  _warn_prf(average, modifier, msg_start, len(result))\n"
     ]
    }
   ],
   "source": [
    "for name, mdl in models.items():\n",
    "    evaluate_model(name, mdl, val_features, val_labels)"
   ]
  },
  {
   "cell_type": "markdown",
   "id": "9f90cbbe-d093-4dc7-a936-ee1e4a59a5dc",
   "metadata": {},
   "source": [
    "From the result above we can see that MLP with the accuracy of 46.4% is worst algorithm for the purpose of our project. From our discussion on the Learning curve of the algorithm, this was expected. We also discussed how MLP is underfitting while RF and GB are overfitting our data Leaving only LR and SVM. \n",
    "\n",
    "The other 4 algorithm have the same accuracy of 98.6%. Therefore we have to consider the precision/ recall trade off. \n",
    "\n",
    "In our project false negative is when model labels an example negative for belonging to one of the species while the example actually belongs to that species and false positive is when model predicts an example's species while it does not belong to that species. In this case having a false positive is worse than false negative (it is worse for model to say a penguin belongs to a certain species and it doesn't than to say a penguin doesn't belong to a species when in fact it does) therefore precision has higher priority than recall. \n",
    "\n",
    "that being said, the SVM with accuracy of 98.6% , precision of 99%, recall of 97.2% and latency of 0.8ms is the best model to predict the species of the penguins. Coming second is LR model with the same accuracy, precision of 98.7% and recall 99%. Additionally since our dataset is quite small, SVM would be more suitable to use than other models. In the next step, we are going to run our model on testing set to investigate our hypothesis's correctness. "
   ]
  },
  {
   "cell_type": "markdown",
   "id": "768cdc3e-df1e-43fa-baf5-ffba2fa589ab",
   "metadata": {
    "jp-MarkdownHeadingCollapsed": true,
    "tags": []
   },
   "source": [
    "#### Evaluate models on test set"
   ]
  },
  {
   "cell_type": "code",
   "execution_count": 84,
   "id": "13d5aafc-bffd-4b63-a659-0f8f415482f7",
   "metadata": {},
   "outputs": [
    {
     "name": "stdout",
     "output_type": "stream",
     "text": [
      "LR --> Accuracy= 0.986 | Precision= 0.987 | Recall= 0.99 | Latency= 2.0ms\n",
      "SVM --> Accuracy= 0.986 | Precision= 0.99 | Recall= 0.987 | Latency= 1.5ms\n",
      "MLP --> Accuracy= 0.623 | Precision= 0.415 | Recall= 0.515 | Latency= 1.0ms\n",
      "RF --> Accuracy= 0.971 | Precision= 0.964 | Recall= 0.976 | Latency= 21.0ms\n",
      "GB --> Accuracy= 0.971 | Precision= 0.964 | Recall= 0.976 | Latency= 1.0ms\n"
     ]
    },
    {
     "name": "stderr",
     "output_type": "stream",
     "text": [
      "C:\\Users\\elmir\\anaconda3\\lib\\site-packages\\sklearn\\metrics\\_classification.py:1248: UndefinedMetricWarning: Precision is ill-defined and being set to 0.0 in labels with no predicted samples. Use `zero_division` parameter to control this behavior.\n",
      "  _warn_prf(average, modifier, msg_start, len(result))\n"
     ]
    }
   ],
   "source": [
    "for name, mdl in models.items():\n",
    "    evaluate_model(name, mdl, te_features, te_labels)"
   ]
  },
  {
   "cell_type": "markdown",
   "id": "e010b261-cc1e-43cc-a533-9979a78595db",
   "metadata": {},
   "source": [
    "After running the model on the test set, we can see that the accuracy score dropped for RF and GB models making LR and SVM models with highest accuracy. Both models maintained the same precision but their latency almost doubled. furthermore, the Recall of the SVM model increase to 98.7% while the recall of LR remained same. Since there are no significant improvement in LR model, We can confidently say that when splitting data 60-20-20, SVM model is the best model with accuracy of 98.6%, precision of 99%, recall of 98.7% and latency of 1.5 ms. \n",
    "\n",
    "in the next section we are going to explore the models performance with split ratio of 80:10:10 \n"
   ]
  },
  {
   "cell_type": "markdown",
   "id": "d0412486-d255-43b0-8fc4-65a2a4b20aee",
   "metadata": {
    "jp-MarkdownHeadingCollapsed": true,
    "tags": []
   },
   "source": [
    "## **Part IV: Splitting data 80-10-10**"
   ]
  },
  {
   "cell_type": "markdown",
   "id": "eef303f2-bb32-4b20-974f-bdfa009e7b58",
   "metadata": {
    "jp-MarkdownHeadingCollapsed": true,
    "tags": []
   },
   "source": [
    "### Reading cleaned data"
   ]
  },
  {
   "cell_type": "code",
   "execution_count": 85,
   "id": "f41c5bea-011e-4fb9-9b99-1ddfdc64bfdc",
   "metadata": {},
   "outputs": [
    {
     "data": {
      "text/html": [
       "<div>\n",
       "<style scoped>\n",
       "    .dataframe tbody tr th:only-of-type {\n",
       "        vertical-align: middle;\n",
       "    }\n",
       "\n",
       "    .dataframe tbody tr th {\n",
       "        vertical-align: top;\n",
       "    }\n",
       "\n",
       "    .dataframe thead th {\n",
       "        text-align: right;\n",
       "    }\n",
       "</style>\n",
       "<table border=\"1\" class=\"dataframe\">\n",
       "  <thead>\n",
       "    <tr style=\"text-align: right;\">\n",
       "      <th></th>\n",
       "      <th>species</th>\n",
       "      <th>island</th>\n",
       "      <th>culmen_length_mm</th>\n",
       "      <th>culmen_depth_mm</th>\n",
       "      <th>flipper_length_mm</th>\n",
       "      <th>body_mass_g</th>\n",
       "    </tr>\n",
       "  </thead>\n",
       "  <tbody>\n",
       "    <tr>\n",
       "      <th>0</th>\n",
       "      <td>0</td>\n",
       "      <td>1</td>\n",
       "      <td>39.10000</td>\n",
       "      <td>18.70000</td>\n",
       "      <td>181.000000</td>\n",
       "      <td>3750.000000</td>\n",
       "    </tr>\n",
       "    <tr>\n",
       "      <th>1</th>\n",
       "      <td>0</td>\n",
       "      <td>1</td>\n",
       "      <td>39.50000</td>\n",
       "      <td>17.40000</td>\n",
       "      <td>186.000000</td>\n",
       "      <td>3800.000000</td>\n",
       "    </tr>\n",
       "    <tr>\n",
       "      <th>2</th>\n",
       "      <td>0</td>\n",
       "      <td>1</td>\n",
       "      <td>40.30000</td>\n",
       "      <td>18.00000</td>\n",
       "      <td>195.000000</td>\n",
       "      <td>3250.000000</td>\n",
       "    </tr>\n",
       "    <tr>\n",
       "      <th>3</th>\n",
       "      <td>0</td>\n",
       "      <td>1</td>\n",
       "      <td>43.92193</td>\n",
       "      <td>17.15117</td>\n",
       "      <td>200.915205</td>\n",
       "      <td>4201.754386</td>\n",
       "    </tr>\n",
       "    <tr>\n",
       "      <th>4</th>\n",
       "      <td>0</td>\n",
       "      <td>1</td>\n",
       "      <td>36.70000</td>\n",
       "      <td>19.30000</td>\n",
       "      <td>193.000000</td>\n",
       "      <td>3450.000000</td>\n",
       "    </tr>\n",
       "  </tbody>\n",
       "</table>\n",
       "</div>"
      ],
      "text/plain": [
       "   species  island  culmen_length_mm  culmen_depth_mm  flipper_length_mm  \\\n",
       "0        0       1          39.10000         18.70000         181.000000   \n",
       "1        0       1          39.50000         17.40000         186.000000   \n",
       "2        0       1          40.30000         18.00000         195.000000   \n",
       "3        0       1          43.92193         17.15117         200.915205   \n",
       "4        0       1          36.70000         19.30000         193.000000   \n",
       "\n",
       "   body_mass_g  \n",
       "0  3750.000000  \n",
       "1  3800.000000  \n",
       "2  3250.000000  \n",
       "3  4201.754386  \n",
       "4  3450.000000  "
      ]
     },
     "execution_count": 85,
     "metadata": {},
     "output_type": "execute_result"
    }
   ],
   "source": [
    "import pandas as pd\n",
    "from sklearn.model_selection import train_test_split\n",
    "\n",
    "data = pd.read_csv('penguins_cleaned.csv')\n",
    "data.head()"
   ]
  },
  {
   "cell_type": "markdown",
   "id": "93b62f74-4de3-4c91-9c8b-eef0f5b282dc",
   "metadata": {
    "jp-MarkdownHeadingCollapsed": true,
    "tags": []
   },
   "source": [
    "### Splitting data:"
   ]
  },
  {
   "cell_type": "code",
   "execution_count": 86,
   "id": "d8989e31-a5f2-4baa-bf8f-089705adb498",
   "metadata": {},
   "outputs": [],
   "source": [
    "features = data.drop('species', axis=1)\n",
    "labels = data['species']\n",
    "\n",
    "X_train, X_test, y_train, y_test = train_test_split(features, labels, test_size=0.2, random_state=42)\n",
    "X_test, X_val, y_test, y_val = train_test_split(X_test, y_test, test_size=0.5, random_state=42)"
   ]
  },
  {
   "cell_type": "code",
   "execution_count": 87,
   "id": "38a71c18-97cd-473e-802f-b6a613e79430",
   "metadata": {},
   "outputs": [
    {
     "name": "stdout",
     "output_type": "stream",
     "text": [
      "0.8\n",
      "0.1\n",
      "0.1\n"
     ]
    }
   ],
   "source": [
    "for dataset in [y_train, y_val, y_test]:\n",
    "    print(round(len(dataset) / len(labels), 2))"
   ]
  },
  {
   "cell_type": "markdown",
   "id": "26988018-2eaf-46a2-9727-f271c5e48b84",
   "metadata": {},
   "source": [
    "Saving the three datasets:"
   ]
  },
  {
   "cell_type": "code",
   "execution_count": 88,
   "id": "07087b5d-71db-4649-9b09-4c9215f41d50",
   "metadata": {},
   "outputs": [],
   "source": [
    "X_train.to_csv('train_features2.csv', index=False)\n",
    "X_val.to_csv('val_features2.csv', index=False)\n",
    "X_test.to_csv('test_features2.csv', index=False)\n",
    "\n",
    "y_train.to_csv('train_labels2.csv', index=False)\n",
    "y_val.to_csv('val_labels2.csv', index=False)\n",
    "y_test.to_csv('test_labels2.csv', index=False)"
   ]
  },
  {
   "cell_type": "markdown",
   "id": "fa3c1268-4f1c-47db-b2e4-9c3337d42dd5",
   "metadata": {
    "jp-MarkdownHeadingCollapsed": true,
    "tags": []
   },
   "source": [
    "### **Logistic regression algorithm:**"
   ]
  },
  {
   "cell_type": "code",
   "execution_count": 89,
   "id": "288d433e-a59d-4690-bfea-01ef834a336e",
   "metadata": {},
   "outputs": [],
   "source": [
    "import joblib\n",
    "import pandas as pd\n",
    "from sklearn.linear_model import LogisticRegression\n",
    "from sklearn.model_selection import GridSearchCV # used for tuning algorithms and hyperparameters\n",
    "from sklearn.svm import SVC\n",
    "import warnings\n",
    "warnings.filterwarnings('ignore', category=FutureWarning)\n",
    "warnings.filterwarnings('ignore', category=DeprecationWarning)\n",
    "\n",
    "tr_features = pd.read_csv('train_features2.csv')\n",
    "tr_labels = pd.read_csv('train_labels2.csv')\n"
   ]
  },
  {
   "cell_type": "markdown",
   "id": "fd6e94cc-bd9d-4c95-a14a-4df3bff1e053",
   "metadata": {
    "jp-MarkdownHeadingCollapsed": true,
    "tags": []
   },
   "source": [
    "#### Hyperparameter tuning: C"
   ]
  },
  {
   "cell_type": "code",
   "execution_count": 90,
   "id": "21ab541c-2056-4713-a97b-716efc668d41",
   "metadata": {},
   "outputs": [],
   "source": [
    "def print_results(results):\n",
    "    print('BEST PARAMS: {}\\n'.format(results.best_params_))\n",
    "\n",
    "    means = results.cv_results_['mean_test_score']\n",
    "    stds = results.cv_results_['std_test_score']\n",
    "    for mean, std, params in zip(means, stds, results.cv_results_['params']):\n",
    "        print('{} (+/-{}) for {}'.format(round(mean, 3), round(std * 2, 3), params))"
   ]
  },
  {
   "cell_type": "code",
   "execution_count": 97,
   "id": "d43b89f9-16d5-44d6-ad9d-df89214a95bc",
   "metadata": {},
   "outputs": [
    {
     "name": "stdout",
     "output_type": "stream",
     "text": [
      "BEST PARAMS: {'C': 1}\n",
      "\n",
      "0.905 (+/-0.048) for {'C': 0.001}\n",
      "0.967 (+/-0.036) for {'C': 0.01}\n",
      "0.978 (+/-0.036) for {'C': 0.1}\n",
      "0.982 (+/-0.04) for {'C': 1}\n",
      "0.978 (+/-0.053) for {'C': 10}\n",
      "0.982 (+/-0.04) for {'C': 100}\n",
      "0.982 (+/-0.04) for {'C': 1000}\n"
     ]
    }
   ],
   "source": [
    "lr = LogisticRegression(max_iter=4500)\n",
    "parameters = {\n",
    "    'C': [0.001, 0.01, 0.1, 1, 10, 100, 1000]\n",
    "}\n",
    "\n",
    "cv = GridSearchCV(lr, parameters, cv=5)\n",
    "cv.fit(tr_features, tr_labels.values.ravel())\n",
    "\n",
    "print_results(cv)"
   ]
  },
  {
   "cell_type": "markdown",
   "id": "f8f86eca-7b4a-4588-b4e4-8d0187b348db",
   "metadata": {},
   "source": [
    "With C = 1 the model being trained on 80% of the dataset has the performance of 98.2%  which is less than performance rate of when model was being trained on 60% of the dataset proving our hypothesis from the previous section on how increasing the data point in the training set will not improve the model's performance. "
   ]
  },
  {
   "cell_type": "code",
   "execution_count": 98,
   "id": "bcdc15bd-c3b0-4817-b6df-b0a20e94f177",
   "metadata": {},
   "outputs": [
    {
     "data": {
      "text/plain": [
       "LogisticRegression(C=1, max_iter=4500)"
      ]
     },
     "execution_count": 98,
     "metadata": {},
     "output_type": "execute_result"
    }
   ],
   "source": [
    "cv.best_estimator_"
   ]
  },
  {
   "cell_type": "markdown",
   "id": "45e0832b-cb7b-4763-b43a-cd201d7d3efb",
   "metadata": {
    "jp-MarkdownHeadingCollapsed": true,
    "tags": []
   },
   "source": [
    "#### Learning Curve:"
   ]
  },
  {
   "cell_type": "code",
   "execution_count": 99,
   "id": "866a535d-550c-4b54-8105-2af853584c34",
   "metadata": {},
   "outputs": [],
   "source": [
    "#citation 3\n",
    "from sklearn.model_selection import learning_curve\n",
    "# the training data is 80% of the whole data --> 275\n",
    "# we are doing 5-fold cross validation with 80% training set and 20% validation set:\n",
    "# 275 training example : 80% training (220) 20% validation (55) in cross validation\n",
    "train_sizes = [5, 50, 100, 150, 200, 220]\n",
    "train_sizes, train_scores, validation_scores = learning_curve(\n",
    "estimator = LogisticRegression(C=1, max_iter=4500),\n",
    "X = tr_features,\n",
    "y = tr_labels.values.ravel(), train_sizes = train_sizes, cv = 5,\n",
    "scoring = 'neg_mean_squared_error')"
   ]
  },
  {
   "cell_type": "code",
   "execution_count": 100,
   "id": "942f8b5a-fb1e-4b30-bca9-c753904fc11a",
   "metadata": {},
   "outputs": [
    {
     "name": "stdout",
     "output_type": "stream",
     "text": [
      "Mean training scores\n",
      "\n",
      " 5     -0.000000\n",
      "50    -0.000000\n",
      "100   -0.000000\n",
      "150   -0.000000\n",
      "200   -0.000000\n",
      "220    0.000909\n",
      "dtype: float64\n",
      "\n",
      " --------------------\n",
      "\n",
      "Mean validation scores\n",
      "\n",
      " 5      0.843636\n",
      "50     0.036364\n",
      "100    0.047273\n",
      "150    0.021818\n",
      "200    0.047273\n",
      "220    0.040000\n",
      "dtype: float64\n"
     ]
    }
   ],
   "source": [
    "train_scores_mean = -train_scores.mean(axis = 1)\n",
    "validation_scores_mean = -validation_scores.mean(axis = 1)\n",
    "print('Mean training scores\\n\\n', pd.Series(train_scores_mean, index = train_sizes))\n",
    "print('\\n', '-' * 20) # separator\n",
    "print('\\nMean validation scores\\n\\n',pd.Series(validation_scores_mean, index = train_sizes))"
   ]
  },
  {
   "cell_type": "markdown",
   "id": "f4d73282-b57e-41d4-a470-bf98939b9d04",
   "metadata": {},
   "source": [
    "As when we split 60:20:20, We can see the model is able to fit and predict perfectly when in training regardless of the training set size. Except when the training set size is at its highest (220) where model makes some error. This is probably the reason why the overall model performance  is lower than when the split ration was 60:20:20. \n",
    "\n",
    "The model follows the same pattern as last time when being tested in validation mode, making more errors because of its inability to make correct prediction due to small training size and improving as the training size increases. "
   ]
  },
  {
   "cell_type": "code",
   "execution_count": 101,
   "id": "5d4d7f69-8438-4b6d-858c-9cff48656dcf",
   "metadata": {},
   "outputs": [
    {
     "data": {
      "text/plain": [
       "(0.0, 1.0)"
      ]
     },
     "execution_count": 101,
     "metadata": {},
     "output_type": "execute_result"
    },
    {
     "data": {
      "image/png": "[encoded data removed]",
      "text/plain": [
       "<Figure size 576x396 with 1 Axes>"
      ]
     },
     "metadata": {},
     "output_type": "display_data"
    }
   ],
   "source": [
    "import matplotlib.pyplot as plt\n",
    "\n",
    "plt.style.use('seaborn')\n",
    "plt.plot(train_sizes, train_scores_mean, label = 'Training error')\n",
    "plt.plot(train_sizes, validation_scores_mean, label = 'Validation error')\n",
    "plt.ylabel('MSE', fontsize = 14)\n",
    "plt.xlabel('Training set size', fontsize = 14)\n",
    "plt.title('Learning curves for a LR model', fontsize = 18, y = 1.03)\n",
    "plt.legend()\n",
    "plt.ylim(0,1)"
   ]
  },
  {
   "cell_type": "markdown",
   "id": "5f271143-b978-4c68-b873-b0eca6112610",
   "metadata": {},
   "source": [
    "The learning curve further support our findings. Additionally we can see that the model still has a low bias but it has a higher variance than previous split ratio. So even though the model has optimum complexity it slightly shifts towards over fitting in compared to previous LR model. "
   ]
  },
  {
   "cell_type": "code",
   "execution_count": 103,
   "id": "69a52c36-fcc0-4baa-b60d-5499a53b7610",
   "metadata": {},
   "outputs": [
    {
     "data": {
      "text/plain": [
       "['LR_model2.pkl']"
      ]
     },
     "execution_count": 103,
     "metadata": {},
     "output_type": "execute_result"
    }
   ],
   "source": [
    "joblib.dump(cv.best_estimator_, 'LR_model2.pkl')"
   ]
  },
  {
   "cell_type": "markdown",
   "id": "d9162561-46c2-44e6-904b-15beb0f07816",
   "metadata": {
    "jp-MarkdownHeadingCollapsed": true,
    "tags": []
   },
   "source": [
    "### **Support Vector Machine (SVM)**"
   ]
  },
  {
   "cell_type": "code",
   "execution_count": 104,
   "id": "0c789c37-d6d4-4201-b5e1-c18da73eed54",
   "metadata": {},
   "outputs": [],
   "source": [
    "import joblib\n",
    "import pandas as pd\n",
    "from sklearn.linear_model import LogisticRegression\n",
    "from sklearn.model_selection import GridSearchCV # used for tuning algorithms and hyperparameters\n",
    "from sklearn.svm import SVC\n",
    "import warnings\n",
    "warnings.filterwarnings('ignore', category=FutureWarning)\n",
    "warnings.filterwarnings('ignore', category=DeprecationWarning)\n",
    "\n",
    "tr_features = pd.read_csv('train_features2.csv')\n",
    "tr_labels = pd.read_csv('train_labels2.csv')\n"
   ]
  },
  {
   "cell_type": "markdown",
   "id": "5cab8e30-1572-4217-aead-1c2f4836e65c",
   "metadata": {
    "jp-MarkdownHeadingCollapsed": true,
    "tags": []
   },
   "source": [
    "#### C & Kernel tuning"
   ]
  },
  {
   "cell_type": "code",
   "execution_count": 105,
   "id": "06354172-9a2f-497b-a246-174905d8d6dd",
   "metadata": {},
   "outputs": [
    {
     "name": "stdout",
     "output_type": "stream",
     "text": [
      "BEST PARAMS: {'C': 0.1, 'kernel': 'linear'}\n",
      "\n",
      "0.989 (+/-0.018) for {'C': 0.1, 'kernel': 'linear'}\n",
      "0.745 (+/-0.065) for {'C': 0.1, 'kernel': 'rbf'}\n",
      "0.982 (+/-0.023) for {'C': 1, 'kernel': 'linear'}\n",
      "0.742 (+/-0.084) for {'C': 1, 'kernel': 'rbf'}\n",
      "0.985 (+/-0.027) for {'C': 10, 'kernel': 'linear'}\n",
      "0.745 (+/-0.076) for {'C': 10, 'kernel': 'rbf'}\n"
     ]
    }
   ],
   "source": [
    "svc = SVC()\n",
    "parameters = { # used to search for the hyperparameters\n",
    "    'kernel': ['linear', 'rbf'],\n",
    "    'C': [0.1, 1, 10]\n",
    "}\n",
    "\n",
    "cv = GridSearchCV(svc, parameters, cv=5) # cv = 5 --> 5 fold validation\n",
    "cv.fit(tr_features, tr_labels.values.ravel())\n",
    "\n",
    "print_results(cv)"
   ]
  },
  {
   "cell_type": "markdown",
   "id": "4b5ab12b-9887-4068-aa1b-bdc9d53c3fe2",
   "metadata": {},
   "source": [
    "Based on the above values, we can see that kernel has a great impact on the performance of the model and linear kernel is doing relatively better than rbf suggesting that our data is linearly separable. We can also see that the performance of the three values of C are fairly similar with minor difference but overall the linear kernel with C = 0.1 has the best performance with 98.9% performance rate which is slightly lower than when model was trained on 60:20:20 ratio. \n",
    "\n",
    "This decrease in supports our hypothesis that further increasing the data point in the training will not improve the SVM model's performance. As a matter of fact, it decrease the performance. "
   ]
  },
  {
   "cell_type": "code",
   "execution_count": 107,
   "id": "d8323d5c-9ec4-43c1-b281-9e369dba4066",
   "metadata": {},
   "outputs": [
    {
     "data": {
      "text/plain": [
       "SVC(C=0.1, kernel='linear')"
      ]
     },
     "execution_count": 107,
     "metadata": {},
     "output_type": "execute_result"
    }
   ],
   "source": [
    "cv.best_estimator_"
   ]
  },
  {
   "cell_type": "markdown",
   "id": "60114896-b809-4109-983c-a1bd7a5d69bb",
   "metadata": {
    "jp-MarkdownHeadingCollapsed": true,
    "tags": []
   },
   "source": [
    "#### Learning Curve"
   ]
  },
  {
   "cell_type": "code",
   "execution_count": 108,
   "id": "1c9babdf-342d-43f0-8e2c-94bdbd757c13",
   "metadata": {},
   "outputs": [],
   "source": [
    "#citation 3\n",
    "from sklearn.model_selection import learning_curve\n",
    "# the training data is 80% of the whole data --> 275\n",
    "# we are doing 5-fold cross validation with 80% training set and 20% validation set:\n",
    "# 275 training example : 80% training (220) 20% validation (55) in cross validation\n",
    "train_sizes = [5, 50, 100, 150, 200, 220]\n",
    "train_sizes, train_scores, validation_scores = learning_curve(\n",
    "estimator = SVC(C=0.1, kernel='linear'),\n",
    "X = tr_features,\n",
    "y = tr_labels.values.ravel(), train_sizes = train_sizes, cv = 5,\n",
    "scoring = 'neg_mean_squared_error')"
   ]
  },
  {
   "cell_type": "code",
   "execution_count": 109,
   "id": "85670430-c477-412a-9555-3be5490a2958",
   "metadata": {},
   "outputs": [
    {
     "name": "stdout",
     "output_type": "stream",
     "text": [
      "Mean training scores\n",
      "\n",
      " 5     -0.000000\n",
      "50     0.016000\n",
      "100    0.040000\n",
      "150    0.026667\n",
      "200    0.023000\n",
      "220    0.020909\n",
      "dtype: float64\n",
      "\n",
      " --------------------\n",
      "\n",
      "Mean validation scores\n",
      "\n",
      " 5      0.843636\n",
      "50     0.094545\n",
      "100    0.036364\n",
      "150    0.021818\n",
      "200    0.021818\n",
      "220    0.021818\n",
      "dtype: float64\n"
     ]
    }
   ],
   "source": [
    "train_scores_mean = -train_scores.mean(axis = 1)\n",
    "validation_scores_mean = -validation_scores.mean(axis = 1)\n",
    "print('Mean training scores\\n\\n', pd.Series(train_scores_mean, index = train_sizes))\n",
    "print('\\n', '-' * 20) # separator\n",
    "print('\\nMean validation scores\\n\\n',pd.Series(validation_scores_mean, index = train_sizes))"
   ]
  },
  {
   "cell_type": "markdown",
   "id": "ce375bec-fe38-4ec4-a677-64361d70ba61",
   "metadata": {},
   "source": [
    "As in the last split ratio, the model is able to make prefect fitting and prediction when the training set has the size of 5. However it has high errors when being tested on validation set indicating that model is unable to make generalization when the training set size is too small. As the training set size increase the model makes more error while training but makes better predictions when being tested on the validation set. \n",
    "\n",
    "one thing of note is when size  = 150, the training error is 2.67% while the validation error is 2.18%. This pattern continues for the larger training set, further supporting our hypothesis that the increasing the training data for SVM model not only does not improve the model but in fact impacts its performance negatively. "
   ]
  },
  {
   "cell_type": "code",
   "execution_count": 111,
   "id": "0d9793e8-8a71-45d3-af55-6a84ff0c4c98",
   "metadata": {},
   "outputs": [
    {
     "data": {
      "text/plain": [
       "(0.0, 1.0)"
      ]
     },
     "execution_count": 111,
     "metadata": {},
     "output_type": "execute_result"
    },
    {
     "data": {
      "image/png": "[encoded data removed]",
      "text/plain": [
       "<Figure size 576x396 with 1 Axes>"
      ]
     },
     "metadata": {},
     "output_type": "display_data"
    }
   ],
   "source": [
    "import matplotlib.pyplot as plt\n",
    "\n",
    "plt.style.use('seaborn')\n",
    "plt.plot(train_sizes, train_scores_mean, label = 'Training error')\n",
    "plt.plot(train_sizes, validation_scores_mean, label = 'Validation error')\n",
    "plt.ylabel('MSE', fontsize = 14)\n",
    "plt.xlabel('Training set size', fontsize = 14)\n",
    "plt.title('Learning curves for SVM model', fontsize = 18, y = 1.03)\n",
    "plt.legend()\n",
    "plt.ylim(0,1)"
   ]
  },
  {
   "cell_type": "markdown",
   "id": "25177c56-0d02-4108-a8f1-5e510b407522",
   "metadata": {},
   "source": [
    "In the plot we can see that training error is quite low suggesting that our model has low bias. Since the gap between training error and validation error is quite low (and might be negative is some places) therefore, our model also has low variance.\n",
    "\n",
    "This suggest that our model has optimum complexity with a slight shift towards underfitting compared to previous SVM model. "
   ]
  },
  {
   "cell_type": "code",
   "execution_count": 112,
   "id": "14a7b703-061c-47e7-b2f1-ca45706f1686",
   "metadata": {},
   "outputs": [
    {
     "data": {
      "text/plain": [
       "['SVM_model2.pkl']"
      ]
     },
     "execution_count": 112,
     "metadata": {},
     "output_type": "execute_result"
    }
   ],
   "source": [
    "# writing out the model\n",
    "joblib.dump(cv.best_estimator_, 'SVM_model2.pkl')"
   ]
  },
  {
   "cell_type": "markdown",
   "id": "5b6a3b2d-25b0-4c63-8fbb-a317013695f0",
   "metadata": {
    "jp-MarkdownHeadingCollapsed": true,
    "tags": []
   },
   "source": [
    "### **MLP**"
   ]
  },
  {
   "cell_type": "code",
   "execution_count": 121,
   "id": "63b1e401-cb79-45f4-b152-a408e75fcb41",
   "metadata": {},
   "outputs": [],
   "source": [
    "import joblib\n",
    "import pandas as pd\n",
    "from sklearn.model_selection import GridSearchCV\n",
    "from sklearn.neural_network import MLPClassifier\n",
    "import warnings\n",
    "warnings.filterwarnings('ignore', category=FutureWarning)\n",
    "warnings.filterwarnings('ignore', category=DeprecationWarning)\n",
    "\n",
    "tr_features = pd.read_csv('train_features2.csv')\n",
    "tr_labels = pd.read_csv('train_labels2.csv')"
   ]
  },
  {
   "cell_type": "markdown",
   "id": "c9f88be9-b337-46c9-abdf-466078b0ec12",
   "metadata": {
    "jp-MarkdownHeadingCollapsed": true,
    "tags": []
   },
   "source": [
    "#### Hyperparameter tuning: hidden_layer_sizes, activation, learning_rate"
   ]
  },
  {
   "cell_type": "code",
   "execution_count": 122,
   "id": "2dafd356-5300-4e79-a332-74fae321891a",
   "metadata": {},
   "outputs": [
    {
     "name": "stdout",
     "output_type": "stream",
     "text": [
      "BEST PARAMS: {'activation': 'logistic', 'hidden_layer_sizes': (100,), 'learning_rate': 'constant'}\n",
      "\n",
      "0.364 (+/-0.188) for {'activation': 'relu', 'hidden_layer_sizes': (10,), 'learning_rate': 'constant'}\n",
      "0.4 (+/-0.26) for {'activation': 'relu', 'hidden_layer_sizes': (10,), 'learning_rate': 'invscaling'}\n",
      "0.262 (+/-0.232) for {'activation': 'relu', 'hidden_layer_sizes': (10,), 'learning_rate': 'adaptive'}\n",
      "0.375 (+/-0.224) for {'activation': 'relu', 'hidden_layer_sizes': (50,), 'learning_rate': 'constant'}\n",
      "0.422 (+/-0.334) for {'activation': 'relu', 'hidden_layer_sizes': (50,), 'learning_rate': 'invscaling'}\n",
      "0.462 (+/-0.235) for {'activation': 'relu', 'hidden_layer_sizes': (50,), 'learning_rate': 'adaptive'}\n",
      "0.404 (+/-0.302) for {'activation': 'relu', 'hidden_layer_sizes': (100,), 'learning_rate': 'constant'}\n",
      "0.451 (+/-0.363) for {'activation': 'relu', 'hidden_layer_sizes': (100,), 'learning_rate': 'invscaling'}\n",
      "0.371 (+/-0.305) for {'activation': 'relu', 'hidden_layer_sizes': (100,), 'learning_rate': 'adaptive'}\n",
      "0.484 (+/-0.189) for {'activation': 'tanh', 'hidden_layer_sizes': (10,), 'learning_rate': 'constant'}\n",
      "0.436 (+/-0.0) for {'activation': 'tanh', 'hidden_layer_sizes': (10,), 'learning_rate': 'invscaling'}\n",
      "0.436 (+/-0.0) for {'activation': 'tanh', 'hidden_layer_sizes': (10,), 'learning_rate': 'adaptive'}\n",
      "0.491 (+/-0.218) for {'activation': 'tanh', 'hidden_layer_sizes': (50,), 'learning_rate': 'constant'}\n",
      "0.436 (+/-0.0) for {'activation': 'tanh', 'hidden_layer_sizes': (50,), 'learning_rate': 'invscaling'}\n",
      "0.487 (+/-0.241) for {'activation': 'tanh', 'hidden_layer_sizes': (50,), 'learning_rate': 'adaptive'}\n",
      "0.509 (+/-0.285) for {'activation': 'tanh', 'hidden_layer_sizes': (100,), 'learning_rate': 'constant'}\n",
      "0.655 (+/-0.1) for {'activation': 'tanh', 'hidden_layer_sizes': (100,), 'learning_rate': 'invscaling'}\n",
      "0.625 (+/-0.224) for {'activation': 'tanh', 'hidden_layer_sizes': (100,), 'learning_rate': 'adaptive'}\n",
      "0.487 (+/-0.204) for {'activation': 'logistic', 'hidden_layer_sizes': (10,), 'learning_rate': 'constant'}\n",
      "0.436 (+/-0.0) for {'activation': 'logistic', 'hidden_layer_sizes': (10,), 'learning_rate': 'invscaling'}\n",
      "0.502 (+/-0.262) for {'activation': 'logistic', 'hidden_layer_sizes': (10,), 'learning_rate': 'adaptive'}\n",
      "0.491 (+/-0.276) for {'activation': 'logistic', 'hidden_layer_sizes': (50,), 'learning_rate': 'constant'}\n",
      "0.607 (+/-0.214) for {'activation': 'logistic', 'hidden_layer_sizes': (50,), 'learning_rate': 'invscaling'}\n",
      "0.436 (+/-0.0) for {'activation': 'logistic', 'hidden_layer_sizes': (50,), 'learning_rate': 'adaptive'}\n",
      "0.716 (+/-0.049) for {'activation': 'logistic', 'hidden_layer_sizes': (100,), 'learning_rate': 'constant'}\n",
      "0.655 (+/-0.233) for {'activation': 'logistic', 'hidden_layer_sizes': (100,), 'learning_rate': 'invscaling'}\n",
      "0.596 (+/-0.281) for {'activation': 'logistic', 'hidden_layer_sizes': (100,), 'learning_rate': 'adaptive'}\n"
     ]
    }
   ],
   "source": [
    "mlp = MLPClassifier(max_iter = 2500)\n",
    "parameters = {\n",
    "    'hidden_layer_sizes': [(10,), (50,), (100,)],\n",
    "    'activation': ['relu', 'tanh', 'logistic'],\n",
    "    'learning_rate': ['constant', 'invscaling', 'adaptive']\n",
    "}\n",
    "\n",
    "cv = GridSearchCV(mlp, parameters, cv=5)\n",
    "cv.fit(tr_features, tr_labels.values.ravel())\n",
    "\n",
    "print_results(cv)"
   ]
  },
  {
   "cell_type": "markdown",
   "id": "af59ee14-b393-4725-80d9-098f3b377e77",
   "metadata": {},
   "source": [
    "Same as previous split ratio, logistic activation generally results in higher performance. Together with hidden layer size of 100 and constant learning rate, for the split ratio of 80:10:10,  the MLP model has the performance of 71.6% which is quite lower than model's performance in the previous section. As we discussed in the previous section, the MLP model is not very suitable for our problem and increasing the training data point will not make any difference at this time. \n",
    "\n",
    "the only thing that might improve the model's performance is to gather more data (e.g., instead of 344 we need like 1000 data point)"
   ]
  },
  {
   "cell_type": "code",
   "execution_count": 124,
   "id": "1120ff3a-d2d2-4487-8501-96ac3f46e19d",
   "metadata": {},
   "outputs": [
    {
     "data": {
      "text/plain": [
       "MLPClassifier(activation='logistic', max_iter=2500)"
      ]
     },
     "execution_count": 124,
     "metadata": {},
     "output_type": "execute_result"
    }
   ],
   "source": [
    "cv.best_estimator_"
   ]
  },
  {
   "cell_type": "markdown",
   "id": "82e59e7a-d6bd-4e40-8551-b4352635e445",
   "metadata": {
    "jp-MarkdownHeadingCollapsed": true,
    "tags": []
   },
   "source": [
    "#### Learning Curve"
   ]
  },
  {
   "cell_type": "code",
   "execution_count": 125,
   "id": "e9902b65-4228-4398-b136-ca4867e74f25",
   "metadata": {},
   "outputs": [],
   "source": [
    "#citation 3\n",
    "from sklearn.model_selection import learning_curve\n",
    "# the training data is 80% of the whole data --> 275\n",
    "# we are doing 5-fold cross validation with 80% training set and 20% validation set:\n",
    "# 275 training example : 80% training (220) 20% validation (55) in cross validation\n",
    "train_sizes = [5, 50, 100, 150, 200, 220]\n",
    "train_sizes, train_scores, validation_scores = learning_curve(\n",
    "estimator = MLPClassifier(activation='logistic', max_iter=2500),\n",
    "X = tr_features,\n",
    "y = tr_labels.values.ravel(), train_sizes = train_sizes, cv = 5,\n",
    "scoring = 'neg_mean_squared_error')"
   ]
  },
  {
   "cell_type": "code",
   "execution_count": 126,
   "id": "20cadf85-4319-47e4-845c-859a16bc309a",
   "metadata": {},
   "outputs": [
    {
     "name": "stdout",
     "output_type": "stream",
     "text": [
      "Mean training scores\n",
      "\n",
      " 5      0.480000\n",
      "50     0.712000\n",
      "100    1.408000\n",
      "150    0.634667\n",
      "200    0.973000\n",
      "220    0.563636\n",
      "dtype: float64\n",
      "\n",
      " --------------------\n",
      "\n",
      "Mean validation scores\n",
      "\n",
      " 5      0.930909\n",
      "50     0.745455\n",
      "100    1.418182\n",
      "150    0.654545\n",
      "200    0.974545\n",
      "220    0.669091\n",
      "dtype: float64\n"
     ]
    }
   ],
   "source": [
    "train_scores_mean = -train_scores.mean(axis = 1)\n",
    "validation_scores_mean = -validation_scores.mean(axis = 1)\n",
    "print('Mean training scores\\n\\n', pd.Series(train_scores_mean, index = train_sizes))\n",
    "print('\\n', '-' * 20) # separator\n",
    "print('\\nMean validation scores\\n\\n',pd.Series(validation_scores_mean, index = train_sizes))"
   ]
  },
  {
   "cell_type": "code",
   "execution_count": 127,
   "id": "6784d620-d008-4f1d-a1ad-a1435bd58850",
   "metadata": {},
   "outputs": [
    {
     "data": {
      "text/plain": [
       "(0.0, 2.0)"
      ]
     },
     "execution_count": 127,
     "metadata": {},
     "output_type": "execute_result"
    },
    {
     "data": {
      "image/png": "[encoded data removed]",
      "text/plain": [
       "<Figure size 576x396 with 1 Axes>"
      ]
     },
     "metadata": {},
     "output_type": "display_data"
    }
   ],
   "source": [
    "import matplotlib.pyplot as plt\n",
    "\n",
    "plt.style.use('seaborn')\n",
    "plt.plot(train_sizes, train_scores_mean, label = 'Training error')\n",
    "plt.plot(train_sizes, validation_scores_mean, label = 'Validation error')\n",
    "plt.ylabel('MSE', fontsize = 14)\n",
    "plt.xlabel('Training set size', fontsize = 14)\n",
    "plt.title('Learning curves for MLP model', fontsize = 18, y = 1.03)\n",
    "plt.legend()\n",
    "plt.ylim(0,2)"
   ]
  },
  {
   "cell_type": "markdown",
   "id": "1b8966ed-491a-4a77-b5fe-ab64e86e7b48",
   "metadata": {},
   "source": [
    "expect at the smallest and largest training set sizes, the model is making the same amount of error while using both training and validation set suggesting that model is not improving at all as the size changes. Since the error is high, the model has a high bias and because the error scores for both training and validation are close to each other low variance meaning the model is under fitting the data. "
   ]
  },
  {
   "cell_type": "code",
   "execution_count": 128,
   "id": "a5d05025-fd0e-4f14-bc84-11d74fdd3255",
   "metadata": {},
   "outputs": [
    {
     "data": {
      "text/plain": [
       "['MLP_model2.pkl']"
      ]
     },
     "execution_count": 128,
     "metadata": {},
     "output_type": "execute_result"
    }
   ],
   "source": [
    "joblib.dump(cv.best_estimator_, 'MLP_model2.pkl')"
   ]
  },
  {
   "cell_type": "markdown",
   "id": "fb911a52-02a2-4af7-82fe-09044adc0170",
   "metadata": {
    "jp-MarkdownHeadingCollapsed": true,
    "tags": []
   },
   "source": [
    "### **RF**"
   ]
  },
  {
   "cell_type": "code",
   "execution_count": 149,
   "id": "9d124ead-a490-479f-a43f-a9967a589e80",
   "metadata": {},
   "outputs": [],
   "source": [
    "import joblib\n",
    "import pandas as pd\n",
    "from sklearn.ensemble import RandomForestClassifier\n",
    "from sklearn.model_selection import GridSearchCV\n",
    "import warnings\n",
    "warnings.filterwarnings('ignore', category=FutureWarning)\n",
    "warnings.filterwarnings('ignore', category=DeprecationWarning)\n",
    "\n",
    "tr_features = pd.read_csv('train_features2.csv')\n",
    "tr_labels = pd.read_csv('train_labels2.csv')"
   ]
  },
  {
   "cell_type": "markdown",
   "id": "757bfa71-220f-4c7d-8982-21dccc6cfec9",
   "metadata": {
    "jp-MarkdownHeadingCollapsed": true,
    "tags": []
   },
   "source": [
    "#### Hyperparameter tuning: n-estimators, max-depth"
   ]
  },
  {
   "cell_type": "code",
   "execution_count": 150,
   "id": "8cd879a2-71c6-4128-a523-34bfe19755f9",
   "metadata": {},
   "outputs": [
    {
     "name": "stdout",
     "output_type": "stream",
     "text": [
      "BEST PARAMS: {'max_depth': 32, 'n_estimators': 250}\n",
      "\n",
      "0.931 (+/-0.106) for {'max_depth': 2, 'n_estimators': 5}\n",
      "0.967 (+/-0.015) for {'max_depth': 2, 'n_estimators': 50}\n",
      "0.967 (+/-0.027) for {'max_depth': 2, 'n_estimators': 250}\n",
      "0.949 (+/-0.081) for {'max_depth': 4, 'n_estimators': 5}\n",
      "0.971 (+/-0.037) for {'max_depth': 4, 'n_estimators': 50}\n",
      "0.971 (+/-0.018) for {'max_depth': 4, 'n_estimators': 250}\n",
      "0.96 (+/-0.027) for {'max_depth': 8, 'n_estimators': 5}\n",
      "0.971 (+/-0.037) for {'max_depth': 8, 'n_estimators': 50}\n",
      "0.978 (+/-0.042) for {'max_depth': 8, 'n_estimators': 250}\n",
      "0.971 (+/-0.037) for {'max_depth': 16, 'n_estimators': 5}\n",
      "0.971 (+/-0.018) for {'max_depth': 16, 'n_estimators': 50}\n",
      "0.975 (+/-0.044) for {'max_depth': 16, 'n_estimators': 250}\n",
      "0.978 (+/-0.036) for {'max_depth': 32, 'n_estimators': 5}\n",
      "0.978 (+/-0.042) for {'max_depth': 32, 'n_estimators': 50}\n",
      "0.982 (+/-0.033) for {'max_depth': 32, 'n_estimators': 250}\n",
      "0.967 (+/-0.027) for {'max_depth': None, 'n_estimators': 5}\n",
      "0.971 (+/-0.037) for {'max_depth': None, 'n_estimators': 50}\n",
      "0.982 (+/-0.033) for {'max_depth': None, 'n_estimators': 250}\n"
     ]
    }
   ],
   "source": [
    "rf = RandomForestClassifier()\n",
    "parameters = {\n",
    "    'n_estimators': [5, 50, 250],\n",
    "    'max_depth': [2, 4, 8, 16, 32, None]\n",
    "}\n",
    "\n",
    "cv = GridSearchCV(rf, parameters, cv=5)\n",
    "cv.fit(tr_features, tr_labels.values.ravel())\n",
    "\n",
    "print_results(cv)"
   ]
  },
  {
   "cell_type": "markdown",
   "id": "b239fdf2-57a6-4282-b5ae-fe4bf100e548",
   "metadata": {},
   "source": [
    "both n_estimator parameter and max_depth are affecting the performance of model with n-estimators having a greater effect. When max_depth = 32 and there are 250 estimators, the model achieves its highest performance of 98.2%"
   ]
  },
  {
   "cell_type": "code",
   "execution_count": 151,
   "id": "63f7a947-63f3-4049-9512-7f1ea559cebf",
   "metadata": {},
   "outputs": [
    {
     "data": {
      "text/plain": [
       "RandomForestClassifier(max_depth=32, n_estimators=250)"
      ]
     },
     "execution_count": 151,
     "metadata": {},
     "output_type": "execute_result"
    }
   ],
   "source": [
    "cv.best_estimator_"
   ]
  },
  {
   "cell_type": "markdown",
   "id": "88552441-2d7e-4604-8a19-26f5dfd7658f",
   "metadata": {
    "jp-MarkdownHeadingCollapsed": true,
    "tags": []
   },
   "source": [
    "#### learning curve"
   ]
  },
  {
   "cell_type": "code",
   "execution_count": 152,
   "id": "7d0230ae-9319-4bbf-b919-9e7584aeb3ad",
   "metadata": {},
   "outputs": [],
   "source": [
    "#citation 3\n",
    "from sklearn.model_selection import learning_curve\n",
    "# the training data is 80% of the whole data --> 275\n",
    "# we are doing 5-fold cross validation with 80% training set and 20% validation set:\n",
    "# 275 training example : 80% training (220) 20% validation (55) in cross validation\n",
    "train_sizes = [5, 50, 100, 150, 200, 220]\n",
    "train_sizes, train_scores, validation_scores = learning_curve(\n",
    "estimator = RandomForestClassifier(max_depth=8, n_estimators=250),\n",
    "X = tr_features,\n",
    "y = tr_labels.values.ravel(), train_sizes = train_sizes, cv = 5,\n",
    "scoring = 'neg_mean_squared_error')"
   ]
  },
  {
   "cell_type": "code",
   "execution_count": 153,
   "id": "3c3e30ae-86e5-4bd6-b790-65921b7c451f",
   "metadata": {},
   "outputs": [
    {
     "name": "stdout",
     "output_type": "stream",
     "text": [
      "Mean training scores\n",
      "\n",
      " 5     -0.0\n",
      "50    -0.0\n",
      "100   -0.0\n",
      "150   -0.0\n",
      "200   -0.0\n",
      "220   -0.0\n",
      "dtype: float64\n",
      "\n",
      " --------------------\n",
      "\n",
      "Mean validation scores\n",
      "\n",
      " 5      0.276364\n",
      "50     0.072727\n",
      "100    0.061818\n",
      "150    0.050909\n",
      "200    0.032727\n",
      "220    0.047273\n",
      "dtype: float64\n"
     ]
    }
   ],
   "source": [
    "train_scores_mean = -train_scores.mean(axis = 1)\n",
    "validation_scores_mean = -validation_scores.mean(axis = 1)\n",
    "print('Mean training scores\\n\\n', pd.Series(train_scores_mean, index = train_sizes))\n",
    "print('\\n', '-' * 20) # separator\n",
    "print('\\nMean validation scores\\n\\n',pd.Series(validation_scores_mean, index = train_sizes))"
   ]
  },
  {
   "cell_type": "markdown",
   "id": "7d6ed646-25d7-4683-ae6e-b6d7f1ddbfff",
   "metadata": {},
   "source": [
    "like previous model The validation error is high for the smaller set as it should and as the model starts making better generalization as the training size increases, the validation error gradually decreases however when the sample size exceeds 200 the validation starts increasing than decreasing. "
   ]
  },
  {
   "cell_type": "code",
   "execution_count": 155,
   "id": "af0c8b83-570d-4c55-97e0-b0e5b3e1769b",
   "metadata": {},
   "outputs": [
    {
     "data": {
      "text/plain": [
       "(0.0, 0.5)"
      ]
     },
     "execution_count": 155,
     "metadata": {},
     "output_type": "execute_result"
    },
    {
     "data": {
      "image/png": "[encoded data removed]",
      "text/plain": [
       "<Figure size 576x396 with 1 Axes>"
      ]
     },
     "metadata": {},
     "output_type": "display_data"
    }
   ],
   "source": [
    "import matplotlib.pyplot as plt\n",
    "\n",
    "plt.style.use('seaborn')\n",
    "plt.plot(train_sizes, train_scores_mean, label = 'Training error')\n",
    "plt.plot(train_sizes, validation_scores_mean, label = 'Validation error')\n",
    "plt.ylabel('MSE', fontsize = 14)\n",
    "plt.xlabel('Training set size', fontsize = 14)\n",
    "plt.title('Learning curves for RF model', fontsize = 18, y = 1.03)\n",
    "plt.legend()\n",
    "plt.ylim(0,0.5)"
   ]
  },
  {
   "cell_type": "markdown",
   "id": "2526336a-7d83-4aeb-a802-8221b1275708",
   "metadata": {},
   "source": [
    "As discussed previously, the RF model overfits our data the slight increase increase in bias and variance does not change this fact however there is a possibility that gather more actual data and increasing the overall size of our dataset might improve this model's performance. But for the current situation, this model is not suitable to solve our problem. "
   ]
  },
  {
   "cell_type": "code",
   "execution_count": 156,
   "id": "38fc028e-4af9-4bf9-96d3-f84550834dd9",
   "metadata": {},
   "outputs": [
    {
     "data": {
      "text/plain": [
       "['RF_model2.pkl']"
      ]
     },
     "execution_count": 156,
     "metadata": {},
     "output_type": "execute_result"
    }
   ],
   "source": [
    "joblib.dump(cv.best_estimator_, 'RF_model2.pkl')"
   ]
  },
  {
   "cell_type": "markdown",
   "id": "07f6df16-e58f-4846-bd75-d73535598261",
   "metadata": {
    "jp-MarkdownHeadingCollapsed": true,
    "tags": []
   },
   "source": [
    "### **Boosting**"
   ]
  },
  {
   "cell_type": "markdown",
   "id": "8313f1f5-0fb8-4afa-9997-d2b6e67e169b",
   "metadata": {
    "jp-MarkdownHeadingCollapsed": true,
    "tags": []
   },
   "source": [
    "#### Hyperparameter Tunning: n-estimators, max_depth, & learning_rate Tuning"
   ]
  },
  {
   "cell_type": "code",
   "execution_count": 157,
   "id": "2f2ae464-278b-49cc-9c05-48506163111e",
   "metadata": {},
   "outputs": [
    {
     "name": "stdout",
     "output_type": "stream",
     "text": [
      "BEST PARAMS: {'learning_rate': 1, 'max_depth': 3, 'n_estimators': 50}\n",
      "\n",
      "0.436 (+/-0.0) for {'learning_rate': 0.01, 'max_depth': 1, 'n_estimators': 5}\n",
      "0.938 (+/-0.037) for {'learning_rate': 0.01, 'max_depth': 1, 'n_estimators': 50}\n",
      "0.956 (+/-0.037) for {'learning_rate': 0.01, 'max_depth': 1, 'n_estimators': 250}\n",
      "0.967 (+/-0.027) for {'learning_rate': 0.01, 'max_depth': 1, 'n_estimators': 500}\n",
      "0.436 (+/-0.0) for {'learning_rate': 0.01, 'max_depth': 3, 'n_estimators': 5}\n",
      "0.975 (+/-0.018) for {'learning_rate': 0.01, 'max_depth': 3, 'n_estimators': 50}\n",
      "0.975 (+/-0.018) for {'learning_rate': 0.01, 'max_depth': 3, 'n_estimators': 250}\n",
      "0.971 (+/-0.018) for {'learning_rate': 0.01, 'max_depth': 3, 'n_estimators': 500}\n",
      "0.436 (+/-0.0) for {'learning_rate': 0.01, 'max_depth': 5, 'n_estimators': 5}\n",
      "0.975 (+/-0.037) for {'learning_rate': 0.01, 'max_depth': 5, 'n_estimators': 50}\n",
      "0.971 (+/-0.037) for {'learning_rate': 0.01, 'max_depth': 5, 'n_estimators': 250}\n",
      "0.971 (+/-0.037) for {'learning_rate': 0.01, 'max_depth': 5, 'n_estimators': 500}\n",
      "0.436 (+/-0.0) for {'learning_rate': 0.01, 'max_depth': 7, 'n_estimators': 5}\n",
      "0.975 (+/-0.037) for {'learning_rate': 0.01, 'max_depth': 7, 'n_estimators': 50}\n",
      "0.971 (+/-0.037) for {'learning_rate': 0.01, 'max_depth': 7, 'n_estimators': 250}\n",
      "0.975 (+/-0.037) for {'learning_rate': 0.01, 'max_depth': 7, 'n_estimators': 500}\n",
      "0.436 (+/-0.0) for {'learning_rate': 0.01, 'max_depth': 9, 'n_estimators': 5}\n",
      "0.975 (+/-0.037) for {'learning_rate': 0.01, 'max_depth': 9, 'n_estimators': 50}\n",
      "0.971 (+/-0.037) for {'learning_rate': 0.01, 'max_depth': 9, 'n_estimators': 250}\n",
      "0.975 (+/-0.037) for {'learning_rate': 0.01, 'max_depth': 9, 'n_estimators': 500}\n",
      "0.942 (+/-0.042) for {'learning_rate': 0.1, 'max_depth': 1, 'n_estimators': 5}\n",
      "0.967 (+/-0.027) for {'learning_rate': 0.1, 'max_depth': 1, 'n_estimators': 50}\n",
      "0.978 (+/-0.042) for {'learning_rate': 0.1, 'max_depth': 1, 'n_estimators': 250}\n",
      "0.975 (+/-0.054) for {'learning_rate': 0.1, 'max_depth': 1, 'n_estimators': 500}\n",
      "0.971 (+/-0.029) for {'learning_rate': 0.1, 'max_depth': 3, 'n_estimators': 5}\n",
      "0.971 (+/-0.018) for {'learning_rate': 0.1, 'max_depth': 3, 'n_estimators': 50}\n",
      "0.978 (+/-0.027) for {'learning_rate': 0.1, 'max_depth': 3, 'n_estimators': 250}\n",
      "0.975 (+/-0.037) for {'learning_rate': 0.1, 'max_depth': 3, 'n_estimators': 500}\n",
      "0.975 (+/-0.037) for {'learning_rate': 0.1, 'max_depth': 5, 'n_estimators': 5}\n",
      "0.971 (+/-0.037) for {'learning_rate': 0.1, 'max_depth': 5, 'n_estimators': 50}\n",
      "0.971 (+/-0.037) for {'learning_rate': 0.1, 'max_depth': 5, 'n_estimators': 250}\n",
      "0.964 (+/-0.04) for {'learning_rate': 0.1, 'max_depth': 5, 'n_estimators': 500}\n",
      "0.975 (+/-0.037) for {'learning_rate': 0.1, 'max_depth': 7, 'n_estimators': 5}\n",
      "0.971 (+/-0.037) for {'learning_rate': 0.1, 'max_depth': 7, 'n_estimators': 50}\n",
      "0.971 (+/-0.037) for {'learning_rate': 0.1, 'max_depth': 7, 'n_estimators': 250}\n",
      "0.964 (+/-0.04) for {'learning_rate': 0.1, 'max_depth': 7, 'n_estimators': 500}\n",
      "0.975 (+/-0.037) for {'learning_rate': 0.1, 'max_depth': 9, 'n_estimators': 5}\n",
      "0.975 (+/-0.037) for {'learning_rate': 0.1, 'max_depth': 9, 'n_estimators': 50}\n",
      "0.971 (+/-0.037) for {'learning_rate': 0.1, 'max_depth': 9, 'n_estimators': 250}\n",
      "0.964 (+/-0.04) for {'learning_rate': 0.1, 'max_depth': 9, 'n_estimators': 500}\n",
      "0.971 (+/-0.029) for {'learning_rate': 1, 'max_depth': 1, 'n_estimators': 5}\n",
      "0.978 (+/-0.042) for {'learning_rate': 1, 'max_depth': 1, 'n_estimators': 50}\n",
      "0.978 (+/-0.042) for {'learning_rate': 1, 'max_depth': 1, 'n_estimators': 250}\n",
      "0.978 (+/-0.042) for {'learning_rate': 1, 'max_depth': 1, 'n_estimators': 500}\n",
      "0.975 (+/-0.018) for {'learning_rate': 1, 'max_depth': 3, 'n_estimators': 5}\n",
      "0.982 (+/-0.023) for {'learning_rate': 1, 'max_depth': 3, 'n_estimators': 50}\n",
      "0.978 (+/-0.027) for {'learning_rate': 1, 'max_depth': 3, 'n_estimators': 250}\n",
      "0.975 (+/-0.018) for {'learning_rate': 1, 'max_depth': 3, 'n_estimators': 500}\n",
      "0.96 (+/-0.015) for {'learning_rate': 1, 'max_depth': 5, 'n_estimators': 5}\n",
      "0.964 (+/-0.023) for {'learning_rate': 1, 'max_depth': 5, 'n_estimators': 50}\n",
      "0.953 (+/-0.029) for {'learning_rate': 1, 'max_depth': 5, 'n_estimators': 250}\n",
      "0.949 (+/-0.048) for {'learning_rate': 1, 'max_depth': 5, 'n_estimators': 500}\n",
      "0.96 (+/-0.015) for {'learning_rate': 1, 'max_depth': 7, 'n_estimators': 5}\n",
      "0.964 (+/-0.023) for {'learning_rate': 1, 'max_depth': 7, 'n_estimators': 50}\n",
      "0.96 (+/-0.015) for {'learning_rate': 1, 'max_depth': 7, 'n_estimators': 250}\n",
      "0.964 (+/-0.033) for {'learning_rate': 1, 'max_depth': 7, 'n_estimators': 500}\n",
      "0.96 (+/-0.015) for {'learning_rate': 1, 'max_depth': 9, 'n_estimators': 5}\n",
      "0.96 (+/-0.015) for {'learning_rate': 1, 'max_depth': 9, 'n_estimators': 50}\n",
      "0.96 (+/-0.015) for {'learning_rate': 1, 'max_depth': 9, 'n_estimators': 250}\n",
      "0.96 (+/-0.027) for {'learning_rate': 1, 'max_depth': 9, 'n_estimators': 500}\n",
      "0.502 (+/-0.396) for {'learning_rate': 10, 'max_depth': 1, 'n_estimators': 5}\n",
      "0.502 (+/-0.396) for {'learning_rate': 10, 'max_depth': 1, 'n_estimators': 50}\n",
      "0.502 (+/-0.396) for {'learning_rate': 10, 'max_depth': 1, 'n_estimators': 250}\n",
      "0.502 (+/-0.396) for {'learning_rate': 10, 'max_depth': 1, 'n_estimators': 500}\n",
      "0.542 (+/-0.705) for {'learning_rate': 10, 'max_depth': 3, 'n_estimators': 5}\n",
      "0.644 (+/-0.725) for {'learning_rate': 10, 'max_depth': 3, 'n_estimators': 50}\n",
      "0.647 (+/-0.731) for {'learning_rate': 10, 'max_depth': 3, 'n_estimators': 250}\n",
      "0.647 (+/-0.731) for {'learning_rate': 10, 'max_depth': 3, 'n_estimators': 500}\n",
      "0.956 (+/-0.059) for {'learning_rate': 10, 'max_depth': 5, 'n_estimators': 5}\n",
      "0.956 (+/-0.044) for {'learning_rate': 10, 'max_depth': 5, 'n_estimators': 50}\n",
      "0.956 (+/-0.049) for {'learning_rate': 10, 'max_depth': 5, 'n_estimators': 250}\n",
      "0.945 (+/-0.033) for {'learning_rate': 10, 'max_depth': 5, 'n_estimators': 500}\n",
      "0.96 (+/-0.042) for {'learning_rate': 10, 'max_depth': 7, 'n_estimators': 5}\n",
      "0.953 (+/-0.049) for {'learning_rate': 10, 'max_depth': 7, 'n_estimators': 50}\n",
      "0.953 (+/-0.049) for {'learning_rate': 10, 'max_depth': 7, 'n_estimators': 250}\n",
      "0.949 (+/-0.053) for {'learning_rate': 10, 'max_depth': 7, 'n_estimators': 500}\n",
      "0.956 (+/-0.044) for {'learning_rate': 10, 'max_depth': 9, 'n_estimators': 5}\n",
      "0.953 (+/-0.054) for {'learning_rate': 10, 'max_depth': 9, 'n_estimators': 50}\n",
      "0.956 (+/-0.049) for {'learning_rate': 10, 'max_depth': 9, 'n_estimators': 250}\n",
      "0.953 (+/-0.049) for {'learning_rate': 10, 'max_depth': 9, 'n_estimators': 500}\n",
      "0.425 (+/-0.266) for {'learning_rate': 100, 'max_depth': 1, 'n_estimators': 5}\n",
      "0.425 (+/-0.266) for {'learning_rate': 100, 'max_depth': 1, 'n_estimators': 50}\n",
      "0.425 (+/-0.266) for {'learning_rate': 100, 'max_depth': 1, 'n_estimators': 250}\n",
      "0.425 (+/-0.266) for {'learning_rate': 100, 'max_depth': 1, 'n_estimators': 500}\n",
      "0.716 (+/-0.526) for {'learning_rate': 100, 'max_depth': 3, 'n_estimators': 5}\n",
      "0.829 (+/-0.332) for {'learning_rate': 100, 'max_depth': 3, 'n_estimators': 50}\n",
      "0.731 (+/-0.506) for {'learning_rate': 100, 'max_depth': 3, 'n_estimators': 250}\n",
      "0.716 (+/-0.526) for {'learning_rate': 100, 'max_depth': 3, 'n_estimators': 500}\n",
      "0.949 (+/-0.048) for {'learning_rate': 100, 'max_depth': 5, 'n_estimators': 5}\n",
      "0.956 (+/-0.029) for {'learning_rate': 100, 'max_depth': 5, 'n_estimators': 50}\n",
      "0.96 (+/-0.036) for {'learning_rate': 100, 'max_depth': 5, 'n_estimators': 250}\n",
      "0.953 (+/-0.037) for {'learning_rate': 100, 'max_depth': 5, 'n_estimators': 500}\n",
      "0.945 (+/-0.046) for {'learning_rate': 100, 'max_depth': 7, 'n_estimators': 5}\n",
      "0.953 (+/-0.037) for {'learning_rate': 100, 'max_depth': 7, 'n_estimators': 50}\n",
      "0.956 (+/-0.029) for {'learning_rate': 100, 'max_depth': 7, 'n_estimators': 250}\n",
      "0.956 (+/-0.029) for {'learning_rate': 100, 'max_depth': 7, 'n_estimators': 500}\n",
      "0.956 (+/-0.044) for {'learning_rate': 100, 'max_depth': 9, 'n_estimators': 5}\n",
      "0.949 (+/-0.048) for {'learning_rate': 100, 'max_depth': 9, 'n_estimators': 50}\n",
      "0.956 (+/-0.029) for {'learning_rate': 100, 'max_depth': 9, 'n_estimators': 250}\n",
      "0.953 (+/-0.029) for {'learning_rate': 100, 'max_depth': 9, 'n_estimators': 500}\n"
     ]
    }
   ],
   "source": [
    "from sklearn.ensemble import GradientBoostingClassifier\n",
    "\n",
    "gb = GradientBoostingClassifier()\n",
    "parameters = {\n",
    "    'n_estimators': [5, 50, 250, 500],\n",
    "    'max_depth': [1, 3, 5, 7, 9],\n",
    "    'learning_rate': [0.01, 0.1, 1, 10, 100]\n",
    "}\n",
    "\n",
    "cv = GridSearchCV(gb, parameters, cv=5)\n",
    "cv.fit(tr_features, tr_labels.values.ravel())\n",
    "\n",
    "print_results(cv)"
   ]
  },
  {
   "cell_type": "markdown",
   "id": "2c24d2fb-f663-4638-a46e-81ae89d0f448",
   "metadata": {},
   "source": [
    "overall the model has the best performance (98.2%) with learning rate of 1, max_depth of 3 and 50 estimators which is slightly lower than the GB model in the previous split ratio. "
   ]
  },
  {
   "cell_type": "code",
   "execution_count": 158,
   "id": "96012b88-4348-4ab7-88c1-f10ebf526800",
   "metadata": {},
   "outputs": [
    {
     "data": {
      "text/plain": [
       "GradientBoostingClassifier(learning_rate=1, n_estimators=50)"
      ]
     },
     "execution_count": 158,
     "metadata": {},
     "output_type": "execute_result"
    }
   ],
   "source": [
    "cv.best_estimator_"
   ]
  },
  {
   "cell_type": "markdown",
   "id": "4a7f2e21-3de8-4d42-b8c0-afb8a895e59f",
   "metadata": {
    "jp-MarkdownHeadingCollapsed": true,
    "tags": []
   },
   "source": [
    "#### Learning Curve"
   ]
  },
  {
   "cell_type": "code",
   "execution_count": 159,
   "id": "3fb42260-8f9a-498d-b911-6cca601f837c",
   "metadata": {},
   "outputs": [],
   "source": [
    "#citation 3\n",
    "from sklearn.model_selection import learning_curve\n",
    "# the training data is 80% of the whole data --> 275\n",
    "# we are doing 5-fold cross validation with 80% training set and 20% validation set:\n",
    "# 275 training example : 80% training (220) 20% validation (55) in cross validation\n",
    "train_sizes = [5, 50, 100, 150, 200, 220]\n",
    "train_sizes, train_scores, validation_scores = learning_curve(\n",
    "estimator = GradientBoostingClassifier(learning_rate=1, n_estimators=50),\n",
    "X = tr_features,\n",
    "y = tr_labels.values.ravel(), train_sizes = train_sizes, cv = 5,\n",
    "scoring = 'neg_mean_squared_error')"
   ]
  },
  {
   "cell_type": "code",
   "execution_count": 160,
   "id": "0373d0ee-917b-4773-9567-423102f4fac2",
   "metadata": {},
   "outputs": [
    {
     "name": "stdout",
     "output_type": "stream",
     "text": [
      "Mean training scores\n",
      "\n",
      " 5     -0.0\n",
      "50    -0.0\n",
      "100   -0.0\n",
      "150   -0.0\n",
      "200   -0.0\n",
      "220   -0.0\n",
      "dtype: float64\n",
      "\n",
      " --------------------\n",
      "\n",
      "Mean validation scores\n",
      "\n",
      " 5      0.363636\n",
      "50     0.152727\n",
      "100    0.047273\n",
      "150    0.061818\n",
      "200    0.036364\n",
      "220    0.029091\n",
      "dtype: float64\n"
     ]
    }
   ],
   "source": [
    "train_scores_mean = -train_scores.mean(axis = 1)\n",
    "validation_scores_mean = -validation_scores.mean(axis = 1)\n",
    "print('Mean training scores\\n\\n', pd.Series(train_scores_mean, index = train_sizes))\n",
    "print('\\n', '-' * 20) # separator\n",
    "print('\\nMean validation scores\\n\\n',pd.Series(validation_scores_mean, index = train_sizes))"
   ]
  },
  {
   "cell_type": "code",
   "execution_count": 161,
   "id": "c89f6623-ecc1-43d6-a25d-f90bc745a94b",
   "metadata": {},
   "outputs": [
    {
     "data": {
      "text/plain": [
       "(0.0, 0.6)"
      ]
     },
     "execution_count": 161,
     "metadata": {},
     "output_type": "execute_result"
    },
    {
     "data": {
      "image/png": "[encoded data removed]",
      "text/plain": [
       "<Figure size 576x396 with 1 Axes>"
      ]
     },
     "metadata": {},
     "output_type": "display_data"
    }
   ],
   "source": [
    "import matplotlib.pyplot as plt\n",
    "\n",
    "plt.style.use('seaborn')\n",
    "plt.plot(train_sizes, train_scores_mean, label = 'Training error')\n",
    "plt.plot(train_sizes, validation_scores_mean, label = 'Validation error')\n",
    "plt.ylabel('MSE', fontsize = 14)\n",
    "plt.xlabel('Training set size', fontsize = 14)\n",
    "plt.title('Learning curves for GB model', fontsize = 18, y = 1.03)\n",
    "plt.legend()\n",
    "plt.ylim(0,0.6)"
   ]
  },
  {
   "cell_type": "markdown",
   "id": "7e87aaba-73ab-4378-8be7-9af9141f47bc",
   "metadata": {},
   "source": [
    "Compare to the GB model from the previous split, the model has slightly higher variance suggesting that even when increasing the data point in the training set, GB model still overfits the data and not suitable to solve our problem"
   ]
  },
  {
   "cell_type": "code",
   "execution_count": 162,
   "id": "bffe04f2-8320-4dc8-a7aa-8d422b163cf1",
   "metadata": {},
   "outputs": [
    {
     "data": {
      "text/plain": [
       "['GB_model2.pkl']"
      ]
     },
     "execution_count": 162,
     "metadata": {},
     "output_type": "execute_result"
    }
   ],
   "source": [
    "joblib.dump(cv.best_estimator_, 'GB_model2.pkl')"
   ]
  },
  {
   "cell_type": "markdown",
   "id": "c54aaf11-b882-471b-bca9-bfb03b7fe1d8",
   "metadata": {
    "jp-MarkdownHeadingCollapsed": true,
    "tags": []
   },
   "source": [
    "### **Model comparison**"
   ]
  },
  {
   "cell_type": "markdown",
   "id": "ce27ef6b-1b91-4f3c-91da-666477ca76d5",
   "metadata": {
    "jp-MarkdownHeadingCollapsed": true,
    "tags": []
   },
   "source": [
    "#### Read in Data"
   ]
  },
  {
   "cell_type": "code",
   "execution_count": 163,
   "id": "18cbe137-3dfd-43fa-aeb5-a4d8f611767e",
   "metadata": {},
   "outputs": [],
   "source": [
    "import joblib\n",
    "import pandas as pd\n",
    "from sklearn.metrics import accuracy_score, precision_score, recall_score\n",
    "from time import time\n",
    "\n",
    "val_features = pd.read_csv('val_features2.csv')\n",
    "val_labels = pd.read_csv('val_labels2.csv')\n",
    "\n",
    "te_features = pd.read_csv('test_features2.csv')\n",
    "te_labels = pd.read_csv('test_labels2.csv')"
   ]
  },
  {
   "cell_type": "markdown",
   "id": "d72e3d54-4446-453f-86ff-01294994c597",
   "metadata": {
    "jp-MarkdownHeadingCollapsed": true,
    "tags": []
   },
   "source": [
    "#### Read in Models"
   ]
  },
  {
   "cell_type": "code",
   "execution_count": 164,
   "id": "b9e5a44e-4bc2-4480-a758-f4fb7db253d2",
   "metadata": {},
   "outputs": [],
   "source": [
    "models = {}\n",
    "\n",
    "for mdl in ['LR', 'SVM', 'MLP', 'RF', 'GB']:\n",
    "    models[mdl] = joblib.load('{}_model2.pkl'.format(mdl))"
   ]
  },
  {
   "cell_type": "code",
   "execution_count": 165,
   "id": "2d38d03b-e4e5-4c6b-a344-858e63e687a4",
   "metadata": {},
   "outputs": [
    {
     "data": {
      "text/plain": [
       "{'LR': LogisticRegression(C=1, max_iter=4500),\n",
       " 'SVM': SVC(C=0.1, kernel='linear'),\n",
       " 'MLP': MLPClassifier(activation='logistic', max_iter=2500),\n",
       " 'RF': RandomForestClassifier(max_depth=32, n_estimators=250),\n",
       " 'GB': GradientBoostingClassifier(learning_rate=1, n_estimators=50)}"
      ]
     },
     "execution_count": 165,
     "metadata": {},
     "output_type": "execute_result"
    }
   ],
   "source": [
    "models"
   ]
  },
  {
   "cell_type": "markdown",
   "id": "d0e12929-e6a2-42aa-aaa0-86d1edd34170",
   "metadata": {
    "jp-MarkdownHeadingCollapsed": true,
    "tags": []
   },
   "source": [
    "#### Evaluate models on the validation set"
   ]
  },
  {
   "cell_type": "code",
   "execution_count": 166,
   "id": "df4f8a60-8467-4b35-a17e-7ed466fa879f",
   "metadata": {},
   "outputs": [],
   "source": [
    "def evaluate_model(name, model, features, labels):\n",
    "    start = time()\n",
    "    pred = model.predict(features)\n",
    "    end = time()\n",
    "    latency = round((end - start)*1000, 1)\n",
    "    accuracy = round(accuracy_score(labels, pred), 3)\n",
    "    precision = round(precision_score(labels, pred, average='macro'), 3)\n",
    "    recall = round(recall_score(labels, pred, average='macro'), 3)\n",
    "    print('{} --> Accuracy= {} | Precision= {} | Recall= {} | Latency= {}ms'.format(name, accuracy, precision, recall, latency ))"
   ]
  },
  {
   "cell_type": "code",
   "execution_count": 167,
   "id": "9ffb45a9-8391-4658-b1bf-a14b821b79aa",
   "metadata": {},
   "outputs": [
    {
     "name": "stdout",
     "output_type": "stream",
     "text": [
      "LR --> Accuracy= 1.0 | Precision= 1.0 | Recall= 1.0 | Latency= 1.0ms\n",
      "SVM --> Accuracy= 1.0 | Precision= 1.0 | Recall= 1.0 | Latency= 2.0ms\n",
      "MLP --> Accuracy= 0.971 | Precision= 0.972 | Recall= 0.982 | Latency= 1.5ms\n",
      "RF --> Accuracy= 0.971 | Precision= 0.972 | Recall= 0.982 | Latency= 21.0ms\n",
      "GB --> Accuracy= 0.971 | Precision= 0.972 | Recall= 0.982 | Latency= 2.0ms\n"
     ]
    }
   ],
   "source": [
    "for name, mdl in models.items():\n",
    "    evaluate_model(name, mdl, val_features, val_labels)"
   ]
  },
  {
   "cell_type": "markdown",
   "id": "fb651d90-b623-4528-8508-bcc1dc9a478c",
   "metadata": {},
   "source": [
    "We can see that with the new split ratio, the overall accuracy score increased for all algorithms. The precision and recall increased for LR, SVM, and MLP while it decreased slightly for RF and GB. Based on this result again LR and SVM are both suitable for solving this problem with 100% accuracy, precision and recall scores. The only difference between the two model is in their latency where LR is twice as fast as SVM makeing it a better choice. \n",
    "\n",
    "evaluation result from 60:20:20\n",
    "\n",
    "LR --> Accuracy= 0.986 | Precision= 0.987 | Recall= 0.99 | Latency= 1.0ms\n",
    "\n",
    "SVM --> Accuracy= 0.986 | Precision= 0.99 | Recall= 0.972 | Latency= 0.8ms\n",
    "\n",
    "MLP --> Accuracy= 0.681 | Precision= 0.454 | Recall= 0.56 | Latency= 1.0ms\n",
    "\n",
    "RF --> Accuracy= 0.986 | Precision= 0.974 | Recall= 0.99 | Latency= 21.0ms\n",
    "\n",
    "GB --> Accuracy= 0.986 | Precision= 0.974 | Recall= 0.99 | Latency= 1.0ms\n",
    "\n"
   ]
  },
  {
   "cell_type": "markdown",
   "id": "63a18f18-0b72-4dff-992d-2d60b57f5097",
   "metadata": {
    "jp-MarkdownHeadingCollapsed": true,
    "tags": []
   },
   "source": [
    "#### evaluate models on test set"
   ]
  },
  {
   "cell_type": "code",
   "execution_count": 168,
   "id": "6b399d7c-11f0-407b-a0f3-198b0c188a0c",
   "metadata": {},
   "outputs": [
    {
     "name": "stdout",
     "output_type": "stream",
     "text": [
      "LR --> Accuracy= 1.0 | Precision= 1.0 | Recall= 1.0 | Latency= 2.0ms\n",
      "SVM --> Accuracy= 0.971 | Precision= 0.976 | Recall= 0.97 | Latency= 1.0ms\n",
      "MLP --> Accuracy= 0.941 | Precision= 0.944 | Recall= 0.944 | Latency= 1.0ms\n",
      "RF --> Accuracy= 1.0 | Precision= 1.0 | Recall= 1.0 | Latency= 22.6ms\n",
      "GB --> Accuracy= 0.971 | Precision= 0.976 | Recall= 0.97 | Latency= 2.0ms\n"
     ]
    }
   ],
   "source": [
    "for name, mdl in models.items():\n",
    "    evaluate_model(name, mdl, te_features, te_labels)"
   ]
  },
  {
   "cell_type": "markdown",
   "id": "a5fe9bc2-87ea-4022-9ba4-67957c7551fc",
   "metadata": {},
   "source": [
    "by running the models on the test set we can see that LR and RF did better than rest of the models. However given the RF's lower scores when evaluating the model using validation set and it's tendency to overfit compared to LR during learning curve analysis, we can conclude that LR is best model when it comes to solving this problem with split ratio of 80:10:10"
   ]
  },
  {
   "cell_type": "markdown",
   "id": "b80fe198-1e63-4dcb-82d8-6097e275a230",
   "metadata": {
    "jp-MarkdownHeadingCollapsed": true,
    "tags": []
   },
   "source": [
    "## **Part V: Conclusion**"
   ]
  },
  {
   "cell_type": "markdown",
   "id": "99fa6644-446f-4d2f-893d-9c7985530bad",
   "metadata": {},
   "source": [
    "When splitting the data 60:20:20 we found that SVM model is the best model with accuracy of 98.6%, precision of 99%, recall of 98.7% and latency of 1.5 ms and when splitting the data 80:10:10 we found that LR model with accuracy, precision, and recall of 100% and latency of 2 ms was the best model to solve our problem. During our learning curve analysis we noticed that model performance drops  slightly for the higher splitting ratio compare to the lower one. We also noted that the latency almost doubles when we have higher ratio. \n",
    "\n",
    "Deciding on which split ratio is better than other depends on few factors. If the accuracy and precision of the model is of concern then split ratio of 80:10:10 is better choice even though the computation is slightly more expensive and takes longer for the model to make prediction. However, if the responsive of the model is concerned (for example the model need to make prediction in real time) the 60:20:20 with SVM model would be a better fit. "
   ]
  },
  {
   "cell_type": "code",
   "execution_count": null,
   "id": "a9c9c895-0908-46f4-9416-f806e67a010f",
   "metadata": {},
   "outputs": [],
   "source": []
  }
 ],
 "metadata": {
  "kernelspec": {
   "display_name": "Python 3 (ipykernel)",
   "language": "python",
   "name": "python3"
  },
  "language_info": {
   "codemirror_mode": {
    "name": "ipython",
    "version": 3
   },
   "file_extension": ".py",
   "mimetype": "text/x-python",
   "name": "python",
   "nbconvert_exporter": "python",
   "pygments_lexer": "ipython3",
   "version": "3.9.7"
  }
 },
 "nbformat": 4,
 "nbformat_minor": 5
}
